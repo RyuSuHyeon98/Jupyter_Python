{
 "cells": [
  {
   "cell_type": "markdown",
   "id": "0539d1c3",
   "metadata": {},
   "source": [
    "## 정렬, 참조, 복사"
   ]
  },
  {
   "cell_type": "code",
   "execution_count": 117,
   "id": "6eb01e42",
   "metadata": {},
   "outputs": [],
   "source": [
    "import numpy as np\n",
    "\n",
    "def np_print(arr):\n",
    "    text = '''\n",
    "    type : {}\n",
    "    shape : {}\n",
    "    ndim : {}\n",
    "    dtype : {}\n",
    "    array data : \\n {}'''.format(type(arr), arr.shape, arr.ndim, arr.dtype, arr)\n",
    "    print(text)"
   ]
  },
  {
   "cell_type": "markdown",
   "id": "c68e632f",
   "metadata": {},
   "source": [
    "### 벡터 연산\n",
    "\n",
    "- 요소들에 대한 연산을 벡터 연산으로 처리하면 일반적인 for반복문으로 연산 작업을 처리하는 것 보다 월등히 뛰어난 처리 속도로 효율적인 작업 가능"
   ]
  },
  {
   "cell_type": "code",
   "execution_count": 3,
   "id": "2b9b0d48",
   "metadata": {},
   "outputs": [
    {
     "data": {
      "text/plain": [
       "array([       0,        1,        2, ..., 99999997, 99999998, 99999999])"
      ]
     },
     "execution_count": 3,
     "metadata": {},
     "output_type": "execute_result"
    }
   ],
   "source": [
    "# 0부터 시작하여 100000000개 요소를 가진 배열 생성\n",
    "x = np.arange(100000000)\n",
    "x"
   ]
  },
  {
   "cell_type": "code",
   "execution_count": 4,
   "id": "af7f61ca",
   "metadata": {},
   "outputs": [
    {
     "name": "stderr",
     "output_type": "stream",
     "text": [
      "<timed exec>:8: RuntimeWarning: overflow encountered in long_scalars\n"
     ]
    },
    {
     "name": "stdout",
     "output_type": "stream",
     "text": [
      "887459712\n",
      "CPU times: total: 23.7 s\n",
      "Wall time: 23.7 s\n"
     ]
    }
   ],
   "source": [
    "%%time \n",
    "# 해당 셀을 수행하는 데 소요된 시간을 표기해주는 주피터노트북 명령어\n",
    "# 셀의 가장 상단에 위치해야함(주석 포함 가장 상단에 위치해야함)\n",
    "\n",
    "# 반복문을 통합 합계(x변수에 저장된 넘파이 배열 자료 총합)\n",
    "# 시간단위 : 1s = 1,000ms(밀리세컨드) = 1,000,000㎛(마이크로세컨드)\n",
    "loop_result=0\n",
    "for i in x:\n",
    "    loop_result +=i\n",
    "print(loop_result)"
   ]
  },
  {
   "cell_type": "code",
   "execution_count": 5,
   "id": "daf2942e",
   "metadata": {},
   "outputs": [
    {
     "name": "stdout",
     "output_type": "stream",
     "text": [
      "CPU times: total: 31.2 ms\n",
      "Wall time: 53.9 ms\n"
     ]
    },
    {
     "data": {
      "text/plain": [
       "887459712"
      ]
     },
     "execution_count": 5,
     "metadata": {},
     "output_type": "execute_result"
    }
   ],
   "source": [
    "%%time\n",
    "# 벡터연산(넘파이명령어)를 통한 합계 연산\n",
    "np.sum(x)"
   ]
  },
  {
   "cell_type": "code",
   "execution_count": 6,
   "id": "9f683d26",
   "metadata": {},
   "outputs": [
    {
     "name": "stdout",
     "output_type": "stream",
     "text": [
      "CPU times: total: 46.9 ms\n",
      "Wall time: 50.9 ms\n"
     ]
    },
    {
     "data": {
      "text/plain": [
       "887459712"
      ]
     },
     "execution_count": 6,
     "metadata": {},
     "output_type": "execute_result"
    }
   ],
   "source": [
    "%%time\n",
    "x.sum()"
   ]
  },
  {
   "cell_type": "markdown",
   "id": "3acc470c",
   "metadata": {},
   "source": [
    "### 배열 정렬\n",
    "\n",
    "- sort(axis = -1) 메서드 : axis를 기준으로 요소를 오름차순 정렬\n",
    "    - 기본값(axis = -1) : 현재 배열의 마지막 axis\n",
    "    - axis = 0 : 열 단위 정렬\n",
    "    - axis = 1 : 행 단위 정렬\n",
    "    - 원본 객체에 정렬 결과가 반영됨\n",
    "\n",
    "- np.sort(axis = -1) : axis를 기준으로 요소를 오름차순 정렬\n",
    "    - 기본값(axis = -1) : 현재 배열의 마지막 axis\n",
    "    - axis = 0 : 열 단위 정렬\n",
    "    - axis = 1 : 행 단위 정렬\n",
    "    - 정렬된 새로운 배열을 반환함\n",
    "\n",
    "- np.argsort(arr) : 정렬 순서를 반환\n",
    "    - 기본값(axis = -1) : 현재 배열의 마지막 axis\n",
    "    - axis = 0 : 열 단위 정렬\n",
    "    - axis = 1 : 행 단위 정렬"
   ]
  },
  {
   "cell_type": "code",
   "execution_count": 7,
   "id": "c1c45343",
   "metadata": {},
   "outputs": [
    {
     "name": "stdout",
     "output_type": "stream",
     "text": [
      "\n",
      "    type : <class 'numpy.ndarray'>\n",
      "    shape : (5,)\n",
      "    ndim : 1\n",
      "    dtype : int32\n",
      "    array data : \n",
      " [0 1 2 3 4]\n"
     ]
    }
   ],
   "source": [
    "# 1차원 배열 생성\n",
    "x = np.arange(0,5)\n",
    "np_print(x)"
   ]
  },
  {
   "cell_type": "code",
   "execution_count": 8,
   "id": "4b328d87",
   "metadata": {},
   "outputs": [
    {
     "data": {
      "text/plain": [
       "array([4, 3, 2, 1, 0])"
      ]
     },
     "execution_count": 8,
     "metadata": {},
     "output_type": "execute_result"
    }
   ],
   "source": [
    "# 기본 파이썬 문법으로 순번 뒤집기\n",
    "x[::-1]"
   ]
  },
  {
   "cell_type": "code",
   "execution_count": 9,
   "id": "785d6f3f",
   "metadata": {},
   "outputs": [],
   "source": [
    "# 난수 패턴 고정\n",
    "np.random.seed(20)"
   ]
  },
  {
   "cell_type": "code",
   "execution_count": 10,
   "id": "a2a221be",
   "metadata": {},
   "outputs": [
    {
     "name": "stdout",
     "output_type": "stream",
     "text": [
      "\n",
      "    type : <class 'numpy.ndarray'>\n",
      "    shape : (5,)\n",
      "    ndim : 1\n",
      "    dtype : int32\n",
      "    array data : \n",
      " [3 9 4 6 7]\n"
     ]
    }
   ],
   "source": [
    "# 오름차순 정렬\n",
    "a = np.random.randint(0,10,5)\n",
    "np_print(a)"
   ]
  },
  {
   "cell_type": "code",
   "execution_count": 11,
   "id": "7f9f10d5",
   "metadata": {},
   "outputs": [
    {
     "data": {
      "text/plain": [
       "array([3, 4, 6, 7, 9])"
      ]
     },
     "execution_count": 11,
     "metadata": {},
     "output_type": "execute_result"
    }
   ],
   "source": [
    "# 1. np.sort(자료) -> 원본에 반영되지 않음\n",
    "np.sort(a)"
   ]
  },
  {
   "cell_type": "code",
   "execution_count": 12,
   "id": "4e293436",
   "metadata": {},
   "outputs": [
    {
     "data": {
      "text/plain": [
       "array([3, 4, 6, 7, 9])"
      ]
     },
     "execution_count": 12,
     "metadata": {},
     "output_type": "execute_result"
    }
   ],
   "source": [
    "# 2. arr.sort() -> 원본 자료 변경\n",
    "a.sort()\n",
    "a"
   ]
  },
  {
   "cell_type": "code",
   "execution_count": 13,
   "id": "de5d77b0",
   "metadata": {},
   "outputs": [
    {
     "name": "stdout",
     "output_type": "stream",
     "text": [
      "\n",
      "    type : <class 'numpy.ndarray'>\n",
      "    shape : (5,)\n",
      "    ndim : 1\n",
      "    dtype : int32\n",
      "    array data : \n",
      " [2 0 6 8 5]\n"
     ]
    }
   ],
   "source": [
    "# 1차원 배열 생성\n",
    "b = np.random.randint(0,10,5)\n",
    "np_print(b)"
   ]
  },
  {
   "cell_type": "code",
   "execution_count": 14,
   "id": "4020dd43",
   "metadata": {},
   "outputs": [
    {
     "data": {
      "text/plain": [
       "array([1, 0, 4, 2, 3], dtype=int64)"
      ]
     },
     "execution_count": 14,
     "metadata": {},
     "output_type": "execute_result"
    }
   ],
   "source": [
    "# np.argsort(자료)는 내부의 아이템들을 오름차순 정렬하기 위해\n",
    "# 현재 몇 번 인덱스에 있는 자료를 어디에 배치해야 하는지 보여줌\n",
    "np.argsort(b)"
   ]
  },
  {
   "cell_type": "code",
   "execution_count": 15,
   "id": "bcfd3794",
   "metadata": {},
   "outputs": [
    {
     "name": "stdout",
     "output_type": "stream",
     "text": [
      "\n",
      "    type : <class 'numpy.ndarray'>\n",
      "    shape : (3, 3)\n",
      "    ndim : 2\n",
      "    dtype : float64\n",
      "    array data : \n",
      " [[0.65795147 0.19385022 0.2723164 ]\n",
      " [0.71860593 0.78300361 0.85032764]\n",
      " [0.77524489 0.03666431 0.11669374]]\n",
      "\n",
      "    type : <class 'numpy.ndarray'>\n",
      "    shape : (3, 3)\n",
      "    ndim : 2\n",
      "    dtype : float64\n",
      "    array data : \n",
      " [[0.7512807  0.23921822 0.25480601]\n",
      " [0.85762553 0.94977903 0.56168686]\n",
      " [0.17878052 0.77025193 0.49238104]]\n"
     ]
    }
   ],
   "source": [
    "# 0이상 1미만의 범위에서 무작위로 실수값을 가지는 3행 3열의 배열 2개 생성\n",
    "a = np.random.random((3,3))\n",
    "b = np.random.random((3,3))\n",
    "np_print(a)\n",
    "np_print(b)"
   ]
  },
  {
   "cell_type": "markdown",
   "id": "449990cf",
   "metadata": {},
   "source": [
    "##### 예) 2차원 배열의 경우\n",
    "\n",
    "기본값 axis = -1 <br>\n",
    "현재 배열의 axis = 0, 1 <br>\n",
    "마지막 axis = 1 (행별 정렬)\n",
    "\n",
    "<img src='img/sortaxis1.jpg' width='200' height='200' align='left'>"
   ]
  },
  {
   "cell_type": "code",
   "execution_count": 16,
   "id": "463a55cf",
   "metadata": {},
   "outputs": [
    {
     "name": "stdout",
     "output_type": "stream",
     "text": [
      "\n",
      "    type : <class 'numpy.ndarray'>\n",
      "    shape : (3, 3)\n",
      "    ndim : 2\n",
      "    dtype : float64\n",
      "    array data : \n",
      " [[0.65795147 0.19385022 0.2723164 ]\n",
      " [0.71860593 0.78300361 0.85032764]\n",
      " [0.77524489 0.03666431 0.11669374]]\n"
     ]
    },
    {
     "data": {
      "text/plain": [
       "array([[0.19385022, 0.2723164 , 0.65795147],\n",
       "       [0.71860593, 0.78300361, 0.85032764],\n",
       "       [0.03666431, 0.11669374, 0.77524489]])"
      ]
     },
     "execution_count": 16,
     "metadata": {},
     "output_type": "execute_result"
    }
   ],
   "source": [
    "# 기본방향(axis = 1) -> 행별 정렬\n",
    "np_print(a)\n",
    "np.sort(a)"
   ]
  },
  {
   "cell_type": "markdown",
   "id": "b4e7045e",
   "metadata": {},
   "source": [
    "##### axis = 0 (열별 정렬)\n",
    "\n",
    "<img src='img/sortaxis0.jpg' width='200' height='200' align='left'>`"
   ]
  },
  {
   "cell_type": "code",
   "execution_count": 17,
   "id": "ca604915",
   "metadata": {},
   "outputs": [
    {
     "name": "stdout",
     "output_type": "stream",
     "text": [
      "\n",
      "    type : <class 'numpy.ndarray'>\n",
      "    shape : (3, 3)\n",
      "    ndim : 2\n",
      "    dtype : float64\n",
      "    array data : \n",
      " [[0.65795147 0.19385022 0.2723164 ]\n",
      " [0.71860593 0.78300361 0.85032764]\n",
      " [0.77524489 0.03666431 0.11669374]]\n"
     ]
    },
    {
     "data": {
      "text/plain": [
       "array([[0.65795147, 0.03666431, 0.11669374],\n",
       "       [0.71860593, 0.19385022, 0.2723164 ],\n",
       "       [0.77524489, 0.78300361, 0.85032764]])"
      ]
     },
     "execution_count": 17,
     "metadata": {},
     "output_type": "execute_result"
    }
   ],
   "source": [
    "# 기본방향(axis=0) -> 열별 정렬\n",
    "np_print(a)\n",
    "np.sort(a,axis=0)"
   ]
  },
  {
   "cell_type": "markdown",
   "id": "ab0d21e8",
   "metadata": {},
   "source": [
    "## 인덱싱(Indexing), 슬라이싱(Slicing)\n",
    "\n",
    "### 1. 인덱싱 : 하나의 요소에 대해 참조\n",
    "\n",
    "- 각 차원에 따라 배열이 참조하는 인덱스의 개수가 다름\n",
    "    - 1차원 배열 : 인덱스 1개\n",
    "    - 2차원 배열 : 인덱스 2개\n",
    "    - 3차원 배열 : 인덱스 3개\n",
    "    \n",
    "- 인덱싱으로 참조한 요소에 대해 수정 가능\n",
    "\n",
    "- 인덱스 배열을 전달하여 여러 개의 요소 참조"
   ]
  },
  {
   "cell_type": "code",
   "execution_count": 18,
   "id": "fdc532f5",
   "metadata": {},
   "outputs": [
    {
     "name": "stdout",
     "output_type": "stream",
     "text": [
      "\n",
      "    type : <class 'numpy.ndarray'>\n",
      "    shape : (24,)\n",
      "    ndim : 1\n",
      "    dtype : int32\n",
      "    array data : \n",
      " [ 0  1  2  3  4  5  6  7  8  9 10 11 12 13 14 15 16 17 18 19 20 21 22 23]\n"
     ]
    }
   ],
   "source": [
    "# 0부터 23까지 1씩 증가하는 값을 아이템으로 가지는 1차월 배열 생성\n",
    "arr = np.arange(0,24)\n",
    "np_print(arr)"
   ]
  },
  {
   "cell_type": "code",
   "execution_count": 19,
   "id": "d777c95f",
   "metadata": {},
   "outputs": [
    {
     "data": {
      "text/plain": [
       "1"
      ]
     },
     "execution_count": 19,
     "metadata": {},
     "output_type": "execute_result"
    }
   ],
   "source": [
    "# 1차원 배열 인덱싱 : 1번 인덱스 요소 접근\n",
    "arr[1]"
   ]
  },
  {
   "cell_type": "code",
   "execution_count": 20,
   "id": "7a85c738",
   "metadata": {},
   "outputs": [
    {
     "data": {
      "text/plain": [
       "23"
      ]
     },
     "execution_count": 20,
     "metadata": {},
     "output_type": "execute_result"
    }
   ],
   "source": [
    "# 1차원 마지막 인덱싱 : 마지막 요소 접근\n",
    "arr[-1]"
   ]
  },
  {
   "cell_type": "code",
   "execution_count": 21,
   "id": "083c4c74",
   "metadata": {},
   "outputs": [
    {
     "data": {
      "text/plain": [
       "array([  0,   1,   2,   3,   4,   5,   6,   7,   8,   9,  10,  11,  12,\n",
       "        13,  14,  15,  16,  17,  18,  19,  20,  21,  22, 100])"
      ]
     },
     "execution_count": 21,
     "metadata": {},
     "output_type": "execute_result"
    }
   ],
   "source": [
    "# 1차원 배열 인덱싱을 통한 값 수정\n",
    "arr[-1] = 100\n",
    "arr"
   ]
  },
  {
   "cell_type": "code",
   "execution_count": 22,
   "id": "4bcffd71",
   "metadata": {},
   "outputs": [
    {
     "name": "stdout",
     "output_type": "stream",
     "text": [
      "\n",
      "    type : <class 'numpy.ndarray'>\n",
      "    shape : (4, 6)\n",
      "    ndim : 2\n",
      "    dtype : int32\n",
      "    array data : \n",
      " [[  0   1   2   3   4   5]\n",
      " [  6   7   8   9  10  11]\n",
      " [ 12  13  14  15  16  17]\n",
      " [ 18  19  20  21  22 100]]\n"
     ]
    }
   ],
   "source": [
    "# 배열 arr를 이용해 4x6 형태의 2차원 배열 arr1만들기\n",
    "arr1 = arr.reshape(4,6)\n",
    "np_print(arr1)"
   ]
  },
  {
   "cell_type": "code",
   "execution_count": 23,
   "id": "36fe56d6",
   "metadata": {},
   "outputs": [
    {
     "data": {
      "text/plain": [
       "array([0, 1, 2, 3, 4, 5])"
      ]
     },
     "execution_count": 23,
     "metadata": {},
     "output_type": "execute_result"
    }
   ],
   "source": [
    "# 2차원 배열 인덱싱 : 2차원배열[행인덱스,(열인덱스)]\n",
    "# 하나의 행에 접근 : 1행\n",
    "arr1[0]"
   ]
  },
  {
   "cell_type": "code",
   "execution_count": 24,
   "id": "2563daee",
   "metadata": {},
   "outputs": [
    {
     "data": {
      "text/plain": [
       "9"
      ]
     },
     "execution_count": 24,
     "metadata": {},
     "output_type": "execute_result"
    }
   ],
   "source": [
    "arr1[1][3]"
   ]
  },
  {
   "cell_type": "code",
   "execution_count": 25,
   "id": "8463bc66",
   "metadata": {},
   "outputs": [
    {
     "data": {
      "text/plain": [
       "array([ 1,  7, 13, 19])"
      ]
     },
     "execution_count": 25,
     "metadata": {},
     "output_type": "execute_result"
    }
   ],
   "source": [
    "# 하나의 열에 접근 : 모든 행에 대해서 하나의 열에 접근\n",
    "# 반환값 : 1d array\n",
    "arr1[:,1] #[:]전체 중(행을 우선시) [,1] 1번째 열 "
   ]
  },
  {
   "cell_type": "code",
   "execution_count": 26,
   "id": "d15bdbbb",
   "metadata": {},
   "outputs": [
    {
     "data": {
      "text/plain": [
       "14"
      ]
     },
     "execution_count": 26,
     "metadata": {},
     "output_type": "execute_result"
    }
   ],
   "source": [
    "# 하나의 값에 접근\n",
    "arr1[2][2]\n",
    "arr1[2,2]"
   ]
  },
  {
   "cell_type": "code",
   "execution_count": 27,
   "id": "4957a79b",
   "metadata": {},
   "outputs": [
    {
     "data": {
      "text/plain": [
       "array([[  0,   1,   2,   3,   4,   5],\n",
       "       [ 18,  19,  20,  21,  22, 100]])"
      ]
     },
     "execution_count": 27,
     "metadata": {},
     "output_type": "execute_result"
    }
   ],
   "source": [
    "# 여러개의 행 조회\n",
    "arr1[[0,3]] #0, 3번째 행만을 조회할 것, [[]] 이중으로 되어있음"
   ]
  },
  {
   "cell_type": "code",
   "execution_count": 28,
   "id": "66bee79a",
   "metadata": {},
   "outputs": [
    {
     "data": {
      "text/plain": [
       "array([[ 0,  2],\n",
       "       [ 6,  8],\n",
       "       [12, 14],\n",
       "       [18, 20]])"
      ]
     },
     "execution_count": 28,
     "metadata": {},
     "output_type": "execute_result"
    }
   ],
   "source": [
    "# 여러 개의 열 조회\n",
    "arr1[:,[0,2]] #0, 2번째 열만을 조회할 것"
   ]
  },
  {
   "cell_type": "code",
   "execution_count": 29,
   "id": "7fc235ca",
   "metadata": {},
   "outputs": [
    {
     "data": {
      "text/plain": [
       "array([[ 3,  5],\n",
       "       [15, 17]])"
      ]
     },
     "execution_count": 29,
     "metadata": {},
     "output_type": "execute_result"
    }
   ],
   "source": [
    "# 0번째, 2번째 로우의 3번째, 5번째 행을 가져오도록 처리\n",
    "arr1[[0,2]][:,[3,5]]"
   ]
  },
  {
   "cell_type": "code",
   "execution_count": 30,
   "id": "a9a77f56",
   "metadata": {},
   "outputs": [
    {
     "data": {
      "text/plain": [
       "array([[  0,   1,   2,   3,   4,   5],\n",
       "       [  6,   7,   8,   9,  10,  11],\n",
       "       [  9,   9,   9,   9,   9,   9],\n",
       "       [ 18,  19,  20,  21,  22, 100]])"
      ]
     },
     "execution_count": 30,
     "metadata": {},
     "output_type": "execute_result"
    }
   ],
   "source": [
    "# 2d 배열의 indexing을 통한 값 수정\n",
    "# 하나의 row/column 대해 모두 동일한 값으로 수정 : 전달하는 값을 scala값으로 전달\n",
    "# 서로 다른 값으로 수정 : 배열 구조에 맞춰서 자료 전달\n",
    "# 하나의 값을 수정하는 예시\n",
    "arr1[2] = 9\n",
    "arr1"
   ]
  },
  {
   "cell_type": "code",
   "execution_count": 31,
   "id": "e5bfabd8",
   "metadata": {},
   "outputs": [
    {
     "data": {
      "text/plain": [
       "array([[  0,   1,   2,   3,   4,   5],\n",
       "       [  9,   9,   9,  99,  99,  99],\n",
       "       [  9,   9,   9,   9,   9,   9],\n",
       "       [ 18,  19,  20,  21,  22, 100]])"
      ]
     },
     "execution_count": 31,
     "metadata": {},
     "output_type": "execute_result"
    }
   ],
   "source": [
    "# 단일 값이 아닌 여러 값을 대입하고 싶을 때는\n",
    "arr1[1]=[9,9,9,99,99,99]\n",
    "arr1"
   ]
  },
  {
   "cell_type": "code",
   "execution_count": 32,
   "id": "4e7f50e7",
   "metadata": {},
   "outputs": [
    {
     "name": "stdout",
     "output_type": "stream",
     "text": [
      "\n",
      "    type : <class 'numpy.ndarray'>\n",
      "    shape : (4, 6)\n",
      "    ndim : 2\n",
      "    dtype : int32\n",
      "    array data : \n",
      " [[  0   1   2   3   4   5]\n",
      " [  9   9   9  99  99  99]\n",
      " [  9   9   9   9   9   9]\n",
      " [ 18  19  20  21  22 100]]\n"
     ]
    }
   ],
   "source": [
    "np_print(arr1)"
   ]
  },
  {
   "cell_type": "code",
   "execution_count": 33,
   "id": "0350a6df",
   "metadata": {},
   "outputs": [
    {
     "name": "stdout",
     "output_type": "stream",
     "text": [
      "\n",
      "    type : <class 'numpy.ndarray'>\n",
      "    shape : (2, 4, 3)\n",
      "    ndim : 3\n",
      "    dtype : int32\n",
      "    array data : \n",
      " [[[ 0  1  2]\n",
      "  [ 3  4  5]\n",
      "  [ 6  7  8]\n",
      "  [ 9 10 11]]\n",
      "\n",
      " [[12 13 14]\n",
      "  [15 16 17]\n",
      "  [18 19 20]\n",
      "  [21 22 23]]]\n"
     ]
    }
   ],
   "source": [
    "# 3d 배열 생성\n",
    "# 구조 : 2개의 총(페이지,면), 4행 3열\n",
    "# np.arange() => 24개의 size\n",
    "arr2 = np.arange(0,24).reshape((2,4,3))\n",
    "np_print(arr2)"
   ]
  },
  {
   "cell_type": "code",
   "execution_count": 34,
   "id": "b042ad6b",
   "metadata": {},
   "outputs": [
    {
     "name": "stdout",
     "output_type": "stream",
     "text": [
      "[[ 0  1  2]\n",
      " [ 3  4  5]\n",
      " [ 6  7  8]\n",
      " [ 9 10 11]]\n",
      "--------------\n",
      "[[12 13 14]\n",
      " [15 16 17]\n",
      " [18 19 20]\n",
      " [21 22 23]]\n"
     ]
    }
   ],
   "source": [
    "# 3d 배열 indexing : arr[면,행,열]\n",
    "# 0번째 면(page)에 접근\n",
    "print(arr2[0])\n",
    "print(\"--------------\")\n",
    "print(arr2[1])"
   ]
  },
  {
   "cell_type": "code",
   "execution_count": 35,
   "id": "574e2f30",
   "metadata": {},
   "outputs": [
    {
     "data": {
      "text/plain": [
       "array([3, 4, 5])"
      ]
     },
     "execution_count": 35,
     "metadata": {},
     "output_type": "execute_result"
    }
   ],
   "source": [
    "# 첫 번째(0)면, 1번 행에 접근\n",
    "arr2[0,1]"
   ]
  },
  {
   "cell_type": "code",
   "execution_count": 36,
   "id": "c2cb7d09",
   "metadata": {},
   "outputs": [
    {
     "data": {
      "text/plain": [
       "3"
      ]
     },
     "execution_count": 36,
     "metadata": {},
     "output_type": "execute_result"
    }
   ],
   "source": [
    "# 첫 번째 면, 1번 행, 0번 열에 접근\n",
    "arr2[0,1,0]"
   ]
  },
  {
   "cell_type": "code",
   "execution_count": 37,
   "id": "247edc49",
   "metadata": {},
   "outputs": [
    {
     "data": {
      "text/plain": [
       "array([[[ 0,  1,  2],\n",
       "        [ 3,  4,  5],\n",
       "        [ 6,  7,  8],\n",
       "        [ 9, 10, 11]],\n",
       "\n",
       "       [[ 0,  0,  0],\n",
       "        [ 0,  0,  0],\n",
       "        [ 0,  0,  0],\n",
       "        [ 0,  0,  0]]])"
      ]
     },
     "execution_count": 37,
     "metadata": {},
     "output_type": "execute_result"
    }
   ],
   "source": [
    "# 3d 배열 역시 배열 indexing으로 값 수정이 가능\n",
    "# scala 연산을 통한 동일한 값으로 수정\n",
    "# arr2의 2번 면(1번 index)를 0으로 일괄 변경\n",
    "arr2[1]=0\n",
    "arr2"
   ]
  },
  {
   "cell_type": "code",
   "execution_count": 38,
   "id": "26df5f20",
   "metadata": {},
   "outputs": [
    {
     "data": {
      "text/plain": [
       "array([[[ 0,  1,  2],\n",
       "        [ 3,  4,  5],\n",
       "        [ 6,  7,  8],\n",
       "        [ 9, 10, 11]],\n",
       "\n",
       "       [[ 0,  0,  0],\n",
       "        [ 0,  0,  0],\n",
       "        [ 0,  0,  0],\n",
       "        [ 0,  0,  0]]])"
      ]
     },
     "execution_count": 38,
     "metadata": {},
     "output_type": "execute_result"
    }
   ],
   "source": [
    "# 하나의 면에 대해 서로 다른 값으로 수정 : 1번면, 1번행을 [1,2,3]으로 변경\n",
    "arr2[0,1]=[3,4,5]\n",
    "arr2"
   ]
  },
  {
   "cell_type": "code",
   "execution_count": 39,
   "id": "9962908c",
   "metadata": {},
   "outputs": [
    {
     "data": {
      "text/plain": [
       "array([[[10, 20, 30],\n",
       "        [40, 50, 60],\n",
       "        [ 0,  0,  0],\n",
       "        [ 0,  0,  0]],\n",
       "\n",
       "       [[ 0,  0,  0],\n",
       "        [ 0,  0,  0],\n",
       "        [ 0,  0,  0],\n",
       "        [ 0,  0,  0]]])"
      ]
     },
     "execution_count": 39,
     "metadata": {},
     "output_type": "execute_result"
    }
   ],
   "source": [
    "# 3 * 4형식으로 대입하는 방법\n",
    "arr2[0] = [[10,20,30],\n",
    "          [40,50,60],\n",
    "          [0,0,0],\n",
    "          [0,0,0]]\n",
    "arr2"
   ]
  },
  {
   "cell_type": "code",
   "execution_count": 40,
   "id": "fb8ef366",
   "metadata": {},
   "outputs": [],
   "source": [
    "# index 배열을 전달하여 여러 개의 요소 참조\n",
    "# (기존 indexing 방법) 0번째 0행 0열, 1행 1열, 2행 2열 요소에 접근\n",
    "#arr2[0,0,0]\n",
    "#arr2[0,1,1]\n",
    "#arr2[0,2,2]"
   ]
  },
  {
   "cell_type": "code",
   "execution_count": 41,
   "id": "31805b60",
   "metadata": {},
   "outputs": [
    {
     "data": {
      "text/plain": [
       "array([[[10, 20, 30],\n",
       "        [40, 50, 60],\n",
       "        [ 0,  0,  0]],\n",
       "\n",
       "       [[10, 20, 30],\n",
       "        [ 0,  0,  0],\n",
       "        [ 0,  0,  0]]])"
      ]
     },
     "execution_count": 41,
     "metadata": {},
     "output_type": "execute_result"
    }
   ],
   "source": [
    "# 여러 개의 indexing을 배열로 전달\n",
    "# (행0,열0),(행1,열1),(행2,열2)\n",
    "# 3d 배열일 경우에 : [page,[0,1,2],[0,1,2]]\n",
    "# arr2[면,행,열] -> 만약 여러 단위를 조회할 때는 이중리스트로 입력\n",
    "# 삼중리스트 입력시 이중리스트 요소 반복\n",
    "arr2[0,[[0,1,2],[0,2,3]]]"
   ]
  },
  {
   "cell_type": "markdown",
   "id": "fda19da3",
   "metadata": {},
   "source": [
    "### 2. 슬라이싱 : 여러 개의 요소에 대해 참조\n",
    "\n",
    "- axis 별로 범위 지정\n",
    "    - from_index : 시작 인덱스(포함), 0일 경우 생략 가능\n",
    "    - to_index : 종료 인덱스(미포함), 마지막 인덱스일 경우 생략 가능\n",
    "    - step : 연속되지 않은 범위의 경우 간격 지정\n",
    "\n",
    "- 열만 조회하는 경우 : 전체 행에 슬라이싱으로 접근 후 특정 열을 조회"
   ]
  },
  {
   "cell_type": "code",
   "execution_count": 42,
   "id": "5c198b46",
   "metadata": {},
   "outputs": [
    {
     "name": "stdout",
     "output_type": "stream",
     "text": [
      "\n",
      "    type : <class 'numpy.ndarray'>\n",
      "    shape : (24,)\n",
      "    ndim : 1\n",
      "    dtype : int32\n",
      "    array data : \n",
      " [ 0  1  2  3  4  5  6  7  8  9 10 11 12 13 14 15 16 17 18 19 20 21 22 23]\n"
     ]
    }
   ],
   "source": [
    "# 0부터 23까지 1씩 증가하는 정수값을 갖는 1차원 배열 생성\n",
    "a = np.arange(0,24)\n",
    "np_print(a)"
   ]
  },
  {
   "cell_type": "code",
   "execution_count": 43,
   "id": "1fd3eecf",
   "metadata": {},
   "outputs": [
    {
     "data": {
      "text/plain": [
       "array([1, 2, 3, 4])"
      ]
     },
     "execution_count": 43,
     "metadata": {},
     "output_type": "execute_result"
    }
   ],
   "source": [
    "# 1차원 배열 slicing : 1번부터 4번까지 접근\n",
    "a[1:5]"
   ]
  },
  {
   "cell_type": "code",
   "execution_count": 44,
   "id": "fa1acd31",
   "metadata": {},
   "outputs": [
    {
     "data": {
      "text/plain": [
       "array([ 1,  3,  5,  7,  9, 11, 13])"
      ]
     },
     "execution_count": 44,
     "metadata": {},
     "output_type": "execute_result"
    }
   ],
   "source": [
    "# 1번째 인덱스로부터 14번째 인덱스까지 2개씩 건너뛰며 접근\n",
    "a[1:15:2]"
   ]
  },
  {
   "cell_type": "code",
   "execution_count": 45,
   "id": "f677aaba",
   "metadata": {},
   "outputs": [
    {
     "name": "stdout",
     "output_type": "stream",
     "text": [
      "\n",
      "    type : <class 'numpy.ndarray'>\n",
      "    shape : (6, 4)\n",
      "    ndim : 2\n",
      "    dtype : int32\n",
      "    array data : \n",
      " [[ 0  1  2  3]\n",
      " [ 4  5  6  7]\n",
      " [ 8  9 10 11]\n",
      " [12 13 14 15]\n",
      " [16 17 18 19]\n",
      " [20 21 22 23]]\n"
     ]
    }
   ],
   "source": [
    "# 2d 배열 생성\n",
    "b = a.reshape(6,4)\n",
    "np_print(b)"
   ]
  },
  {
   "cell_type": "code",
   "execution_count": 46,
   "id": "6b62a39d",
   "metadata": {},
   "outputs": [
    {
     "data": {
      "text/plain": [
       "array([[ 0,  1,  2,  3],\n",
       "       [ 4,  5,  6,  7],\n",
       "       [ 8,  9, 10, 11],\n",
       "       [12, 13, 14, 15]])"
      ]
     },
     "execution_count": 46,
     "metadata": {},
     "output_type": "execute_result"
    }
   ],
   "source": [
    "# 2d 배열 slicing : 0행부터 3행까지 접근\n",
    "# 2d_array[행(:열:간격)]\n",
    "b[0:4]"
   ]
  },
  {
   "cell_type": "code",
   "execution_count": 48,
   "id": "4ffb08b0",
   "metadata": {},
   "outputs": [
    {
     "data": {
      "text/plain": [
       "array([[ 6,  7],\n",
       "       [10, 11],\n",
       "       [14, 15],\n",
       "       [18, 19]])"
      ]
     },
     "execution_count": 48,
     "metadata": {},
     "output_type": "execute_result"
    }
   ],
   "source": [
    "# 1행부터 4행에 대해, 2열부터 3열까지 접근\n",
    "b[1:5, 2:4]"
   ]
  },
  {
   "cell_type": "code",
   "execution_count": 49,
   "id": "7681fe57",
   "metadata": {},
   "outputs": [
    {
     "data": {
      "text/plain": [
       "array([[ 6,  7],\n",
       "       [10, 11],\n",
       "       [14, 15],\n",
       "       [18, 19]])"
      ]
     },
     "execution_count": 49,
     "metadata": {},
     "output_type": "execute_result"
    }
   ],
   "source": [
    "# 2d 배열 slicing을 통한 값 수정\n",
    "# 1행부터 4행에 대해 2열부터 3열까지 모든 배열에 대해서 수정\n",
    "s_arr = b[1:5, 2:4]\n",
    "s_arr"
   ]
  },
  {
   "cell_type": "code",
   "execution_count": 50,
   "id": "e4f84267",
   "metadata": {},
   "outputs": [
    {
     "data": {
      "text/plain": [
       "array([[ 6,  7],\n",
       "       [99, 11],\n",
       "       [99, 15],\n",
       "       [99, 19]])"
      ]
     },
     "execution_count": 50,
     "metadata": {},
     "output_type": "execute_result"
    }
   ],
   "source": [
    "# 0번째 행과 마지막 열을 제외한 모든 값을 99로 수정\n",
    "s_arr[1:,:-1] = 99 #s_arr[1:,0] = 99\n",
    "s_arr"
   ]
  },
  {
   "cell_type": "code",
   "execution_count": 53,
   "id": "51a9f27a",
   "metadata": {},
   "outputs": [
    {
     "data": {
      "text/plain": [
       "array([[ 0,  1,  2,  3],\n",
       "       [ 4,  5,  6,  7],\n",
       "       [ 8,  9, 99, 11],\n",
       "       [12, 13, 99, 15],\n",
       "       [16, 17, 99, 19],\n",
       "       [20, 21, 22, 23]])"
      ]
     },
     "execution_count": 53,
     "metadata": {},
     "output_type": "execute_result"
    }
   ],
   "source": [
    "# 얕은복사로 인한 원본배열의 변경\n",
    "b"
   ]
  },
  {
   "cell_type": "code",
   "execution_count": 60,
   "id": "273e920b",
   "metadata": {},
   "outputs": [
    {
     "data": {
      "text/plain": [
       "array([[ 1,  3],\n",
       "       [ 5,  7],\n",
       "       [ 9, 11],\n",
       "       [13, 15],\n",
       "       [17, 19],\n",
       "       [21, 23]])"
      ]
     },
     "execution_count": 60,
     "metadata": {},
     "output_type": "execute_result"
    }
   ],
   "source": [
    "# 2d 배열 slicing : 연속되지 않은 범위의 열에 대한 인덱싱\n",
    "# step 1. 전체 행에 대해서 접근\n",
    "# step 2. 여러 개의 열 인덱싱 배열 전달\n",
    "# b의 전체 행 +1,3번째 열\n",
    "# b[행,열]\n",
    "b[:,[1,3]]"
   ]
  },
  {
   "cell_type": "markdown",
   "id": "94127ef3",
   "metadata": {},
   "source": [
    "### 연습문제\n",
    "\n",
    "아래 정보는 학생들의 학번, 영어 성적, 국어 성적, 수학 성적 정보 입니다. <br>\n",
    "해당 정보를 첫번째 행(row)에 학번, 두번째 행에 영어 성적, 세번째 행에 국어 성적, 네번째 행에 수학 성적을 저장한 배열로 만들고 학생별로 영어 성적을 오름차순 기준으로 각 열(column)을 정렬하세요.\n",
    "\n",
    "<img src='img/sort_q1.png' align='left'>"
   ]
  },
  {
   "cell_type": "code",
   "execution_count": 61,
   "id": "90f6435e",
   "metadata": {},
   "outputs": [],
   "source": [
    "data = [[1, 2, 3, 4],\n",
    "       [70, 97, 45, 56],\n",
    "       [87, 84, 33, 67],\n",
    "       [46, 80, 75, 78]]\n",
    "arr = np.array(data)"
   ]
  },
  {
   "cell_type": "code",
   "execution_count": 74,
   "id": "74348900",
   "metadata": {},
   "outputs": [
    {
     "data": {
      "text/plain": [
       "array([2, 3, 0, 1], dtype=int64)"
      ]
     },
     "execution_count": 74,
     "metadata": {},
     "output_type": "execute_result"
    }
   ],
   "source": [
    "np.argsort(arr[1])"
   ]
  },
  {
   "cell_type": "code",
   "execution_count": 94,
   "id": "3e600788",
   "metadata": {},
   "outputs": [
    {
     "data": {
      "text/plain": [
       "array([[ 3,  4,  1,  2],\n",
       "       [45, 56, 70, 97],\n",
       "       [33, 67, 87, 84],\n",
       "       [75, 78, 46, 80]])"
      ]
     },
     "execution_count": 94,
     "metadata": {},
     "output_type": "execute_result"
    }
   ],
   "source": [
    "arr[:,np.argsort(arr[1])]\n",
    "# 새로운 깨달음,,,!"
   ]
  },
  {
   "cell_type": "markdown",
   "id": "fc0a1133",
   "metadata": {},
   "source": [
    "### 조건색인(Boolean Indexing)\n",
    "\n",
    "- 배열의 요소에 대해 조건을 적용하여 True, False로 조건에 대한 결과 반환\n",
    "\n",
    "- True에 해당하는 요소만 조회하여 조건을 만족하는 결과 반환\n",
    "\n",
    "## 제일 중요...!"
   ]
  },
  {
   "cell_type": "code",
   "execution_count": 95,
   "id": "5efed3f4",
   "metadata": {},
   "outputs": [
    {
     "data": {
      "text/plain": [
       "array([[ 0,  1,  2,  3],\n",
       "       [ 4,  5,  6,  7],\n",
       "       [ 8,  9, 99, 11],\n",
       "       [12, 13, 99, 15],\n",
       "       [16, 17, 99, 19],\n",
       "       [20, 21, 22, 23]])"
      ]
     },
     "execution_count": 95,
     "metadata": {},
     "output_type": "execute_result"
    }
   ],
   "source": [
    "b"
   ]
  },
  {
   "cell_type": "code",
   "execution_count": 96,
   "id": "19a9b5d8",
   "metadata": {},
   "outputs": [
    {
     "data": {
      "text/plain": [
       "array([[False, False, False, False],\n",
       "       [False, False, False, False],\n",
       "       [False, False,  True,  True],\n",
       "       [ True,  True,  True,  True],\n",
       "       [ True,  True,  True,  True],\n",
       "       [ True,  True,  True,  True]])"
      ]
     },
     "execution_count": 96,
     "metadata": {},
     "output_type": "execute_result"
    }
   ],
   "source": [
    "# scala 연산을 이용해 10보다 큰 요소 조회\n",
    "b > 10"
   ]
  },
  {
   "cell_type": "code",
   "execution_count": 97,
   "id": "15a4b70f",
   "metadata": {},
   "outputs": [
    {
     "data": {
      "text/plain": [
       "array([99, 11, 12, 13, 99, 15, 16, 17, 99, 19, 20, 21, 22, 23])"
      ]
     },
     "execution_count": 97,
     "metadata": {},
     "output_type": "execute_result"
    }
   ],
   "source": [
    "# 조건색인 방법\n",
    "# 자료[자료를 포함한 조건식]\n",
    "# b 안에 10보다 큰 수, True만 나온 결과만을 조회\n",
    "b[b>10]"
   ]
  },
  {
   "cell_type": "code",
   "execution_count": 99,
   "id": "f5b9f65f",
   "metadata": {},
   "outputs": [
    {
     "data": {
      "text/plain": [
       "14"
      ]
     },
     "execution_count": 99,
     "metadata": {},
     "output_type": "execute_result"
    }
   ],
   "source": [
    "b[b>10].size"
   ]
  },
  {
   "cell_type": "code",
   "execution_count": 108,
   "id": "04cf7633",
   "metadata": {},
   "outputs": [
    {
     "data": {
      "text/plain": [
       "array([ 2,  4,  6,  8, 12, 16, 20, 22])"
      ]
     },
     "execution_count": 108,
     "metadata": {},
     "output_type": "execute_result"
    }
   ],
   "source": [
    "# 조건색인을 이용해 b에서 짝수인 자료만 남기시오\n",
    "# 조건색인에 2개 이상의 조건을 걸고 싶을때는 각 조건 하나마다 ()을 감싸주고\n",
    "# 조건사이를 and인 경우 &로, or인 경우는 |로 연결함\n",
    "\n",
    "b[(b%2==0)&(b>0)] # or b[(b%2==0)&(b!=0)]"
   ]
  },
  {
   "cell_type": "markdown",
   "id": "bc77d365",
   "metadata": {},
   "source": [
    "### 연습문제\n",
    "\n",
    "조건색인을 활용해 공무원시험의 합격자 평균을 구하시오\n",
    "합격점수는 60점 이상 \n",
    "\n",
    "아래는 시험점수 결과임<br>\n",
    "[31, 30, 55, 34, 83, 75, 86, 60, 94, 80, 42, 37, 73, 80, 30, 65, 34,\n",
    "       55, 56, 51]"
   ]
  },
  {
   "cell_type": "code",
   "execution_count": 128,
   "id": "e7a8c252",
   "metadata": {},
   "outputs": [],
   "source": [
    "score = np.array([31, 30, 55, 34, 83, 75, 86, 60, 94, 80, 42, 37, 73, 80, 30, 65, 34, 55, 56, 51])"
   ]
  },
  {
   "cell_type": "code",
   "execution_count": 136,
   "id": "43fc87aa",
   "metadata": {},
   "outputs": [
    {
     "data": {
      "text/plain": [
       "77.33333333333333"
      ]
     },
     "execution_count": 136,
     "metadata": {},
     "output_type": "execute_result"
    }
   ],
   "source": [
    "score[score>=60].mean() # 복습을 안한 결과... .mean()을 잊고 있었음"
   ]
  },
  {
   "cell_type": "markdown",
   "id": "926de08c",
   "metadata": {},
   "source": [
    "### 배열 복사\n",
    "\n",
    "- indexing, slicing을 통해 반환된 배열은 원본 배열에 대해 독립적인 새로운 객체가 아닌 배열과 종속적인 객체\n",
    "\n",
    "- 원본과 독립적인 복사본인 배열을 생성 : arr.copy(), np.copy(arr)"
   ]
  },
  {
   "cell_type": "code",
   "execution_count": 137,
   "id": "7bb057d9",
   "metadata": {},
   "outputs": [],
   "source": [
    "a = [1,2,3]\n",
    "a2 = [1,2,3]"
   ]
  },
  {
   "cell_type": "code",
   "execution_count": 138,
   "id": "3c885af2",
   "metadata": {},
   "outputs": [],
   "source": [
    "# 얕은 복사\n",
    "b = a"
   ]
  },
  {
   "cell_type": "code",
   "execution_count": 139,
   "id": "dca8b795",
   "metadata": {},
   "outputs": [],
   "source": [
    "# 깊은 복사 1\n",
    "c = a2[:]"
   ]
  },
  {
   "cell_type": "code",
   "execution_count": 142,
   "id": "9cbf9dca",
   "metadata": {},
   "outputs": [],
   "source": [
    "b[0] = 10\n",
    "c[0] = 10"
   ]
  },
  {
   "cell_type": "code",
   "execution_count": 143,
   "id": "9def7cfe",
   "metadata": {},
   "outputs": [
    {
     "name": "stdout",
     "output_type": "stream",
     "text": [
      "[10, 2, 3] [1, 2, 3]\n"
     ]
    }
   ],
   "source": [
    "print(a,a2)"
   ]
  },
  {
   "cell_type": "code",
   "execution_count": 149,
   "id": "ccaa0d33",
   "metadata": {},
   "outputs": [],
   "source": [
    "# 0부터 3까지 범위로 1씩 증가하는 2행2열 구조\n",
    "arr1 = np.arange(0,4).reshape(2,2)"
   ]
  },
  {
   "cell_type": "code",
   "execution_count": 150,
   "id": "9708b4ed",
   "metadata": {},
   "outputs": [
    {
     "name": "stdout",
     "output_type": "stream",
     "text": [
      "\n",
      "    type : <class 'numpy.ndarray'>\n",
      "    shape : (2, 2)\n",
      "    ndim : 2\n",
      "    dtype : int32\n",
      "    array data : \n",
      " [[0 1]\n",
      " [2 3]]\n"
     ]
    }
   ],
   "source": [
    "np_print(arr1)"
   ]
  },
  {
   "cell_type": "code",
   "execution_count": 151,
   "id": "255a4adf",
   "metadata": {},
   "outputs": [],
   "source": [
    "# 깊은 복사 2\n",
    "arr2 = arr1.copy()"
   ]
  },
  {
   "cell_type": "code",
   "execution_count": 152,
   "id": "319e94cb",
   "metadata": {},
   "outputs": [],
   "source": [
    "# 얕은 복사\n",
    "arr3 = arr1"
   ]
  },
  {
   "cell_type": "code",
   "execution_count": 153,
   "id": "1d93583b",
   "metadata": {},
   "outputs": [],
   "source": [
    "arr2 [0,0] = 100"
   ]
  },
  {
   "cell_type": "code",
   "execution_count": 154,
   "id": "f63b0bd8",
   "metadata": {},
   "outputs": [
    {
     "data": {
      "text/plain": [
       "array([[100,   1],\n",
       "       [  2,   3]])"
      ]
     },
     "execution_count": 154,
     "metadata": {},
     "output_type": "execute_result"
    }
   ],
   "source": [
    "arr2"
   ]
  },
  {
   "cell_type": "code",
   "execution_count": 155,
   "id": "2e8e94d6",
   "metadata": {},
   "outputs": [
    {
     "data": {
      "text/plain": [
       "array([[0, 1],\n",
       "       [2, 3]])"
      ]
     },
     "execution_count": 155,
     "metadata": {},
     "output_type": "execute_result"
    }
   ],
   "source": [
    "arr1"
   ]
  },
  {
   "cell_type": "code",
   "execution_count": 156,
   "id": "7c8152ba",
   "metadata": {},
   "outputs": [],
   "source": [
    "arr3[0,0]=100"
   ]
  },
  {
   "cell_type": "code",
   "execution_count": 158,
   "id": "a600bec7",
   "metadata": {},
   "outputs": [
    {
     "data": {
      "text/plain": [
       "array([[100,   1],\n",
       "       [  2,   3]])"
      ]
     },
     "execution_count": 158,
     "metadata": {},
     "output_type": "execute_result"
    }
   ],
   "source": [
    "arr3"
   ]
  },
  {
   "cell_type": "code",
   "execution_count": 157,
   "id": "a2d806e3",
   "metadata": {},
   "outputs": [
    {
     "data": {
      "text/plain": [
       "array([[100,   1],\n",
       "       [  2,   3]])"
      ]
     },
     "execution_count": 157,
     "metadata": {},
     "output_type": "execute_result"
    }
   ],
   "source": [
    "arr1"
   ]
  },
  {
   "cell_type": "markdown",
   "id": "e64432f5",
   "metadata": {},
   "source": [
    "### 배열 변환\n",
    "\n",
    "#### 1. 전치(Transpose)\n",
    "\n",
    "- 배열의 행/열 인덱스가 바뀌는 변환\n",
    "- 배열객체.T : 행/열 인덱스가 바뀐 새로운 배열을 반환하며 원본은 변경되지 않음\n",
    "\n",
    "<img src='img/transpose.png' width='200' height='200' align='left'>"
   ]
  },
  {
   "cell_type": "code",
   "execution_count": 175,
   "id": "dcab6f97",
   "metadata": {},
   "outputs": [
    {
     "name": "stdout",
     "output_type": "stream",
     "text": [
      "\n",
      "    type : <class 'numpy.ndarray'>\n",
      "    shape : (3, 4)\n",
      "    ndim : 2\n",
      "    dtype : int32\n",
      "    array data : \n",
      " [[ 1  2  3  4]\n",
      " [ 5  6  7  8]\n",
      " [ 9 10 11 12]]\n"
     ]
    }
   ],
   "source": [
    "# 1이상 12미만의 값을 가지는 3*4 구조 배열\n",
    "arr1 = np.arange(1,13).reshape(3,4)\n",
    "np_print(arr1)"
   ]
  },
  {
   "cell_type": "code",
   "execution_count": 176,
   "id": "856e607b",
   "metadata": {},
   "outputs": [
    {
     "data": {
      "text/plain": [
       "array([[ 1,  5,  9],\n",
       "       [ 2,  6, 10],\n",
       "       [ 3,  7, 11],\n",
       "       [ 4,  8, 12]])"
      ]
     },
     "execution_count": 176,
     "metadata": {},
     "output_type": "execute_result"
    }
   ],
   "source": [
    "arr1.T"
   ]
  },
  {
   "cell_type": "markdown",
   "id": "99eb2ae1",
   "metadata": {},
   "source": [
    "### 2. 배열 형태 변경\n",
    "\n",
    "- arr.ravel(), np.ravel(arr)\n",
    "    - 다차원 배열을 1차원 배열로 변환\n",
    "    - np.ravel() : 1차원으로 변환되는 결과는 원본 배열에 반영되지 않음\n",
    "    - arr.ravel() : 1차원으로 변환하는 배열의 요소가 변경되면 원본 배열에도 반영됨\n",
    "\n",
    "- arr.reshape(new_shape), np.reshape(arr, new_shape)\n",
    "    - 원본 배열 객체의 구조(shape)를 변경\n",
    "    - 변경하려는 구조의 전체 요소 개수와 원본 배열의 전체 요소 개수가 동일해야 함\n",
    "    - 변경하려는 구조의 튜플 중 하나의 원소는 -1로 대체할 수 있고 다른 하나의 원소를 기준으로 계산되어 사용됨\n",
    "    - reshape() 메서드가 반환하는 배열의 요소가 변경되면 원본 배열에도 반영됨"
   ]
  },
  {
   "cell_type": "code",
   "execution_count": 190,
   "id": "e7c5dded",
   "metadata": {},
   "outputs": [],
   "source": [
    "# 다차원 배열을 1차원 배열로 변환 \n",
    "arr2 = arr1.ravel()"
   ]
  },
  {
   "cell_type": "code",
   "execution_count": 191,
   "id": "2a5e2714",
   "metadata": {},
   "outputs": [
    {
     "data": {
      "text/plain": [
       "array([[ 1,  2,  3,  4],\n",
       "       [ 5,  6,  7,  8],\n",
       "       [ 9, 10, 11, 12]])"
      ]
     },
     "execution_count": 191,
     "metadata": {},
     "output_type": "execute_result"
    }
   ],
   "source": [
    "arr1"
   ]
  },
  {
   "cell_type": "code",
   "execution_count": 192,
   "id": "92a19807",
   "metadata": {},
   "outputs": [
    {
     "data": {
      "text/plain": [
       "array([ 1,  2,  3,  4,  5,  6,  7,  8,  9, 10, 11, 12])"
      ]
     },
     "execution_count": 192,
     "metadata": {},
     "output_type": "execute_result"
    }
   ],
   "source": [
    "arr2"
   ]
  },
  {
   "cell_type": "code",
   "execution_count": 193,
   "id": "f2fafb4d",
   "metadata": {},
   "outputs": [
    {
     "name": "stdout",
     "output_type": "stream",
     "text": [
      "\n",
      "    type : <class 'numpy.ndarray'>\n",
      "    shape : (12,)\n",
      "    ndim : 1\n",
      "    dtype : int32\n",
      "    array data : \n",
      " [ 1  2  3  4  5  6  7  8  9 10 11 12]\n"
     ]
    }
   ],
   "source": [
    "np_print(arr2)"
   ]
  },
  {
   "cell_type": "code",
   "execution_count": 194,
   "id": "37ea7f8a",
   "metadata": {},
   "outputs": [],
   "source": [
    "# 반환 후 값 수정, 원본과 비교\n",
    "arr2[0] = 10"
   ]
  },
  {
   "cell_type": "code",
   "execution_count": 195,
   "id": "763ae072",
   "metadata": {},
   "outputs": [
    {
     "data": {
      "text/plain": [
       "array([[10,  2,  3,  4],\n",
       "       [ 5,  6,  7,  8],\n",
       "       [ 9, 10, 11, 12]])"
      ]
     },
     "execution_count": 195,
     "metadata": {},
     "output_type": "execute_result"
    }
   ],
   "source": [
    "arr1"
   ]
  },
  {
   "cell_type": "code",
   "execution_count": 196,
   "id": "8331f555",
   "metadata": {},
   "outputs": [
    {
     "data": {
      "text/plain": [
       "array([10,  2,  3,  4,  5,  6,  7,  8,  9, 10, 11, 12])"
      ]
     },
     "execution_count": 196,
     "metadata": {},
     "output_type": "execute_result"
    }
   ],
   "source": [
    "arr2"
   ]
  },
  {
   "cell_type": "code",
   "execution_count": 197,
   "id": "ac0a824c",
   "metadata": {},
   "outputs": [],
   "source": [
    "# arr을 6*2로 바꾸되 하나의 축에 대해 -1을 사용\n",
    "arr3 = arr1.reshape(-1,2)"
   ]
  },
  {
   "cell_type": "code",
   "execution_count": 198,
   "id": "c5ad4b86",
   "metadata": {},
   "outputs": [
    {
     "data": {
      "text/plain": [
       "array([[10,  2],\n",
       "       [ 3,  4],\n",
       "       [ 5,  6],\n",
       "       [ 7,  8],\n",
       "       [ 9, 10],\n",
       "       [11, 12]])"
      ]
     },
     "execution_count": 198,
     "metadata": {},
     "output_type": "execute_result"
    }
   ],
   "source": [
    "arr3"
   ]
  },
  {
   "cell_type": "code",
   "execution_count": 199,
   "id": "8aa6189e",
   "metadata": {},
   "outputs": [],
   "source": [
    "# 변환 후 값 수정, 원본과 비교\n",
    "arr3[0]=[100,200]"
   ]
  },
  {
   "cell_type": "code",
   "execution_count": 200,
   "id": "a34dddb5",
   "metadata": {},
   "outputs": [
    {
     "data": {
      "text/plain": [
       "array([[100, 200,   3,   4],\n",
       "       [  5,   6,   7,   8],\n",
       "       [  9,  10,  11,  12]])"
      ]
     },
     "execution_count": 200,
     "metadata": {},
     "output_type": "execute_result"
    }
   ],
   "source": [
    "arr1"
   ]
  },
  {
   "cell_type": "markdown",
   "id": "24e5434c",
   "metadata": {},
   "source": [
    "#### 3. 요소 변경, 추가, 삭제\n",
    "\n",
    "1) 요소 변경\n",
    "- arr.resize(new_shape), np.resize(arr, new_shape)\n",
    "    - 배열 메서드를 사용하면 원본 변경, np 함수를 사용하면 새로운 배열 반환\n",
    "    - 배열의 구조(shape)를 변경하며 원본 배열의 요소 수와 동일하지 않아도 변경 가능\n",
    "    - 변경되는 배열의 요소 수가 동일할 경우 : reshape() 메서드와 동일한 결과\n",
    "    - 변경되는 배열의 요소 수가 더 많을 경우\n",
    "        - np.resize(arr, new_shape) : 원본을 변경하지 않고, 모자란 부분을 기존 배열 값에서 복사해서 추가\n",
    "        - arr.resize(new_shape) : 원본을 변경하고, 모자란 부분을 0으로 채움\n",
    "        - 공통적으로 new_shape은 튜플로 추가\n",
    "    - 변경되는 배열의 요소 수가 더 작을 경우 : 마지막 남은 요소 삭제"
   ]
  },
  {
   "cell_type": "code",
   "execution_count": 201,
   "id": "36054e7c",
   "metadata": {},
   "outputs": [
    {
     "name": "stdout",
     "output_type": "stream",
     "text": [
      "\n",
      "    type : <class 'numpy.ndarray'>\n",
      "    shape : (3, 5)\n",
      "    ndim : 2\n",
      "    dtype : int32\n",
      "    array data : \n",
      " [[3 4 2 9 1]\n",
      " [3 8 7 7 9]\n",
      " [3 2 4 3 7]]\n"
     ]
    }
   ],
   "source": [
    "# 1이상 10미만의 범위의 랜덤 정수값으로 3*5 구조를 가진 배열 생성\n",
    "arr = np.random.randint(1,10,(3,5))\n",
    "np_print(arr)"
   ]
  },
  {
   "cell_type": "code",
   "execution_count": 204,
   "id": "37bae47a",
   "metadata": {},
   "outputs": [
    {
     "name": "stdout",
     "output_type": "stream",
     "text": [
      "\n",
      "    type : <class 'numpy.ndarray'>\n",
      "    shape : (3, 5)\n",
      "    ndim : 2\n",
      "    dtype : int32\n",
      "    array data : \n",
      " [[9 7 1 4 5]\n",
      " [1 6 7 8 5]\n",
      " [1 7 2 7 8]]\n"
     ]
    }
   ],
   "source": [
    "arr2 = np.random.randint(1,10,(3,5))\n",
    "np_print(arr2)"
   ]
  },
  {
   "cell_type": "code",
   "execution_count": 205,
   "id": "a001d997",
   "metadata": {},
   "outputs": [],
   "source": [
    "# 변경되는 배열의 요소 수가 동일한 경우 : reshape()와 동일하게 동작\n",
    "arr.resize(5,3)"
   ]
  },
  {
   "cell_type": "code",
   "execution_count": 206,
   "id": "f953139b",
   "metadata": {},
   "outputs": [
    {
     "data": {
      "text/plain": [
       "15"
      ]
     },
     "execution_count": 206,
     "metadata": {},
     "output_type": "execute_result"
    }
   ],
   "source": [
    "arr.size"
   ]
  },
  {
   "cell_type": "code",
   "execution_count": 207,
   "id": "22eb9da1",
   "metadata": {},
   "outputs": [
    {
     "data": {
      "text/plain": [
       "array([[3, 4, 2],\n",
       "       [9, 1, 3],\n",
       "       [8, 7, 7],\n",
       "       [9, 3, 2],\n",
       "       [4, 3, 7]])"
      ]
     },
     "execution_count": 207,
     "metadata": {},
     "output_type": "execute_result"
    }
   ],
   "source": [
    "arr"
   ]
  },
  {
   "cell_type": "code",
   "execution_count": null,
   "id": "c4b8f2c4",
   "metadata": {},
   "outputs": [],
   "source": [
    "# 변경 후 배열의 요소 개수가 더 많은 경우"
   ]
  },
  {
   "cell_type": "code",
   "execution_count": 208,
   "id": "1521e261",
   "metadata": {},
   "outputs": [
    {
     "name": "stdout",
     "output_type": "stream",
     "text": [
      "\n",
      "    type : <class 'numpy.ndarray'>\n",
      "    shape : (6, 3)\n",
      "    ndim : 2\n",
      "    dtype : int32\n",
      "    array data : \n",
      " [[9 7 1]\n",
      " [4 5 1]\n",
      " [6 7 8]\n",
      " [5 1 7]\n",
      " [2 7 8]\n",
      " [9 7 1]]\n"
     ]
    }
   ],
   "source": [
    "arr3 = np.resize(arr2,(6,3))\n",
    "np_print(arr3)"
   ]
  },
  {
   "cell_type": "code",
   "execution_count": 209,
   "id": "3e80127b",
   "metadata": {},
   "outputs": [
    {
     "name": "stdout",
     "output_type": "stream",
     "text": [
      "\n",
      "    type : <class 'numpy.ndarray'>\n",
      "    shape : (6, 3)\n",
      "    ndim : 2\n",
      "    dtype : int32\n",
      "    array data : \n",
      " [[3 4 2]\n",
      " [9 1 3]\n",
      " [8 7 7]\n",
      " [9 3 2]\n",
      " [4 3 7]\n",
      " [0 0 0]]\n"
     ]
    }
   ],
   "source": [
    "# refcheck = False 인 경우만 크기가 다를 때 0으로 남는 자리를 채워줌\n",
    "arr.resize((6,3),refcheck=False)\n",
    "np_print(arr)"
   ]
  },
  {
   "cell_type": "code",
   "execution_count": 211,
   "id": "1fe9fbd6",
   "metadata": {},
   "outputs": [
    {
     "name": "stdout",
     "output_type": "stream",
     "text": [
      "\n",
      "    type : <class 'numpy.ndarray'>\n",
      "    shape : (3, 3)\n",
      "    ndim : 2\n",
      "    dtype : int32\n",
      "    array data : \n",
      " [[3 4 2]\n",
      " [9 1 3]\n",
      " [8 7 7]]\n"
     ]
    }
   ],
   "source": [
    "# 변경되는 배열의 요소 수가 더 적은 경우 : 마지막 남은 요소를 삭제\n",
    "# 크기가 원본과 resize를 이용했을 때 다르다면 refcheck=False를 반드시 넣음\n",
    "arr.resize((3,3),refcheck=False)\n",
    "np_print(arr)"
   ]
  },
  {
   "cell_type": "markdown",
   "id": "3474fbd3",
   "metadata": {},
   "source": [
    "2) 요소 추가\n",
    "\n",
    "- np.append(arr, values, axis=None)\n",
    "    - arr 마지막에 values를 추가\n",
    "    - axis 지정하지 않는 경우(기본값) : 1차원 배열로 변형되어 결합\n",
    "    - axis = 0 : 행 방향으로 결합 (단, 열의 개수가 동일해야 함)\n",
    "    - axis = 1 : 열 방향으로 결합 (단, 행의 개수가 동일해야 함)\n",
    "    - 원본 배열들에 반영되지 않음"
   ]
  },
  {
   "cell_type": "code",
   "execution_count": 213,
   "id": "bf5141e3",
   "metadata": {},
   "outputs": [
    {
     "name": "stdout",
     "output_type": "stream",
     "text": [
      "\n",
      "    type : <class 'numpy.ndarray'>\n",
      "    shape : (3, 3)\n",
      "    ndim : 2\n",
      "    dtype : int32\n",
      "    array data : \n",
      " [[1 2 3]\n",
      " [4 5 6]\n",
      " [7 8 9]]\n",
      "\n",
      "    type : <class 'numpy.ndarray'>\n",
      "    shape : (3, 3)\n",
      "    ndim : 2\n",
      "    dtype : int32\n",
      "    array data : \n",
      " [[10 11 12]\n",
      " [13 14 15]\n",
      " [16 17 18]]\n"
     ]
    }
   ],
   "source": [
    "# 1이상 10미만의 범위에서 1씩 증가하는 숫자로 3*3구조의 배열 a 생성\n",
    "# 10이상 19미만의 범위에서 1씩 증가하는 숫자로 3*3 구조의 배열 b를 생성\n",
    "\n",
    "a = np.arange(1,10).reshape(3,3)\n",
    "b = np.arange(10,19).reshape(3,3)\n",
    "np_print(a)\n",
    "np_print(b)"
   ]
  },
  {
   "cell_type": "code",
   "execution_count": 214,
   "id": "4c05e4bc",
   "metadata": {},
   "outputs": [
    {
     "data": {
      "text/plain": [
       "array([ 1,  2,  3,  4,  5,  6,  7,  8,  9, 10, 11, 12, 13, 14, 15, 16, 17,\n",
       "       18])"
      ]
     },
     "execution_count": 214,
     "metadata": {},
     "output_type": "execute_result"
    }
   ],
   "source": [
    "# 2개의 배열 결합\n",
    "# axis를 지정하지 않은 경우 : np.append(arr1,arr2) => axis = None\n",
    "np.append(a,b)"
   ]
  },
  {
   "cell_type": "code",
   "execution_count": 215,
   "id": "808f5281",
   "metadata": {},
   "outputs": [
    {
     "data": {
      "text/plain": [
       "array([[ 1,  2,  3],\n",
       "       [ 4,  5,  6],\n",
       "       [ 7,  8,  9],\n",
       "       [10, 11, 12],\n",
       "       [13, 14, 15],\n",
       "       [16, 17, 18]])"
      ]
     },
     "execution_count": 215,
     "metadata": {},
     "output_type": "execute_result"
    }
   ],
   "source": [
    "# 2개의 배열 결합\n",
    "# axis = 0 : 행 단위 결합 : 열 개수는 3개로 동일\n",
    "np.append(a,b,axis=0)"
   ]
  },
  {
   "cell_type": "code",
   "execution_count": 216,
   "id": "d57a2eac",
   "metadata": {},
   "outputs": [
    {
     "data": {
      "text/plain": [
       "array([[ 1,  2,  3, 10, 11, 12],\n",
       "       [ 4,  5,  6, 13, 14, 15],\n",
       "       [ 7,  8,  9, 16, 17, 18]])"
      ]
     },
     "execution_count": 216,
     "metadata": {},
     "output_type": "execute_result"
    }
   ],
   "source": [
    "# axis = 1 : 열 단위 결합 : 행 개수 동일\n",
    "np.append(a,b,axis=1)"
   ]
  },
  {
   "cell_type": "code",
   "execution_count": 217,
   "id": "f203f02d",
   "metadata": {},
   "outputs": [
    {
     "name": "stdout",
     "output_type": "stream",
     "text": [
      "\n",
      "    type : <class 'numpy.ndarray'>\n",
      "    shape : (3, 5)\n",
      "    ndim : 2\n",
      "    dtype : int32\n",
      "    array data : \n",
      " [[30 31 32 33 34]\n",
      " [35 36 37 38 39]\n",
      " [40 41 42 43 44]]\n"
     ]
    }
   ],
   "source": [
    "# 열의 개수가 다른 배열과의 결합\n",
    "c = np.arange(30,45).reshape(3,5)\n",
    "np_print(c)"
   ]
  },
  {
   "cell_type": "code",
   "execution_count": 218,
   "id": "8b8a9999",
   "metadata": {},
   "outputs": [
    {
     "ename": "ValueError",
     "evalue": "all the input array dimensions for the concatenation axis must match exactly, but along dimension 1, the array at index 0 has size 3 and the array at index 1 has size 5",
     "output_type": "error",
     "traceback": [
      "\u001b[1;31m---------------------------------------------------------------------------\u001b[0m",
      "\u001b[1;31mValueError\u001b[0m                                Traceback (most recent call last)",
      "Input \u001b[1;32mIn [218]\u001b[0m, in \u001b[0;36m<cell line: 1>\u001b[1;34m()\u001b[0m\n\u001b[1;32m----> 1\u001b[0m \u001b[43mnp\u001b[49m\u001b[38;5;241;43m.\u001b[39;49m\u001b[43mappend\u001b[49m\u001b[43m(\u001b[49m\u001b[43ma\u001b[49m\u001b[43m,\u001b[49m\u001b[43mc\u001b[49m\u001b[43m,\u001b[49m\u001b[43m \u001b[49m\u001b[43maxis\u001b[49m\u001b[38;5;241;43m=\u001b[39;49m\u001b[38;5;241;43m0\u001b[39;49m\u001b[43m)\u001b[49m\n",
      "File \u001b[1;32m<__array_function__ internals>:5\u001b[0m, in \u001b[0;36mappend\u001b[1;34m(*args, **kwargs)\u001b[0m\n",
      "File \u001b[1;32mC:\\ProgramData\\Anaconda3\\lib\\site-packages\\numpy\\lib\\function_base.py:4817\u001b[0m, in \u001b[0;36mappend\u001b[1;34m(arr, values, axis)\u001b[0m\n\u001b[0;32m   4815\u001b[0m     values \u001b[38;5;241m=\u001b[39m ravel(values)\n\u001b[0;32m   4816\u001b[0m     axis \u001b[38;5;241m=\u001b[39m arr\u001b[38;5;241m.\u001b[39mndim\u001b[38;5;241m-\u001b[39m\u001b[38;5;241m1\u001b[39m\n\u001b[1;32m-> 4817\u001b[0m \u001b[38;5;28;01mreturn\u001b[39;00m \u001b[43mconcatenate\u001b[49m\u001b[43m(\u001b[49m\u001b[43m(\u001b[49m\u001b[43marr\u001b[49m\u001b[43m,\u001b[49m\u001b[43m \u001b[49m\u001b[43mvalues\u001b[49m\u001b[43m)\u001b[49m\u001b[43m,\u001b[49m\u001b[43m \u001b[49m\u001b[43maxis\u001b[49m\u001b[38;5;241;43m=\u001b[39;49m\u001b[43maxis\u001b[49m\u001b[43m)\u001b[49m\n",
      "File \u001b[1;32m<__array_function__ internals>:5\u001b[0m, in \u001b[0;36mconcatenate\u001b[1;34m(*args, **kwargs)\u001b[0m\n",
      "\u001b[1;31mValueError\u001b[0m: all the input array dimensions for the concatenation axis must match exactly, but along dimension 1, the array at index 0 has size 3 and the array at index 1 has size 5"
     ]
    }
   ],
   "source": [
    "np.append(a,c, axis=0)"
   ]
  },
  {
   "cell_type": "code",
   "execution_count": 219,
   "id": "1837bea5",
   "metadata": {},
   "outputs": [
    {
     "data": {
      "text/plain": [
       "array([[ 1,  2,  3, 30, 31, 32, 33, 34],\n",
       "       [ 4,  5,  6, 35, 36, 37, 38, 39],\n",
       "       [ 7,  8,  9, 40, 41, 42, 43, 44]])"
      ]
     },
     "execution_count": 219,
     "metadata": {},
     "output_type": "execute_result"
    }
   ],
   "source": [
    "np.append(a,c,axis=1)"
   ]
  },
  {
   "cell_type": "code",
   "execution_count": 221,
   "id": "dea940b5",
   "metadata": {},
   "outputs": [
    {
     "data": {
      "text/plain": [
       "array([[30, 31, 32],\n",
       "       [33, 34, 35],\n",
       "       [36, 37, 38],\n",
       "       [39, 40, 41],\n",
       "       [42, 43, 44]])"
      ]
     },
     "execution_count": 221,
     "metadata": {},
     "output_type": "execute_result"
    }
   ],
   "source": [
    "# 행 단위로 결합할 수 있는 구조로 변경(resize 활용)\n",
    "c.resize((5,3))\n",
    "c"
   ]
  },
  {
   "cell_type": "code",
   "execution_count": 222,
   "id": "79f02097",
   "metadata": {},
   "outputs": [
    {
     "data": {
      "text/plain": [
       "array([[ 1,  2,  3],\n",
       "       [ 4,  5,  6],\n",
       "       [ 7,  8,  9],\n",
       "       [30, 31, 32],\n",
       "       [33, 34, 35],\n",
       "       [36, 37, 38],\n",
       "       [39, 40, 41],\n",
       "       [42, 43, 44]])"
      ]
     },
     "execution_count": 222,
     "metadata": {},
     "output_type": "execute_result"
    }
   ],
   "source": [
    "# 행과 열을 바꾸었기 때문에 axis = 0이 가능해짐\n",
    "np.append(a,c,axis=0)"
   ]
  },
  {
   "cell_type": "code",
   "execution_count": 224,
   "id": "fbef8cb1",
   "metadata": {},
   "outputs": [
    {
     "name": "stdout",
     "output_type": "stream",
     "text": [
      "\n",
      "    type : <class 'numpy.ndarray'>\n",
      "    shape : (4, 3)\n",
      "    ndim : 2\n",
      "    dtype : int32\n",
      "    array data : \n",
      " [[ 90  91  92]\n",
      " [ 93  94  95]\n",
      " [ 96  97  98]\n",
      " [ 99 100 101]]\n"
     ]
    }
   ],
   "source": [
    "# 행 개수가 다른 배열과의 결합\n",
    "d = np.arange(90,102).reshape(4,3)\n",
    "np_print(d)"
   ]
  },
  {
   "cell_type": "code",
   "execution_count": 225,
   "id": "b8394232",
   "metadata": {},
   "outputs": [
    {
     "data": {
      "text/plain": [
       "array([[ 10,  11,  12],\n",
       "       [ 13,  14,  15],\n",
       "       [ 16,  17,  18],\n",
       "       [ 90,  91,  92],\n",
       "       [ 93,  94,  95],\n",
       "       [ 96,  97,  98],\n",
       "       [ 99, 100, 101]])"
      ]
     },
     "execution_count": 225,
     "metadata": {},
     "output_type": "execute_result"
    }
   ],
   "source": [
    "np.append(b,d,axis=0)"
   ]
  },
  {
   "cell_type": "code",
   "execution_count": 227,
   "id": "6b3cf20b",
   "metadata": {},
   "outputs": [
    {
     "data": {
      "text/plain": [
       "array([[ 10,  11,  12,  90,  91,  92,  93],\n",
       "       [ 13,  14,  15,  94,  95,  96,  97],\n",
       "       [ 16,  17,  18,  98,  99, 100, 101]])"
      ]
     },
     "execution_count": 227,
     "metadata": {},
     "output_type": "execute_result"
    }
   ],
   "source": [
    "# 오류가 안나게 하기 위해선 둘 중 하나를 reshape,resize 해줘야 가능\n",
    "np.append(b,d.reshape(3,4),axis=1)"
   ]
  },
  {
   "cell_type": "markdown",
   "id": "ad1ba584",
   "metadata": {},
   "source": [
    "- np.insert(arr, idx, values, axis=None)\n",
    "\n",
    "    - 지정한 인덱스(idx)에 value를 추가\n",
    "    - axis 지정하지 않는 경우(기본값) : 1차원 배열의 변형되고 해당 인덱스에 추가\n",
    "    - axis = 0 : 행 방향으로 n번째 행에 추가\n",
    "    - axis = 1 : 열 방향으로 n번째 열에 추가\n",
    "    - 원본 배열에 반영되지 않음"
   ]
  },
  {
   "cell_type": "code",
   "execution_count": 228,
   "id": "b90de750",
   "metadata": {},
   "outputs": [
    {
     "name": "stdout",
     "output_type": "stream",
     "text": [
      "\n",
      "    type : <class 'numpy.ndarray'>\n",
      "    shape : (3, 3)\n",
      "    ndim : 2\n",
      "    dtype : int32\n",
      "    array data : \n",
      " [[1 2 3]\n",
      " [4 5 6]\n",
      " [7 8 9]]\n"
     ]
    }
   ],
   "source": [
    "# 1이상 10미만 범위에서 1씩 증가하는 숫자로 3*3구조의 배열 생성\n",
    "arr = np.arange(1,10).reshape(3,3)\n",
    "np_print(arr)"
   ]
  },
  {
   "cell_type": "code",
   "execution_count": 229,
   "id": "652050db",
   "metadata": {},
   "outputs": [
    {
     "data": {
      "text/plain": [
       "array([  1, 100,   2,   3,   4,   5,   6,   7,   8,   9])"
      ]
     },
     "execution_count": 229,
     "metadata": {},
     "output_type": "execute_result"
    }
   ],
   "source": [
    "# aixs 지정하지 않은 경우 : arr 를 1차원 배열로 변형 후\n",
    "# 변형된 배열의 지정 index에 값 추가\n",
    "# 2d array 를 1d array로 변형, 1번 index에 추가\n",
    "np.insert(arr,1,100)"
   ]
  },
  {
   "cell_type": "code",
   "execution_count": 230,
   "id": "d3d5b5e2",
   "metadata": {},
   "outputs": [
    {
     "data": {
      "text/plain": [
       "array([[1, 2, 3],\n",
       "       [4, 5, 6],\n",
       "       [7, 8, 9]])"
      ]
     },
     "execution_count": 230,
     "metadata": {},
     "output_type": "execute_result"
    }
   ],
   "source": [
    "# 원본 배열 유지\n",
    "arr"
   ]
  },
  {
   "cell_type": "code",
   "execution_count": 231,
   "id": "2ecec549",
   "metadata": {},
   "outputs": [
    {
     "data": {
      "text/plain": [
       "array([[  1,   2,   3],\n",
       "       [100, 100, 100],\n",
       "       [  4,   5,   6],\n",
       "       [  7,   8,   9]])"
      ]
     },
     "execution_count": 231,
     "metadata": {},
     "output_type": "execute_result"
    }
   ],
   "source": [
    "# axis = 0 : 행 방향으로 index번째 행을 추가\n",
    "# a배열의 1번 index 행에 100을 추가 => 행의 요소 개수(열 개수)만큼 100이 추가\n",
    "np.insert(arr, 1, 100, axis=0)"
   ]
  },
  {
   "cell_type": "code",
   "execution_count": 233,
   "id": "a5b05d9f",
   "metadata": {},
   "outputs": [
    {
     "data": {
      "text/plain": [
       "array([[  1,   2, 200,   3],\n",
       "       [  4,   5, 200,   6],\n",
       "       [  7,   8, 200,   9]])"
      ]
     },
     "execution_count": 233,
     "metadata": {},
     "output_type": "execute_result"
    }
   ],
   "source": [
    "# axis = 1, 열 방향으로 index 번째 행을 추가\n",
    "# a 배열의 2번 인덱스 열에 200 추가\n",
    "np.insert(arr,2,200, axis=1)"
   ]
  },
  {
   "cell_type": "code",
   "execution_count": 234,
   "id": "35bcdd81",
   "metadata": {},
   "outputs": [
    {
     "data": {
      "text/plain": [
       "array([[ 1,  2, 10,  3],\n",
       "       [ 4,  5, 20,  6],\n",
       "       [ 7,  8, 30,  9]])"
      ]
     },
     "execution_count": 234,
     "metadata": {},
     "output_type": "execute_result"
    }
   ],
   "source": [
    "# 요소마다 다른 값으로 행/열 추가\n",
    "# 요소의 개수를 동일하게 작성 -> 축을 기준으로 요소 개수 결정 -> axis 축 설정\n",
    "np.insert(arr,2,[10,20,30],axis=1)"
   ]
  },
  {
   "cell_type": "markdown",
   "id": "13a0a801",
   "metadata": {},
   "source": [
    "3) 요소 삭제\n",
    "\n",
    "- np.delete(arr, idx, axis=None)\n",
    "    - 지정한 인덱스(idx)에 해당하는 요소를 삭제\n",
    "    - axis 지정하지 않는 경우(기본값) : 1차원 배열로 변형되어 해당 인덱스에 해당하는 요소를 삭제\n",
    "    - axis = 0 : 행 방향으로 n번째 행을 삭제\n",
    "    - axis = 1 : 열 방향으로 n번째 열을 삭제\n",
    "    - 원본 배열에 반영되지 않음"
   ]
  },
  {
   "cell_type": "code",
   "execution_count": 235,
   "id": "122700c6",
   "metadata": {},
   "outputs": [
    {
     "data": {
      "text/plain": [
       "array([[1, 2, 3],\n",
       "       [4, 5, 6],\n",
       "       [7, 8, 9]])"
      ]
     },
     "execution_count": 235,
     "metadata": {},
     "output_type": "execute_result"
    }
   ],
   "source": [
    "a"
   ]
  },
  {
   "cell_type": "code",
   "execution_count": 238,
   "id": "27369bb4",
   "metadata": {},
   "outputs": [
    {
     "data": {
      "text/plain": [
       "array([1, 2, 3, 4, 5, 6, 7, 8, 9])"
      ]
     },
     "execution_count": 238,
     "metadata": {},
     "output_type": "execute_result"
    }
   ],
   "source": [
    "# a.reshape(9)\n",
    "np.ravel(a)"
   ]
  },
  {
   "cell_type": "code",
   "execution_count": 239,
   "id": "89c8c748",
   "metadata": {},
   "outputs": [
    {
     "data": {
      "text/plain": [
       "array([1, 3, 4, 5, 6, 7, 8, 9])"
      ]
     },
     "execution_count": 239,
     "metadata": {},
     "output_type": "execute_result"
    }
   ],
   "source": [
    "# axis 를 지정 안한 경우 : 1차원 배열로 변환 -> 지정한 index에 해당하는 요소를 삭제\n",
    "# a배열에 대해 1번 인덱스 요소 삭제\n",
    "np.delete(a,1)"
   ]
  },
  {
   "cell_type": "code",
   "execution_count": 240,
   "id": "3c31cc18",
   "metadata": {},
   "outputs": [
    {
     "data": {
      "text/plain": [
       "array([[1, 2, 3],\n",
       "       [4, 5, 6],\n",
       "       [7, 8, 9]])"
      ]
     },
     "execution_count": 240,
     "metadata": {},
     "output_type": "execute_result"
    }
   ],
   "source": [
    "# 원본 배열은 변경되지 않음\n",
    "a"
   ]
  },
  {
   "cell_type": "code",
   "execution_count": 244,
   "id": "17251cf9",
   "metadata": {},
   "outputs": [
    {
     "data": {
      "text/plain": [
       "array([[4, 5, 6],\n",
       "       [7, 8, 9]])"
      ]
     },
     "execution_count": 244,
     "metadata": {},
     "output_type": "execute_result"
    }
   ],
   "source": [
    "np.delete(a,0,axis=0)"
   ]
  },
  {
   "cell_type": "code",
   "execution_count": 245,
   "id": "abf50fb8",
   "metadata": {},
   "outputs": [
    {
     "data": {
      "text/plain": [
       "array([[2, 3],\n",
       "       [5, 6],\n",
       "       [8, 9]])"
      ]
     },
     "execution_count": 245,
     "metadata": {},
     "output_type": "execute_result"
    }
   ],
   "source": [
    "np.delete(a,0,axis=1)"
   ]
  },
  {
   "cell_type": "markdown",
   "id": "71df5e5a",
   "metadata": {},
   "source": [
    "4) 배열 결합\n",
    "\n",
    "- np.concatenate((arr1, arr2, ...), axis=0)\n",
    "    - axis = 0(기본값) : 행 방향으로 두 배열 결합 (단, 열의 개수가 동일)\n",
    "    - axis = 1 : 열 방향으로 두 배열 결합 (단, 행의 개수가 동일)\n",
    "    - 원본 배열들은 변경되지 않음"
   ]
  },
  {
   "cell_type": "code",
   "execution_count": 246,
   "id": "6eae4aed",
   "metadata": {},
   "outputs": [],
   "source": [
    "# 1이상 7미만의 범위에서 1씩 증가하는 숫자로 2 x 3 구조의 배열 a 생성\n",
    "# 7이상 13미만의 범위에서 1씩 증가하는 숫자로 2 x 3 구조의 배열 b 생성\n",
    "# 13이상 23미만의 범위에서 1씩 증가하는 숫자로 2 x 5 구조의 배열 c 생성(열개수 다름)\n",
    "# 23이상 38미만의 범위에서 1씩 증가하는 숫자로 5 x 3 구조읩 배열 d 생성(행개수 다름)\n",
    "a = np.arange(1, 7).reshape(2, 3)\n",
    "b = np.arange(7, 13).reshape(2, 3)\n",
    "c = np.arange(13, 23).reshape(2, 5)\n",
    "d = np.arange(23, 38).reshape(5, 3)"
   ]
  },
  {
   "cell_type": "code",
   "execution_count": 247,
   "id": "f04059a6",
   "metadata": {},
   "outputs": [
    {
     "name": "stdout",
     "output_type": "stream",
     "text": [
      "[[1 2 3]\n",
      " [4 5 6]]\n",
      "\n",
      "[[ 7  8  9]\n",
      " [10 11 12]]\n",
      "\n",
      "[[13 14 15 16 17]\n",
      " [18 19 20 21 22]]\n",
      "\n",
      "[[23 24 25]\n",
      " [26 27 28]\n",
      " [29 30 31]\n",
      " [32 33 34]\n",
      " [35 36 37]]\n",
      "\n"
     ]
    }
   ],
   "source": [
    "print(a)\n",
    "print()\n",
    "print(b)\n",
    "print()\n",
    "print(c)\n",
    "print()\n",
    "print(d)\n",
    "print()"
   ]
  },
  {
   "cell_type": "code",
   "execution_count": 248,
   "id": "841b95ee",
   "metadata": {},
   "outputs": [
    {
     "data": {
      "text/plain": [
       "array([[ 1,  2,  3],\n",
       "       [ 4,  5,  6],\n",
       "       [ 7,  8,  9],\n",
       "       [10, 11, 12]])"
      ]
     },
     "execution_count": 248,
     "metadata": {},
     "output_type": "execute_result"
    }
   ],
   "source": [
    "# axis=0(기본값): 행 방향으로 두 배열 결합\n",
    "# np.append(a,b)\n",
    "# [1,2,3,4,5,6,7,8,9,10,11,12]\n",
    "np.concatenate((a,b))"
   ]
  },
  {
   "cell_type": "code",
   "execution_count": 249,
   "id": "c2774d6b",
   "metadata": {},
   "outputs": [
    {
     "data": {
      "text/plain": [
       "array([[ 1,  2,  3,  7,  8,  9],\n",
       "       [ 4,  5,  6, 10, 11, 12]])"
      ]
     },
     "execution_count": 249,
     "metadata": {},
     "output_type": "execute_result"
    }
   ],
   "source": [
    "# axis=1 : 열 방향으로 두 배열 결합\n",
    "np.concatenate((a,b),axis=1)"
   ]
  },
  {
   "cell_type": "code",
   "execution_count": 253,
   "id": "1dde7ea5",
   "metadata": {},
   "outputs": [
    {
     "ename": "ValueError",
     "evalue": "all the input array dimensions for the concatenation axis must match exactly, but along dimension 1, the array at index 0 has size 3 and the array at index 1 has size 5",
     "output_type": "error",
     "traceback": [
      "\u001b[1;31m---------------------------------------------------------------------------\u001b[0m",
      "\u001b[1;31mValueError\u001b[0m                                Traceback (most recent call last)",
      "Input \u001b[1;32mIn [253]\u001b[0m, in \u001b[0;36m<cell line: 1>\u001b[1;34m()\u001b[0m\n\u001b[1;32m----> 1\u001b[0m \u001b[43mnp\u001b[49m\u001b[38;5;241;43m.\u001b[39;49m\u001b[43mconcatenate\u001b[49m\u001b[43m(\u001b[49m\u001b[43m(\u001b[49m\u001b[43ma\u001b[49m\u001b[43m,\u001b[49m\u001b[43mc\u001b[49m\u001b[43m)\u001b[49m\u001b[43m)\u001b[49m\n",
      "File \u001b[1;32m<__array_function__ internals>:5\u001b[0m, in \u001b[0;36mconcatenate\u001b[1;34m(*args, **kwargs)\u001b[0m\n",
      "\u001b[1;31mValueError\u001b[0m: all the input array dimensions for the concatenation axis must match exactly, but along dimension 1, the array at index 0 has size 3 and the array at index 1 has size 5"
     ]
    }
   ],
   "source": [
    "np.concatenate((a,c))"
   ]
  },
  {
   "cell_type": "code",
   "execution_count": 254,
   "id": "af9a7470",
   "metadata": {},
   "outputs": [
    {
     "data": {
      "text/plain": [
       "array([[ 1,  2,  3, 13, 14, 15, 16, 17],\n",
       "       [ 4,  5,  6, 18, 19, 20, 21, 22]])"
      ]
     },
     "execution_count": 254,
     "metadata": {},
     "output_type": "execute_result"
    }
   ],
   "source": [
    "np.concatenate((a,c),axis=1)"
   ]
  },
  {
   "cell_type": "code",
   "execution_count": 255,
   "id": "e0f4bac5",
   "metadata": {},
   "outputs": [
    {
     "data": {
      "text/plain": [
       "array([[ 1,  2,  3],\n",
       "       [ 4,  5,  6],\n",
       "       [23, 24, 25],\n",
       "       [26, 27, 28],\n",
       "       [29, 30, 31],\n",
       "       [32, 33, 34],\n",
       "       [35, 36, 37]])"
      ]
     },
     "execution_count": 255,
     "metadata": {},
     "output_type": "execute_result"
    }
   ],
   "source": [
    "# 열 방향으로 결합 : 행 개수 동일\n",
    "np.concatenate((a,d))"
   ]
  },
  {
   "cell_type": "code",
   "execution_count": 256,
   "id": "ddc771da",
   "metadata": {},
   "outputs": [
    {
     "ename": "ValueError",
     "evalue": "all the input array dimensions for the concatenation axis must match exactly, but along dimension 0, the array at index 0 has size 2 and the array at index 1 has size 5",
     "output_type": "error",
     "traceback": [
      "\u001b[1;31m---------------------------------------------------------------------------\u001b[0m",
      "\u001b[1;31mValueError\u001b[0m                                Traceback (most recent call last)",
      "Input \u001b[1;32mIn [256]\u001b[0m, in \u001b[0;36m<cell line: 1>\u001b[1;34m()\u001b[0m\n\u001b[1;32m----> 1\u001b[0m \u001b[43mnp\u001b[49m\u001b[38;5;241;43m.\u001b[39;49m\u001b[43mconcatenate\u001b[49m\u001b[43m(\u001b[49m\u001b[43m(\u001b[49m\u001b[43ma\u001b[49m\u001b[43m,\u001b[49m\u001b[43md\u001b[49m\u001b[43m)\u001b[49m\u001b[43m,\u001b[49m\u001b[43maxis\u001b[49m\u001b[38;5;241;43m=\u001b[39;49m\u001b[38;5;241;43m1\u001b[39;49m\u001b[43m)\u001b[49m\n",
      "File \u001b[1;32m<__array_function__ internals>:5\u001b[0m, in \u001b[0;36mconcatenate\u001b[1;34m(*args, **kwargs)\u001b[0m\n",
      "\u001b[1;31mValueError\u001b[0m: all the input array dimensions for the concatenation axis must match exactly, but along dimension 0, the array at index 0 has size 2 and the array at index 1 has size 5"
     ]
    }
   ],
   "source": [
    "np.concatenate((a,d),axis=1)"
   ]
  },
  {
   "cell_type": "code",
   "execution_count": null,
   "id": "a388d18d",
   "metadata": {},
   "outputs": [],
   "source": []
  },
  {
   "cell_type": "markdown",
   "id": "a672b4c2",
   "metadata": {},
   "source": [
    "- np.split(arr, indices_or_sections, axis=0)\n",
    "\n",
    "    - axis = 0(기본값) : 행 단위로 분리\n",
    "    - axis = 1 : 열 단위로 분리\n",
    "    - 원본 배열은 변경되지 않음"
   ]
  },
  {
   "cell_type": "code",
   "execution_count": 258,
   "id": "29ba9d52",
   "metadata": {},
   "outputs": [
    {
     "data": {
      "text/plain": [
       "array([[ 1,  2,  3,  4,  5,  6],\n",
       "       [ 7,  8,  9, 10, 11, 12],\n",
       "       [13, 14, 15, 16, 17, 18],\n",
       "       [19, 20, 21, 22, 23, 24],\n",
       "       [25, 26, 27, 28, 29, 30],\n",
       "       [31, 32, 33, 34, 35, 36]])"
      ]
     },
     "execution_count": 258,
     "metadata": {},
     "output_type": "execute_result"
    }
   ],
   "source": [
    "a = np.arange(1,37).reshape(6,6)\n",
    "a"
   ]
  },
  {
   "cell_type": "code",
   "execution_count": 259,
   "id": "10174ec2",
   "metadata": {},
   "outputs": [
    {
     "data": {
      "text/plain": [
       "[array([[1, 2, 3, 4, 5, 6]]),\n",
       " array([[ 7,  8,  9, 10, 11, 12]]),\n",
       " array([[13, 14, 15, 16, 17, 18]]),\n",
       " array([[19, 20, 21, 22, 23, 24],\n",
       "        [25, 26, 27, 28, 29, 30],\n",
       "        [31, 32, 33, 34, 35, 36]])]"
      ]
     },
     "execution_count": 259,
     "metadata": {},
     "output_type": "execute_result"
    }
   ],
   "source": [
    "# 균등하지 않게 행 기준으로 분리\n",
    "np.split(a,[1,2,3])"
   ]
  },
  {
   "cell_type": "code",
   "execution_count": 262,
   "id": "cbaca3f3",
   "metadata": {},
   "outputs": [
    {
     "data": {
      "text/plain": [
       "[array([[ 1,  2,  3,  4,  5,  6],\n",
       "        [ 7,  8,  9, 10, 11, 12]]),\n",
       " array([[13, 14, 15, 16, 17, 18],\n",
       "        [19, 20, 21, 22, 23, 24]]),\n",
       " array([[25, 26, 27, 28, 29, 30],\n",
       "        [31, 32, 33, 34, 35, 36]])]"
      ]
     },
     "execution_count": 262,
     "metadata": {},
     "output_type": "execute_result"
    }
   ],
   "source": [
    "# 균등한 간격으로 행 기준으로 3개 분리\n",
    "np.split(a,3)"
   ]
  },
  {
   "cell_type": "code",
   "execution_count": 263,
   "id": "d336d98f",
   "metadata": {},
   "outputs": [
    {
     "data": {
      "text/plain": [
       "[array([[ 1,  2],\n",
       "        [ 7,  8],\n",
       "        [13, 14],\n",
       "        [19, 20],\n",
       "        [25, 26],\n",
       "        [31, 32]]),\n",
       " array([[ 3,  4],\n",
       "        [ 9, 10],\n",
       "        [15, 16],\n",
       "        [21, 22],\n",
       "        [27, 28],\n",
       "        [33, 34]]),\n",
       " array([[ 5,  6],\n",
       "        [11, 12],\n",
       "        [17, 18],\n",
       "        [23, 24],\n",
       "        [29, 30],\n",
       "        [35, 36]])]"
      ]
     },
     "execution_count": 263,
     "metadata": {},
     "output_type": "execute_result"
    }
   ],
   "source": [
    "# 균등한 간격으로 열 기준 3개 분리\n",
    "np.split(a,3,axis=1)"
   ]
  },
  {
   "cell_type": "code",
   "execution_count": null,
   "id": "d4d31fb8",
   "metadata": {},
   "outputs": [],
   "source": []
  }
 ],
 "metadata": {
  "kernelspec": {
   "display_name": "Python 3 (ipykernel)",
   "language": "python",
   "name": "python3"
  },
  "language_info": {
   "codemirror_mode": {
    "name": "ipython",
    "version": 3
   },
   "file_extension": ".py",
   "mimetype": "text/x-python",
   "name": "python",
   "nbconvert_exporter": "python",
   "pygments_lexer": "ipython3",
   "version": "3.9.12"
  }
 },
 "nbformat": 4,
 "nbformat_minor": 5
}
