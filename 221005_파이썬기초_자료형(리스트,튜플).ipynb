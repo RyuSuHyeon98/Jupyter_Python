{
 "cells": [
  {
   "cell_type": "markdown",
   "id": "4f0c740c",
   "metadata": {},
   "source": [
    "# 자료형\n",
    "\n",
    "여러 개의 아이템들을 저장하는 객체 = 여러 개의 값(데이터타입)을 저장하는 그릇\n",
    "\n",
    "## 1. 리스트(List)\n",
    "\n",
    "- 문법 기호 : [아이템1, 아이템2, 아이템3 .... ]\n",
    "- 용어 : 아이템 = 요소\n",
    "- 아이템으로 가질 수 있는 데이터 타입 : 문자, 숫자, 리스트, 딕셔너리 ...\n",
    "- 종류\n",
    "  * 아이템이 없는 리스트\n",
    "  * 1차원 리스트\n",
    "  * 다차원 리스트\n",
    "- 특징\n",
    "  * 인덱스 활용\n",
    "\n",
    "* 다차원 리스트의 구조에 대한 이해"
   ]
  },
  {
   "cell_type": "markdown",
   "id": "b852a28c",
   "metadata": {},
   "source": [
    "# 1. 생성하기"
   ]
  },
  {
   "cell_type": "code",
   "execution_count": 1,
   "id": "c5c6530b",
   "metadata": {},
   "outputs": [
    {
     "name": "stdout",
     "output_type": "stream",
     "text": [
      "<class 'list'> <class 'list'>\n",
      "[] []\n"
     ]
    }
   ],
   "source": [
    "# 빈 리스드 생성하기 = 아이템이 없는 리스트\n",
    "# 문법 기호 : []\n",
    "# 함수 : list()\n",
    "a = []\n",
    "a2 = list()\n",
    "print(type(a),type(a2))\n",
    "print(a,a2)"
   ]
  },
  {
   "cell_type": "code",
   "execution_count": 14,
   "id": "f65e69a6",
   "metadata": {},
   "outputs": [
    {
     "data": {
      "text/plain": [
       "['a', 10, 1.1, [1, 23, 1, 'a']]"
      ]
     },
     "execution_count": 14,
     "metadata": {},
     "output_type": "execute_result"
    }
   ],
   "source": [
    "# 모든 데이터타입을 아이템으로 가질 수 있다.\n",
    "a3 = ['a', 10, 1.1, [1,23,1,'a']]\n",
    "a3"
   ]
  },
  {
   "cell_type": "code",
   "execution_count": 11,
   "id": "024c4e7c",
   "metadata": {},
   "outputs": [
    {
     "data": {
      "text/plain": [
       "[1, 23, 1, 'a']"
      ]
     },
     "execution_count": 11,
     "metadata": {},
     "output_type": "execute_result"
    }
   ],
   "source": [
    "# list는 하나의 문자열로 지정 \n",
    "# [1,23,1,'a'] 는 하나의 문자열임`\n",
    "a3[3]"
   ]
  },
  {
   "cell_type": "code",
   "execution_count": 12,
   "id": "bc6d98d8",
   "metadata": {},
   "outputs": [
    {
     "data": {
      "text/plain": [
       "'a'"
      ]
     },
     "execution_count": 12,
     "metadata": {},
     "output_type": "execute_result"
    }
   ],
   "source": [
    "# 때문에 두 번의 과정을 거쳐야함\n",
    "a3[3][3]"
   ]
  },
  {
   "cell_type": "code",
   "execution_count": null,
   "id": "87bf41f3",
   "metadata": {},
   "outputs": [],
   "source": [
    "# 2차원 데이터는 마치 좌표처럼 데이터를 지목해 출력가능\n",
    "# a3를 x축과 y축으로 보면\n",
    "#       y축\n",
    "#      ['a']['']['']['']\n",
    "#      [10] ['']['']['']\n",
    "#      [1.1]['']['']['']\n",
    "# x축  [1] [23][1] ['a']"
   ]
  },
  {
   "cell_type": "markdown",
   "id": "95cc8d08",
   "metadata": {},
   "source": [
    "## 2. 인덱싱, 슬라이싱\n",
    "리스트를 인덱스 번호로 접근하면 해당하는 위치의 값(아이템)을 가져옴\n",
    "\n",
    "* 복습\n",
    "    - 첫 번째 인덱스 번호는? : 0번 인덱스\n",
    "    - 마지막 인덱스 번호는? : -1"
   ]
  },
  {
   "cell_type": "markdown",
   "id": "3fd03530",
   "metadata": {},
   "source": [
    "### 인덱싱\n",
    "특정 위치에 있는 하나의 아이템에 접근함 = 하나의 값을 출력함"
   ]
  },
  {
   "cell_type": "code",
   "execution_count": 15,
   "id": "e3a39158",
   "metadata": {},
   "outputs": [],
   "source": [
    "# 리스트 생성하기\n",
    "a = [1,2,3,4,5,6,7,8,9]"
   ]
  },
  {
   "cell_type": "code",
   "execution_count": 16,
   "id": "1b4cb174",
   "metadata": {},
   "outputs": [
    {
     "data": {
      "text/plain": [
       "1"
      ]
     },
     "execution_count": 16,
     "metadata": {},
     "output_type": "execute_result"
    }
   ],
   "source": [
    "# 첫 번째 아이템 인덱스 번호 : 0\n",
    "# 인덱싱 문법 : 객체[인덱스번호]\n",
    "a[0]"
   ]
  },
  {
   "cell_type": "code",
   "execution_count": 17,
   "id": "bc1165c6",
   "metadata": {},
   "outputs": [
    {
     "data": {
      "text/plain": [
       "6"
      ]
     },
     "execution_count": 17,
     "metadata": {},
     "output_type": "execute_result"
    }
   ],
   "source": [
    "# 리스트에서 6이라는 아이템 가져오기\n",
    "a[5]"
   ]
  },
  {
   "cell_type": "code",
   "execution_count": 22,
   "id": "4c20b5f1",
   "metadata": {},
   "outputs": [
    {
     "data": {
      "text/plain": [
       "9"
      ]
     },
     "execution_count": 22,
     "metadata": {},
     "output_type": "execute_result"
    }
   ],
   "source": [
    "# 리스트의 마지막 값 구하기\n",
    "a[-1]\n",
    "a[8]\n",
    "a[len(a)-1]"
   ]
  },
  {
   "cell_type": "markdown",
   "id": "e14706f8",
   "metadata": {},
   "source": [
    "### 슬라이싱\n",
    "\n",
    "- 정의 복습 : 연속된 범위에 있는 하나 혹은 하나 이상의 여러 개 아이템에 접근함\n",
    "- 문법 기호 : 리스트[시작번호:끝번호(:간격)] => 마지막번호 -1개까지만 접근"
   ]
  },
  {
   "cell_type": "code",
   "execution_count": 25,
   "id": "da53c588",
   "metadata": {},
   "outputs": [
    {
     "data": {
      "text/plain": [
       "[1, 2, 3]"
      ]
     },
     "execution_count": 25,
     "metadata": {},
     "output_type": "execute_result"
    }
   ],
   "source": [
    "# 리스트의 0-2번쨰 아이템가지 확인하기\n",
    "# 시작번호 : 0\n",
    "# 끝번호 : 3\n",
    "a[0:3]\n",
    "a[:3]"
   ]
  },
  {
   "cell_type": "code",
   "execution_count": 33,
   "id": "72982a0a",
   "metadata": {},
   "outputs": [
    {
     "data": {
      "text/plain": [
       "[4, 5, 6, 7, 8, 9]"
      ]
     },
     "execution_count": 33,
     "metadata": {},
     "output_type": "execute_result"
    }
   ],
   "source": [
    "# 리스트의 3번째 아이템부터 마지막 아이템까지 확인하기\n",
    "a[3:]\n",
    "a[3:10]"
   ]
  },
  {
   "cell_type": "markdown",
   "id": "f3af0a62",
   "metadata": {},
   "source": [
    "### 3. 아이템 추가하기 : 연산자와 함수를 이용한 리스트 아이템 추가 \n",
    "\n",
    "1) 산술연산자 : +,*\n",
    "\n",
    "2) 리스트의 함수(메서드) : 리스트.append(), 리스트.extend(), 리스트.insert()"
   ]
  },
  {
   "cell_type": "markdown",
   "id": "0d0c8b2e",
   "metadata": {},
   "source": [
    "### 3-1) 산술연산자\n",
    "\n",
    "    - 종류 : +, *\n",
    "    - 특징: 원본에 반영되지 않음(시뮬레이션)"
   ]
  },
  {
   "cell_type": "code",
   "execution_count": 34,
   "id": "ccef9d75",
   "metadata": {},
   "outputs": [
    {
     "data": {
      "text/plain": [
       "[1, 2, 3, 4, 5, 6]"
      ]
     },
     "execution_count": 34,
     "metadata": {},
     "output_type": "execute_result"
    }
   ],
   "source": [
    "# 리스트끼리 연결 : +\n",
    "a = [1,2,3]\n",
    "b = [4,5,6]\n",
    "a+b"
   ]
  },
  {
   "cell_type": "code",
   "execution_count": 35,
   "id": "3df80fac",
   "metadata": {},
   "outputs": [
    {
     "name": "stdout",
     "output_type": "stream",
     "text": [
      "[1, 2, 3] [4, 5, 6]\n"
     ]
    }
   ],
   "source": [
    "print(a,b)"
   ]
  },
  {
   "cell_type": "code",
   "execution_count": 36,
   "id": "08a5d7c5",
   "metadata": {},
   "outputs": [
    {
     "data": {
      "text/plain": [
       "[1, 2, 3, 1, 2, 3, 1, 2, 3]"
      ]
     },
     "execution_count": 36,
     "metadata": {},
     "output_type": "execute_result"
    }
   ],
   "source": [
    "# 리스트를 곱함 : *\n",
    "a * 3 # a + a + a"
   ]
  },
  {
   "cell_type": "code",
   "execution_count": 37,
   "id": "599ee7e7",
   "metadata": {},
   "outputs": [
    {
     "data": {
      "text/plain": [
       "[1, 2, 3]"
      ]
     },
     "execution_count": 37,
     "metadata": {},
     "output_type": "execute_result"
    }
   ],
   "source": [
    "a"
   ]
  },
  {
   "cell_type": "code",
   "execution_count": null,
   "id": "c5c08fbb",
   "metadata": {},
   "outputs": [],
   "source": []
  },
  {
   "cell_type": "code",
   "execution_count": null,
   "id": "092a798f",
   "metadata": {},
   "outputs": [],
   "source": []
  },
  {
   "cell_type": "code",
   "execution_count": null,
   "id": "6b0de6e3",
   "metadata": {},
   "outputs": [],
   "source": []
  },
  {
   "cell_type": "code",
   "execution_count": null,
   "id": "b44442f7",
   "metadata": {},
   "outputs": [],
   "source": []
  },
  {
   "cell_type": "code",
   "execution_count": null,
   "id": "f5b989ef",
   "metadata": {},
   "outputs": [],
   "source": []
  },
  {
   "cell_type": "code",
   "execution_count": null,
   "id": "44e89b2c",
   "metadata": {},
   "outputs": [],
   "source": []
  },
  {
   "cell_type": "code",
   "execution_count": null,
   "id": "2c490176",
   "metadata": {},
   "outputs": [],
   "source": []
  },
  {
   "cell_type": "code",
   "execution_count": null,
   "id": "0230cc8a",
   "metadata": {},
   "outputs": [],
   "source": []
  },
  {
   "cell_type": "code",
   "execution_count": null,
   "id": "3c7c8490",
   "metadata": {},
   "outputs": [],
   "source": []
  },
  {
   "cell_type": "code",
   "execution_count": null,
   "id": "0a4bf0d6",
   "metadata": {},
   "outputs": [],
   "source": []
  },
  {
   "cell_type": "code",
   "execution_count": null,
   "id": "d2c7961f",
   "metadata": {},
   "outputs": [],
   "source": []
  },
  {
   "cell_type": "code",
   "execution_count": null,
   "id": "35943354",
   "metadata": {},
   "outputs": [],
   "source": []
  },
  {
   "cell_type": "code",
   "execution_count": null,
   "id": "4e30de09",
   "metadata": {},
   "outputs": [],
   "source": []
  },
  {
   "cell_type": "code",
   "execution_count": null,
   "id": "b545fd21",
   "metadata": {},
   "outputs": [],
   "source": []
  }
 ],
 "metadata": {
  "kernelspec": {
   "display_name": "Python 3 (ipykernel)",
   "language": "python",
   "name": "python3"
  },
  "language_info": {
   "codemirror_mode": {
    "name": "ipython",
    "version": 3
   },
   "file_extension": ".py",
   "mimetype": "text/x-python",
   "name": "python",
   "nbconvert_exporter": "python",
   "pygments_lexer": "ipython3",
   "version": "3.9.12"
  }
 },
 "nbformat": 4,
 "nbformat_minor": 5
}
