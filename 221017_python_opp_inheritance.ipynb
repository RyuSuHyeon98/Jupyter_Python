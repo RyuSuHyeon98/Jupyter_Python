{
 "cells": [
  {
   "cell_type": "markdown",
   "id": "8234b34d",
   "metadata": {},
   "source": [
    "# 상속(inheritance)\n",
    "\n",
    "inheritance은 parents class의 정보를 활용해 child class를 이끌어내는 것을 의미\n",
    "\n",
    "문법은\n",
    "\n",
    "`class class_name(parents class):\n",
    "    내부 정의\n",
    "        ...\n",
    "        `\n",
    "\n",
    "- 현실에서의 상속과 마찬가지로 programing의 inheritance은\n",
    "\n",
    "  parents class가 child class에게 자신이 가진 요소를 물려줌(instance, method)\n",
    "\n",
    "\n",
    "- reality와 다른점은 programing의 inheritance은 child가 parents를 지목해 이뤄지며\n",
    "\n",
    "  parents class 쪽에서도 물려받은 instance, method 및 \n",
    "\n",
    "\n",
    "- child class 쪽에서 새로 정의한 instance, method\n",
    "\n",
    "  그리고 물려받은 method를 재정의(overriding)해 사용할 수 있음"
   ]
  },
  {
   "cell_type": "code",
   "execution_count": 1,
   "id": "9c9b4303",
   "metadata": {},
   "outputs": [],
   "source": [
    "class Person:\n",
    "    name = \"\"\n",
    "    age = 0\n",
    "    height = 0"
   ]
  },
  {
   "cell_type": "code",
   "execution_count": 16,
   "id": "b8adb241",
   "metadata": {},
   "outputs": [
    {
     "name": "stdout",
     "output_type": "stream",
     "text": [
      "name : John, age : 24, height : 165\n"
     ]
    }
   ],
   "source": [
    "p1 = Person()\n",
    "p1.name = \"John\"\n",
    "p1.age = 24\n",
    "p1.height = 165\n",
    "print(\"name : %s, age : %s, height : %s\" %\n",
    "     (p1.name, p1.age, p1.height))"
   ]
  },
  {
   "cell_type": "code",
   "execution_count": 17,
   "id": "90369fdc",
   "metadata": {},
   "outputs": [],
   "source": [
    "# Student는 Person의 inheritance를 받음\n",
    "class Student(Person):\n",
    "    major = \"\""
   ]
  },
  {
   "cell_type": "code",
   "execution_count": 19,
   "id": "d38c6fcb",
   "metadata": {},
   "outputs": [
    {
     "name": "stdout",
     "output_type": "stream",
     "text": [
      "name : Charile, age : 22, height : 170, major : computer_sciance\n"
     ]
    }
   ],
   "source": [
    "# Student를 생성하여 Person처럼 print로 모든 instance값을 저장\n",
    "p2 = Student()\n",
    "p2.name = \"Charile\"\n",
    "p2.age = 22\n",
    "p2.height = 170\n",
    "p2.major = \"computer_sciance\"\n",
    "\n",
    "print(\"name : %s, age : %s, height : %s, major : %s\" %\n",
    "     (p2.name, p2.age, p2.height, p2.major))"
   ]
  },
  {
   "cell_type": "code",
   "execution_count": null,
   "id": "f6849062",
   "metadata": {},
   "outputs": [],
   "source": [
    "#샐러리맨 class를 선언\n",
    "# 샐러리맨은 연봉을 가짐\n",
    "# 샐러리맨 객체를 생성\n",
    "# 이름은 본인이름\n",
    "# 기타 인적사항은 원하는대로 입력\n",
    "# * 연봉은 받고 싶은 금액"
   ]
  },
  {
   "cell_type": "code",
   "execution_count": 41,
   "id": "01050402",
   "metadata": {},
   "outputs": [],
   "source": [
    "class Salaryman(Person):\n",
    "    major = \"\"\n",
    "    salary = \"\"\n",
    "\n",
    "p3 = Salaryman()\n",
    "p3.name = \"Ryu_Su_Hyeon\"\n",
    "p3.age = 25\n",
    "p3.height = 165\n",
    "p3.major = \"Theology\"\n",
    "p3.salary = \"high-income earner\" # 생각해 본 적이 없어 \"고소득자\"라고만 표현"
   ]
  },
  {
   "cell_type": "code",
   "execution_count": 42,
   "id": "92464322",
   "metadata": {},
   "outputs": [
    {
     "name": "stdout",
     "output_type": "stream",
     "text": [
      "name : Ryu_Su_Hyeon, age : 25, height : 165, major : Theology, salary : high-income earner\n"
     ]
    }
   ],
   "source": [
    "print(\"name : %s, age : %s, height : %s, major : %s, salary : %s\" %\n",
    "     (p3.name, p3.age, p3.height, p3.major, p3.salary))"
   ]
  },
  {
   "cell_type": "code",
   "execution_count": 43,
   "id": "7f0d415a",
   "metadata": {},
   "outputs": [],
   "source": [
    "# inheritance는 이중상속(double_inheritnace)도 가능\n",
    "# child_class인 Salaryman이 Person과 Student 두 class의 inheritnace가 가능"
   ]
  },
  {
   "cell_type": "code",
   "execution_count": null,
   "id": "d5d201cb",
   "metadata": {},
   "outputs": [],
   "source": []
  },
  {
   "cell_type": "code",
   "execution_count": null,
   "id": "59512baf",
   "metadata": {},
   "outputs": [],
   "source": []
  },
  {
   "cell_type": "code",
   "execution_count": null,
   "id": "86e02197",
   "metadata": {},
   "outputs": [],
   "source": []
  },
  {
   "cell_type": "code",
   "execution_count": null,
   "id": "867d895a",
   "metadata": {},
   "outputs": [],
   "source": []
  },
  {
   "cell_type": "code",
   "execution_count": null,
   "id": "4998ee1a",
   "metadata": {},
   "outputs": [],
   "source": []
  }
 ],
 "metadata": {
  "kernelspec": {
   "display_name": "Python 3 (ipykernel)",
   "language": "python",
   "name": "python3"
  },
  "language_info": {
   "codemirror_mode": {
    "name": "ipython",
    "version": 3
   },
   "file_extension": ".py",
   "mimetype": "text/x-python",
   "name": "python",
   "nbconvert_exporter": "python",
   "pygments_lexer": "ipython3",
   "version": "3.9.12"
  }
 },
 "nbformat": 4,
 "nbformat_minor": 5
}
