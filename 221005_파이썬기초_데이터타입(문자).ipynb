{
 "cells": [
  {
   "cell_type": "markdown",
   "id": "abe847a6",
   "metadata": {},
   "source": [
    "# 데이터 타입\n",
    "# 문자형"
   ]
  },
  {
   "cell_type": "markdown",
   "id": "7786e5ba",
   "metadata": {},
   "source": [
    "# > 생성하기\n",
    "> 여닫는 따옴표는 반드시 문자의 앞 뒤에서 한 쌍으로 완성해야 함\n",
    "### 1) 한 줄 문자열 : ', \""
   ]
  },
  {
   "cell_type": "code",
   "execution_count": 8,
   "id": "c96d356d",
   "metadata": {},
   "outputs": [
    {
     "data": {
      "text/plain": [
       "('123', '123', '안녕 반가워', 'Hello World')"
      ]
     },
     "execution_count": 8,
     "metadata": {},
     "output_type": "execute_result"
    }
   ],
   "source": [
    "'123', \"123\", \"안녕 반가워\", \"Hello World\""
   ]
  },
  {
   "cell_type": "code",
   "execution_count": 5,
   "id": "44a44bca",
   "metadata": {},
   "outputs": [
    {
     "ename": "SyntaxError",
     "evalue": "EOL while scanning string literal (529147640.py, line 2)",
     "output_type": "error",
     "traceback": [
      "\u001b[1;36m  Input \u001b[1;32mIn [5]\u001b[1;36m\u001b[0m\n\u001b[1;33m    '123\"\u001b[0m\n\u001b[1;37m         ^\u001b[0m\n\u001b[1;31mSyntaxError\u001b[0m\u001b[1;31m:\u001b[0m EOL while scanning string literal\n"
     ]
    }
   ],
   "source": [
    "# 여닫는 따옴표의 종류는 같은 것으로 통일해야 함\n",
    "'123\""
   ]
  },
  {
   "cell_type": "code",
   "execution_count": 6,
   "id": "1909977c",
   "metadata": {},
   "outputs": [
    {
     "ename": "SyntaxError",
     "evalue": "EOL while scanning string literal (3713544382.py, line 2)",
     "output_type": "error",
     "traceback": [
      "\u001b[1;36m  Input \u001b[1;32mIn [6]\u001b[1;36m\u001b[0m\n\u001b[1;33m    '안녕\u001b[0m\n\u001b[1;37m       ^\u001b[0m\n\u001b[1;31mSyntaxError\u001b[0m\u001b[1;31m:\u001b[0m EOL while scanning string literal\n"
     ]
    }
   ],
   "source": [
    "# 여닫는 따옴표는 무조건 한 줄에 놓아야 함\n",
    "'안녕\n",
    "반가워'"
   ]
  },
  {
   "cell_type": "code",
   "execution_count": 12,
   "id": "6c65aa79",
   "metadata": {},
   "outputs": [
    {
     "name": "stdout",
     "output_type": "stream",
     "text": [
      "안녕 \n",
      "반가워\n"
     ]
    }
   ],
   "source": [
    "# 문자의 다음 줄로 이어가고 싶다면 \\n(enter)를 사용함\n",
    "a = \"안녕 \\n반가워\"\n",
    "print(a)"
   ]
  },
  {
   "cell_type": "markdown",
   "id": "9e87aec7",
   "metadata": {},
   "source": [
    "# 2) 여러 줄 문자열 : ''', \"\"\"\n",
    "\n",
    "- print() 했을 때, enter(줄바꿈)이 그대로 반영되는 문자열로 처리 가능\n",
    "- 단 화면에서 보기를 하면(print 없이 주피터노트북 결과로 보면)\n",
    "- 줄바꿈이 바로 나타나지 않고 \\n으로 처리됨"
   ]
  },
  {
   "cell_type": "code",
   "execution_count": 13,
   "id": "e3ea97a5",
   "metadata": {},
   "outputs": [
    {
     "name": "stdout",
     "output_type": "stream",
     "text": [
      "안녕\n",
      "반가워\n"
     ]
    }
   ],
   "source": [
    "a = '''안녕\n",
    "반가워'''\n",
    "print(a)"
   ]
  },
  {
   "cell_type": "code",
   "execution_count": 14,
   "id": "3a2377a7",
   "metadata": {},
   "outputs": [
    {
     "data": {
      "text/plain": [
       "'안녕\\n반가워'"
      ]
     },
     "execution_count": 14,
     "metadata": {},
     "output_type": "execute_result"
    }
   ],
   "source": [
    "a"
   ]
  },
  {
   "cell_type": "markdown",
   "id": "e997d27c",
   "metadata": {},
   "source": [
    "# 3) 문자 속에 문자열 기호 사용하기\n",
    "- 문자열에서 자주 쓰는 기호 : ', \""
   ]
  },
  {
   "cell_type": "code",
   "execution_count": 15,
   "id": "b387942b",
   "metadata": {},
   "outputs": [
    {
     "ename": "SyntaxError",
     "evalue": "invalid syntax (3711350309.py, line 2)",
     "output_type": "error",
     "traceback": [
      "\u001b[1;36m  Input \u001b[1;32mIn [15]\u001b[1;36m\u001b[0m\n\u001b[1;33m    a = 'she's happy.'\u001b[0m\n\u001b[1;37m             ^\u001b[0m\n\u001b[1;31mSyntaxError\u001b[0m\u001b[1;31m:\u001b[0m invalid syntax\n"
     ]
    }
   ],
   "source": [
    "# 언어, 문자에서 많이 쓰는 기호 : she's, \"설렁탕을 사 왔는데 왜 먹지를 못하나...\"\n",
    "a = 'she's happy.'\n",
    "print(a)"
   ]
  },
  {
   "cell_type": "code",
   "execution_count": 16,
   "id": "a8f5633e",
   "metadata": {},
   "outputs": [
    {
     "name": "stdout",
     "output_type": "stream",
     "text": [
      "she's happy\n"
     ]
    }
   ],
   "source": [
    "# 컴퓨터의 규칙은 따옴표 안에 다른 종류의 따옴표를 넣어야 함\n",
    "a = \"she's happy\"\n",
    "print(a)"
   ]
  },
  {
   "cell_type": "code",
   "execution_count": 18,
   "id": "5f9551ff",
   "metadata": {},
   "outputs": [
    {
     "name": "stdout",
     "output_type": "stream",
     "text": [
      "오늘은 \"미세먼지\" 좋음.\n"
     ]
    }
   ],
   "source": [
    "# 연습문제 1\n",
    "title = '오늘은 \"미세먼지\" 좋음.'\n",
    "\n",
    "print(title)"
   ]
  },
  {
   "cell_type": "code",
   "execution_count": 19,
   "id": "215024cb",
   "metadata": {},
   "outputs": [
    {
     "name": "stdout",
     "output_type": "stream",
     "text": [
      "\"He's sad.\"\n"
     ]
    }
   ],
   "source": [
    "# 같은 종류의 따옴표 내부에서 문자 따옴표를 쓸 때는\n",
    "# 따옴표 왼쪽에 \\를 붙여 해당 따옴표가 여닫는 용도로 쓰이지 않았음을 보여줘도 됨\n",
    "b = \"\\\"He's sad.\\\"\"\n",
    "print(b)"
   ]
  },
  {
   "cell_type": "code",
   "execution_count": 20,
   "id": "a7fb59bc",
   "metadata": {},
   "outputs": [
    {
     "name": "stdout",
     "output_type": "stream",
     "text": [
      "aaaaaaaaaaaaaaaaaaaaaaaaaaaaaaaaaaaaaaaaaaaaaaaaaaaaaaaaaaaaaaaaaaaaaaaaaaaaaaaaaaaaaaaaaaaaaaaaaaaaaaaaaaaaaaaaaaaaaaaaaaaaaaaaaaaaaaaaaaaaaaaaaaaaaaaaaaaaaaaaaaaaaaaaaaaaaaaaaaaaaaaa\n"
     ]
    }
   ],
   "source": [
    "#만약 문자열이 길어 불편한 경우, \\를 입력 후 엔터로 줄을 넘기면\n",
    "# 표기상으로는 두 줄이지만 실제 개념적으로 한 줄로 인식됨\n",
    "c = 'aaaaaaaaaaaaaaaaaaaaaaaaaaaaaaaaaaaaaaaaaaaaaaaaaaaaaaaaaaaaaaaaaaaaaaaaaaaaaaaaaaaaaaaaaaaaaaaaaaaaaaaaaaaaaaaaaaaaaaaaaaaaaaaaaaaaaaaaaaaaaaaaaaaaaaaaaaaaaaaaaaaaaaaaaaaaaaaaaaaaaaaa'\n",
    "print(c)"
   ]
  },
  {
   "cell_type": "code",
   "execution_count": 21,
   "id": "781c029b",
   "metadata": {},
   "outputs": [
    {
     "name": "stdout",
     "output_type": "stream",
     "text": [
      "aaaaaaaaaaaaaaaaaaaaaaaaaaaaaaaaaaaaaaaaaaaaaaaaaaaaaaaaaaaaaaaaaaaaaaaaaaaaaaaaaaaaaaaaaaaaaaaaaaaaaaaaaaaaaaaaaaaaaaaaaaaaaaaaaaaaaaaaaaaaaaaaaaaaaaaaaaaaaaaaaaaaaaaaaaaaaa\n"
     ]
    }
   ],
   "source": [
    "c = 'aaaaaaaaaaaaaaaaaaaaaaaaaaaaaaaaaaaaaaaaaaaaa\\\n",
    "aaaaaaaaaaaaaaaaaaaaaaaaaaaaaaaaaaaaaaaaaaaaaaaaaaa\\\n",
    "aaaaaaaaaaaaaaaaaaaaaaaaaaaaaaaaaaaaaaaaaaaaaaaaaaa\\\n",
    "aaaaaaaaaaaaaaaaaaaaaaaaaaa'\n",
    "print(c)"
   ]
  },
  {
   "cell_type": "markdown",
   "id": "d2f3fb99",
   "metadata": {},
   "source": [
    "## 연습문제\n",
    "### 1. 아래와 같은 여러 줄의 문장을 문자열로 만들어서 lines라는 변수에 할당하세요\n",
    "> 파이썬도 배우고\n",
    "> 장고도 배우고\n",
    "> 할게 너무 많아\n",
    "방법1) 여러 줄 문자열 활용하기 (lines 변수에 할당)\n",
    "방법2) 한 줄 문자열 내부에서 \\n 사이사이에 활용하기. (line 변수에 할당)"
   ]
  },
  {
   "cell_type": "code",
   "execution_count": 23,
   "id": "d51d507e",
   "metadata": {},
   "outputs": [
    {
     "name": "stdout",
     "output_type": "stream",
     "text": [
      "> 파이썬도 배우고\n",
      "> 장고도 배우고\n",
      "> 할게 너무 많아\n"
     ]
    }
   ],
   "source": [
    "# 연습문제 2\n",
    "# 방법 1)\n",
    "lines = '''> 파이썬도 배우고\n",
    "> 장고도 배우고\n",
    "> 할게 너무 많아'''\n",
    "print(lines)"
   ]
  },
  {
   "cell_type": "code",
   "execution_count": 25,
   "id": "99b77fe0",
   "metadata": {},
   "outputs": [
    {
     "name": "stdout",
     "output_type": "stream",
     "text": [
      "> 파이썬도 배우고 \n",
      "> 장고도 배우고 \n",
      "> 할게 너무 많아\n"
     ]
    }
   ],
   "source": [
    "# 방법 2)\n",
    "lines = \"> 파이썬도 배우고 \\n> 장고도 배우고 \\n> 할게 너무 많아\"\n",
    "print(lines)"
   ]
  },
  {
   "cell_type": "markdown",
   "id": "ffda2f9d",
   "metadata": {},
   "source": [
    "# > 연산하기\n",
    "### 1) 산술연산자 : 문자, 숫자를 함께 연산하기 위한 문법 기호\n",
    "\n",
    "- 문자와 문자를 연결\n",
    "- 동일한 문자를 반복해서 연결"
   ]
  },
  {
   "cell_type": "code",
   "execution_count": 26,
   "id": "700c6b5c",
   "metadata": {},
   "outputs": [
    {
     "data": {
      "text/plain": [
       "'가나'"
      ]
     },
     "execution_count": 26,
     "metadata": {},
     "output_type": "execute_result"
    }
   ],
   "source": [
    "# 문자와 문자를 연결 : +\n",
    "'가' + '나'"
   ]
  },
  {
   "cell_type": "code",
   "execution_count": 34,
   "id": "aa5c8d6a",
   "metadata": {},
   "outputs": [
    {
     "data": {
      "text/plain": [
       "('가 나', '가 나')"
      ]
     },
     "execution_count": 34,
     "metadata": {},
     "output_type": "execute_result"
    }
   ],
   "source": [
    "# 1. 문자열 자체에 공백 추가하기 : '문자_(space)' , '문자'+'(공백)'+'문자'\n",
    "'가 ' + '나' , '가'+' '+'나'"
   ]
  },
  {
   "cell_type": "code",
   "execution_count": 35,
   "id": "e0cff5a1",
   "metadata": {},
   "outputs": [
    {
     "ename": "TypeError",
     "evalue": "can only concatenate str (not \"int\") to str",
     "output_type": "error",
     "traceback": [
      "\u001b[1;31m---------------------------------------------------------------------------\u001b[0m",
      "\u001b[1;31mTypeError\u001b[0m                                 Traceback (most recent call last)",
      "Input \u001b[1;32mIn [35]\u001b[0m, in \u001b[0;36m<cell line: 3>\u001b[1;34m()\u001b[0m\n\u001b[0;32m      1\u001b[0m \u001b[38;5;66;03m# 파이썬의 +는 양면 자료가 같거나 논리적으로 비슷하다고 인정되어야 함\u001b[39;00m\n\u001b[0;32m      2\u001b[0m \u001b[38;5;66;03m# 문자 + 숫자 = 'Error'\u001b[39;00m\n\u001b[1;32m----> 3\u001b[0m \u001b[38;5;124;43m'\u001b[39;49m\u001b[38;5;124;43m문자\u001b[39;49m\u001b[38;5;124;43m'\u001b[39;49m\u001b[38;5;241;43m+\u001b[39;49m\u001b[43m \u001b[49m\u001b[38;5;241;43m1\u001b[39;49m\n",
      "\u001b[1;31mTypeError\u001b[0m: can only concatenate str (not \"int\") to str"
     ]
    }
   ],
   "source": [
    "# 파이썬의 +는 양면 자료가 같거나 논리적으로 비슷하다고 인정되어야 함\n",
    "# 문자 + 숫자 = 'Error'\n",
    "'문자'+ 1"
   ]
  },
  {
   "cell_type": "code",
   "execution_count": 47,
   "id": "0e3440d6",
   "metadata": {},
   "outputs": [
    {
     "ename": "TypeError",
     "evalue": "can't multiply sequence by non-int of type 'str'",
     "output_type": "error",
     "traceback": [
      "\u001b[1;31m---------------------------------------------------------------------------\u001b[0m",
      "\u001b[1;31mTypeError\u001b[0m                                 Traceback (most recent call last)",
      "Input \u001b[1;32mIn [47]\u001b[0m, in \u001b[0;36m<cell line: 3>\u001b[1;34m()\u001b[0m\n\u001b[0;32m      1\u001b[0m \u001b[38;5;66;03m# 문자를 여러 번 반복 : *\u001b[39;00m\n\u001b[0;32m      2\u001b[0m \u001b[38;5;66;03m# 동일한 문자열을 여러 번 반복하여 연결시킴\u001b[39;00m\n\u001b[1;32m----> 3\u001b[0m \u001b[38;5;124;43m'\u001b[39;49m\u001b[38;5;124;43masd\u001b[39;49m\u001b[38;5;124;43m'\u001b[39;49m\u001b[38;5;241;43m*\u001b[39;49m\u001b[43ma\u001b[49m\n",
      "\u001b[1;31mTypeError\u001b[0m: can't multiply sequence by non-int of type 'str'"
     ]
    }
   ],
   "source": [
    "# 문자를 여러 번 반복 : *\n",
    "# 동일한 문자열을 여러 번 반복하여 연결시킴\n",
    "'asd'*a"
   ]
  },
  {
   "cell_type": "code",
   "execution_count": 45,
   "id": "af01d779",
   "metadata": {},
   "outputs": [
    {
     "data": {
      "text/plain": [
       "'Hello WorldHello WorldHello World'"
      ]
     },
     "execution_count": 45,
     "metadata": {},
     "output_type": "execute_result"
    }
   ],
   "source": [
    "# '문자' * 정수 로 출력해야함 \n",
    "'Hello World'*3"
   ]
  },
  {
   "cell_type": "markdown",
   "id": "8aa7fdfc",
   "metadata": {},
   "source": [
    "# 2) 비교연산자 : 문자의 크기를 비교하기 위한 문법 기호\n",
    "\n",
    "> 문자의 비교\n",
    "- 대문자 vs 소문자 : 대문자 < 소문자 크기가 더 큼\n",
    "- 알파벳 : 알파벳 순서가 뒤에 있을수록 크기가 더 큼\n",
    "- 문자 길이 : 문자열의 길이가 길수록 크기가 더 큼\n",
    "\n",
    "> 왜 그러한가\n",
    "* 컴퓨터는 기계어로 되어 있기에 문자를 ASCII cord로 해석하여 숫자화함\n",
    "* A = 65 , a = 97 / O = 48 / _(space) = 32 / null = 0"
   ]
  },
  {
   "cell_type": "code",
   "execution_count": 51,
   "id": "b9c8d4ef",
   "metadata": {},
   "outputs": [
    {
     "data": {
      "text/plain": [
       "(True, False)"
      ]
     },
     "execution_count": 51,
     "metadata": {},
     "output_type": "execute_result"
    }
   ],
   "source": [
    "# 대문자 vs 소문자 : 비교연산자(==, !=, <, >)로 확인\n",
    "'A'<'a' , 'z' < 'a'"
   ]
  },
  {
   "cell_type": "code",
   "execution_count": 52,
   "id": "7ba2ca85",
   "metadata": {},
   "outputs": [
    {
     "data": {
      "text/plain": [
       "False"
      ]
     },
     "execution_count": 52,
     "metadata": {},
     "output_type": "execute_result"
    }
   ],
   "source": [
    "# 문자열을 대상으로 할 때에는 무조건 첫 글자끼리만 비교함\n",
    "# 문자열의 길이는 실제 크기 비교에 영향을 미치지 않음\n",
    "'b' < 'BUS' "
   ]
  },
  {
   "cell_type": "code",
   "execution_count": 54,
   "id": "a5da01dd",
   "metadata": {},
   "outputs": [
    {
     "data": {
      "text/plain": [
       "True"
      ]
     },
     "execution_count": 54,
     "metadata": {},
     "output_type": "execute_result"
    }
   ],
   "source": [
    "# 첫 글자의 크기가 같을 경우 다음 문자의 크기가 비교대상이 됨\n",
    "'b' < 'bus'"
   ]
  },
  {
   "cell_type": "code",
   "execution_count": 55,
   "id": "50643945",
   "metadata": {},
   "outputs": [
    {
     "data": {
      "text/plain": [
       "True"
      ]
     },
     "execution_count": 55,
     "metadata": {},
     "output_type": "execute_result"
    }
   ],
   "source": [
    "# 영문자와 영문자 이외의 다른 문자간 비교는 무조건 영문자가 작게 나옴\n",
    "# ASCII code vs uni code\n",
    "'b' < '가'"
   ]
  },
  {
   "cell_type": "code",
   "execution_count": 56,
   "id": "6a8a4a70",
   "metadata": {},
   "outputs": [
    {
     "data": {
      "text/plain": [
       "44032"
      ]
     },
     "execution_count": 56,
     "metadata": {},
     "output_type": "execute_result"
    }
   ],
   "source": [
    "# 문자에 배정된 코드값을 확인하는 방법\n",
    "# ord('확인할문자') 를 입력시 해당 문자의 코드가 나옴\n",
    "ord('가')"
   ]
  },
  {
   "cell_type": "code",
   "execution_count": 60,
   "id": "3b169826",
   "metadata": {},
   "outputs": [
    {
     "data": {
      "text/plain": [
       "37"
      ]
     },
     "execution_count": 60,
     "metadata": {},
     "output_type": "execute_result"
    }
   ],
   "source": [
    "# 해당 문자열이 몇 글자인지는 len('문자열')으로 찍어서 확인 가능\n",
    "len('ffdajwrlewjrewjfodsavnklalmcdksjeeeee')"
   ]
  },
  {
   "cell_type": "markdown",
   "id": "a5e82a31",
   "metadata": {},
   "source": [
    "# >인덱스\n",
    "- 아이템(대상이 가지고 있는 최소 단위의 값)의 위치를 나타내는 고유한 번호\n",
    "- 첫 번째 위치는 0부터 시작\n",
    "- 마지막 위치는 -1부터 시작\n",
    "\n",
    "## 1) 인덱싱(indexing) : 특정 위치의 하나의 아이템에 접근하기\n",
    "\n",
    "- 인덱싱 문법기호 : 객체[인덱스번호]"
   ]
  },
  {
   "cell_type": "code",
   "execution_count": 62,
   "id": "c05d0af9",
   "metadata": {},
   "outputs": [],
   "source": [
    "# banana 라는 문자열에 대해 인덱싱\n",
    "text = 'banana'"
   ]
  },
  {
   "cell_type": "code",
   "execution_count": 63,
   "id": "38990d60",
   "metadata": {},
   "outputs": [
    {
     "data": {
      "text/plain": [
       "'b'"
      ]
     },
     "execution_count": 63,
     "metadata": {},
     "output_type": "execute_result"
    }
   ],
   "source": [
    "# banana 라는 문자열에서 첫 번째 아이템 = 0번째 인덱스번호로 접근\n",
    "# 인덱시 문법 : 객체(대상 : 값, 자료형)[인덱스번호]\n",
    "text[0]"
   ]
  },
  {
   "cell_type": "code",
   "execution_count": 69,
   "id": "d45eea69",
   "metadata": {},
   "outputs": [
    {
     "data": {
      "text/plain": [
       "('a', 'a')"
      ]
     },
     "execution_count": 69,
     "metadata": {},
     "output_type": "execute_result"
    }
   ],
   "source": [
    "# 마지막 요소인 a에 접근\n",
    "text[5], text[-1] #마지막 인덱스번호와 -1은 같음"
   ]
  },
  {
   "cell_type": "markdown",
   "id": "9d49cdad",
   "metadata": {},
   "source": [
    "## 2) 슬라이싱 : 연속된 범위의 여러 아이템에 접근\n",
    "\n",
    "- 대상객체[처음인덱스:마지막인덱스(:간격)]\n",
    "- 처음 인덱스 번호는 포함(n부터~)\n",
    "- 마지막 인덱스번호는 포함하지 않음(n-1 까지)\n",
    "- 간격조정은 할수도 있고 하지 않을수도 있음(기본 1씩 증가)"
   ]
  },
  {
   "cell_type": "code",
   "execution_count": 73,
   "id": "a07a4f3c",
   "metadata": {},
   "outputs": [],
   "source": [
    "# 문자열 생성\n",
    "text = 'hello python world'"
   ]
  },
  {
   "cell_type": "code",
   "execution_count": 79,
   "id": "116e5ed3",
   "metadata": {},
   "outputs": [
    {
     "data": {
      "text/plain": [
       "'hello python'"
      ]
     },
     "execution_count": 79,
     "metadata": {},
     "output_type": "execute_result"
    }
   ],
   "source": [
    "# 처음부터 특정 위치까지 : ~python\n",
    "# 처음 인덱스 : 0\n",
    "# 마지막 인덱스 : -7(뒤에서 7번째까지 가져와야 하므로 실제로는 -6까지를 타겟으로)\n",
    "# 간격 : 기본값(1)\n",
    "# 슬라이싱 문법 : 객체[포함인덱스(0~):지정한 인덱스번호(n+1)]\n",
    "text[0:-6] #text[0:12]"
   ]
  },
  {
   "cell_type": "code",
   "execution_count": 83,
   "id": "997acebd",
   "metadata": {},
   "outputs": [
    {
     "data": {
      "text/plain": [
       "'hello python'"
      ]
     },
     "execution_count": 83,
     "metadata": {},
     "output_type": "execute_result"
    }
   ],
   "source": [
    "# 첫 인덱스가 0으로 시작을 끊는다면 생략해도 됨\n",
    "text[:-6]"
   ]
  },
  {
   "cell_type": "code",
   "execution_count": 84,
   "id": "e4e098c5",
   "metadata": {},
   "outputs": [
    {
     "data": {
      "text/plain": [
       "'python'"
      ]
     },
     "execution_count": 84,
     "metadata": {},
     "output_type": "execute_result"
    }
   ],
   "source": [
    "# 특정 위치부터 마지막 아이템까지 : python\n",
    "# 처음 인덱스 : 6\n",
    "# 마지막 인덱스 : 11 or -6\n",
    "# 간격 : 기본값(1)\n",
    "text[6:-6] #text[6:11]"
   ]
  },
  {
   "cell_type": "code",
   "execution_count": 87,
   "id": "4868a861",
   "metadata": {},
   "outputs": [
    {
     "data": {
      "text/plain": [
       "'hello python world'"
      ]
     },
     "execution_count": 87,
     "metadata": {},
     "output_type": "execute_result"
    }
   ],
   "source": [
    "# 전체 범위 지정 : 처음 인덱스와 마지막 인덱스를 모두 쓰지 않으면 전체지정\n",
    "# 처음 인덱스 기본값 : 0 자동 입력\n",
    "# 마지막 인덱스 기본값 : 마지막까지로 자동입력\n",
    "text[:] #text[0:13] #text"
   ]
  },
  {
   "cell_type": "code",
   "execution_count": 89,
   "id": "603a4ba1",
   "metadata": {},
   "outputs": [
    {
     "data": {
      "text/plain": [
       "'hlopto ol'"
      ]
     },
     "execution_count": 89,
     "metadata": {},
     "output_type": "execute_result"
    }
   ],
   "source": [
    "# 객체[: (전체 범위 지정) + :(n번째 만큼 간격을 넣음)]\n",
    "text [ : :2] # 전체범위에 간격을 2로 넣음"
   ]
  },
  {
   "cell_type": "code",
   "execution_count": 90,
   "id": "a1b259dc",
   "metadata": {},
   "outputs": [
    {
     "data": {
      "text/plain": [
       "'dlrow nohtyp olleh'"
      ]
     },
     "execution_count": 90,
     "metadata": {},
     "output_type": "execute_result"
    }
   ],
   "source": [
    "# 간격을 음수로 주면 뒤에서부터 셈\n",
    "# 객체[ :  + :-1(뒤에서부터)]\n",
    "text[::-1]"
   ]
  },
  {
   "cell_type": "markdown",
   "id": "11297f24",
   "metadata": {},
   "source": [
    "## > 연습문제\n",
    "### 20221005 미세먼지양호함\n",
    "#### 위의 문장을 weather 변수에 저장한 다음\n",
    "#### 날짜는 date 변수에 슬라이싱으로 받아오고,\n",
    "#### dust 변수에 미세먼지 정도를 슬라이싱으로 받아오도록 만들어서 출력하시오\n",
    "\n",
    "출력양식 : <br>\n",
    "날짜 : 20221005 \n",
    "날씨 : 미세먼지양호함"
   ]
  },
  {
   "cell_type": "code",
   "execution_count": 100,
   "id": "b25ef81b",
   "metadata": {},
   "outputs": [
    {
     "name": "stdout",
     "output_type": "stream",
     "text": [
      "20221005 미세먼지양호함\n"
     ]
    }
   ],
   "source": [
    "weather = '20221005 미세먼지양호함'\n",
    "\n",
    "print(weather)"
   ]
  },
  {
   "cell_type": "code",
   "execution_count": 137,
   "id": "b606385b",
   "metadata": {},
   "outputs": [
    {
     "data": {
      "text/plain": [
       "16"
      ]
     },
     "execution_count": 137,
     "metadata": {},
     "output_type": "execute_result"
    }
   ],
   "source": [
    "len(weather)"
   ]
  },
  {
   "cell_type": "code",
   "execution_count": 101,
   "id": "450b568c",
   "metadata": {},
   "outputs": [
    {
     "name": "stdout",
     "output_type": "stream",
     "text": [
      "20221005\n"
     ]
    }
   ],
   "source": [
    "date = weather[:8]\n",
    "\n",
    "print(date)"
   ]
  },
  {
   "cell_type": "code",
   "execution_count": 104,
   "id": "b9accc0b",
   "metadata": {},
   "outputs": [
    {
     "name": "stdout",
     "output_type": "stream",
     "text": [
      " 미세먼지양호함\n"
     ]
    }
   ],
   "source": [
    "dust = weather[-8:] #dust = weather[8:]\n",
    "\n",
    "print(dust)"
   ]
  },
  {
   "cell_type": "code",
   "execution_count": 108,
   "id": "aaa3176c",
   "metadata": {},
   "outputs": [
    {
     "name": "stdout",
     "output_type": "stream",
     "text": [
      "날짜 20221005\n",
      "날씨 미세먼지양호함\n"
     ]
    }
   ],
   "source": [
    "# 문제를 파악하고 제대로 출력양식에 맞게 출력할 것\n",
    "print('날짜', date)\n",
    "print('날씨' + dust)"
   ]
  },
  {
   "cell_type": "markdown",
   "id": "3c549a52",
   "metadata": {},
   "source": [
    "# > 포매팅(formatting)\n",
    "\n",
    "- 특정 값만 바뀌고 일정한 형식을 가지는 문자열을 작성할 수 있는 기법"
   ]
  },
  {
   "cell_type": "markdown",
   "id": "1164ee53",
   "metadata": {},
   "source": [
    "## 포매팅 : %\n",
    "\n",
    "    - 데이터 타입에 따른 분류 : 정수, 실수, 문자\n",
    "    - 옵션 : 문자열 길이, 표현할 아이템 개수, 공백\n",
    "    \n",
    "### 1) 숫자 값 대입 "
   ]
  },
  {
   "cell_type": "code",
   "execution_count": null,
   "id": "47a11584",
   "metadata": {},
   "outputs": [],
   "source": [
    "# 1. 가변자료가 들어갈 자리(...에 해당하는)에 구멍(%자료형)을 냄\n",
    "# 2. 구멍이 뚫린 문자열 뒤에 %로 연결한 다음 집어넣을 값을 적음"
   ]
  },
  {
   "cell_type": "code",
   "execution_count": 122,
   "id": "c0add234",
   "metadata": {},
   "outputs": [
    {
     "data": {
      "text/plain": [
       "'오늘은 10월입니다'"
      ]
     },
     "execution_count": 122,
     "metadata": {},
     "output_type": "execute_result"
    }
   ],
   "source": [
    "# 정수 값 포매팅 : 정수(int) -> %d\n",
    "'오늘은 %d월입니다' %10"
   ]
  },
  {
   "cell_type": "code",
   "execution_count": 119,
   "id": "b4ef288b",
   "metadata": {},
   "outputs": [
    {
     "data": {
      "text/plain": [
       "'오늘은 5일입니다.'"
      ]
     },
     "execution_count": 119,
     "metadata": {},
     "output_type": "execute_result"
    }
   ],
   "source": [
    "# 정수 자리의 의미 : 지금 집어넣은 자료를 정수로 변환해 출력하는 의미\n",
    "# 실수를 제공하면, 정수로 강제로 바꿔서 출력\n",
    "'오늘은 %d일입니다.' %5.7"
   ]
  },
  {
   "cell_type": "code",
   "execution_count": 124,
   "id": "4f5ea484",
   "metadata": {},
   "outputs": [
    {
     "data": {
      "text/plain": [
       "'12.000000 표기'"
      ]
     },
     "execution_count": 124,
     "metadata": {},
     "output_type": "execute_result"
    }
   ],
   "source": [
    "# 실수(float)값 포매팅\n",
    "# %f 를 이용하여 값에 대한 구멍을 냄\n",
    "# %f 는 기본적으로 소수점 6자리까지 표현함\n",
    "'%f 표기' %12"
   ]
  },
  {
   "cell_type": "code",
   "execution_count": 125,
   "id": "c2fd578b",
   "metadata": {},
   "outputs": [
    {
     "data": {
      "text/plain": [
       "'1.123457 표기'"
      ]
     },
     "execution_count": 125,
     "metadata": {},
     "output_type": "execute_result"
    }
   ],
   "source": [
    "# 실수값 포매팅 2 : 실수 %f에 실수 적용시\n",
    "# 소수점 아래 7자리에서 반올림이 일어남\n",
    "'%f 표기' % 1.123456789"
   ]
  },
  {
   "cell_type": "code",
   "execution_count": 127,
   "id": "aed0c0f9",
   "metadata": {},
   "outputs": [
    {
     "data": {
      "text/plain": [
       "'1.123 표기'"
      ]
     },
     "execution_count": 127,
     "metadata": {},
     "output_type": "execute_result"
    }
   ],
   "source": [
    "# 옵션 : 소수점 아래 자리를 몇 자리까지 출력할지 정할 수 있음\n",
    "# %0.nf : 소수점 아래 n자리까지만 표현하는 실수\n",
    "'%0.3f 표기'%1.123456789"
   ]
  },
  {
   "cell_type": "code",
   "execution_count": 130,
   "id": "6db4f73b",
   "metadata": {},
   "outputs": [
    {
     "ename": "SyntaxError",
     "evalue": "invalid syntax (2939021546.py, line 4)",
     "output_type": "error",
     "traceback": [
      "\u001b[1;36m  Input \u001b[1;32mIn [130]\u001b[1;36m\u001b[0m\n\u001b[1;33m    '오늘은 %d월 %d일입니다.' %(10,5) '지금은 %d년 %d월 %d일입니다.' %(2022, 10, 5)\u001b[0m\n\u001b[1;37m                              ^\u001b[0m\n\u001b[1;31mSyntaxError\u001b[0m\u001b[1;31m:\u001b[0m invalid syntax\n"
     ]
    }
   ],
   "source": [
    "# 가변자료를 2개 이상 넣는 케이스\n",
    "# 집어넣는 값은 왼쪽부터 하나씩 전달됨\n",
    "# 2개 이상을 집어넣는 경우는 %(첫 번째 값, 두 번째 값 ...) 과 같이 괄호로 전달함\n",
    "'오늘은 %d월 %d일입니다.' %(10,5) "
   ]
  },
  {
   "cell_type": "code",
   "execution_count": 131,
   "id": "54aa87a6",
   "metadata": {},
   "outputs": [
    {
     "data": {
      "text/plain": [
       "'지금은 2022년 10월 5일입니다.'"
      ]
     },
     "execution_count": 131,
     "metadata": {},
     "output_type": "execute_result"
    }
   ],
   "source": [
    "'지금은 %d년 %d월 %d일입니다.' %(2022, 10, 5)"
   ]
  },
  {
   "cell_type": "code",
   "execution_count": 132,
   "id": "868582ce",
   "metadata": {},
   "outputs": [
    {
     "ename": "TypeError",
     "evalue": "%d format: a number is required, not str",
     "output_type": "error",
     "traceback": [
      "\u001b[1;31m---------------------------------------------------------------------------\u001b[0m",
      "\u001b[1;31mTypeError\u001b[0m                                 Traceback (most recent call last)",
      "Input \u001b[1;32mIn [132]\u001b[0m, in \u001b[0;36m<cell line: 2>\u001b[1;34m()\u001b[0m\n\u001b[0;32m      1\u001b[0m \u001b[38;5;66;03m# %d, %f에 숫자가 아닌 자료를 넛으면 에러 발생\u001b[39;00m\n\u001b[1;32m----> 2\u001b[0m \u001b[38;5;124;43m'\u001b[39;49m\u001b[38;5;132;43;01m%d\u001b[39;49;00m\u001b[38;5;124;43m, \u001b[39;49m\u001b[38;5;132;43;01m%f\u001b[39;49;00m\u001b[38;5;124;43m'\u001b[39;49m\u001b[43m \u001b[49m\u001b[38;5;241;43m%\u001b[39;49m\u001b[43m(\u001b[49m\u001b[38;5;124;43m'\u001b[39;49m\u001b[38;5;124;43m1\u001b[39;49m\u001b[38;5;124;43m'\u001b[39;49m\u001b[43m,\u001b[49m\u001b[38;5;124;43m'\u001b[39;49m\u001b[38;5;124;43m2\u001b[39;49m\u001b[38;5;124;43m'\u001b[39;49m\u001b[43m)\u001b[49m\n",
      "\u001b[1;31mTypeError\u001b[0m: %d format: a number is required, not str"
     ]
    }
   ],
   "source": [
    "# %d, %f에 숫자가 아닌 자료를 넛으면 에러 발생\n",
    "'%d, %f' %('1','2')"
   ]
  },
  {
   "cell_type": "markdown",
   "id": "249a0944",
   "metadata": {},
   "source": [
    "### 2) 문자 대입\n",
    "- %s로 구멍 뚫기\n",
    "- 집어넣는 값에 대해서 제한이 없음\n",
    "- 만능 포매팅"
   ]
  },
  {
   "cell_type": "code",
   "execution_count": 134,
   "id": "9f4a7046",
   "metadata": {},
   "outputs": [
    {
     "data": {
      "text/plain": [
       "'Puneuma님 접속을 환영합니다.'"
      ]
     },
     "execution_count": 134,
     "metadata": {},
     "output_type": "execute_result"
    }
   ],
   "source": [
    "# 집어넣는 값 : 문자 타입\n",
    "'%s님 접속을 환영합니다.' % 'Puneuma'"
   ]
  },
  {
   "cell_type": "code",
   "execution_count": 135,
   "id": "1261f043",
   "metadata": {},
   "outputs": [
    {
     "data": {
      "text/plain": [
       "'1005 숫자도 입력 가능'"
      ]
     },
     "execution_count": 135,
     "metadata": {},
     "output_type": "execute_result"
    }
   ],
   "source": [
    "# 문자 이외의 타입도 가능\n",
    "'%s 숫자도 입력 가능' %1005"
   ]
  },
  {
   "cell_type": "markdown",
   "id": "9b8afd90",
   "metadata": {},
   "source": [
    "## > 문자열 내장함수* = 문자열 메서드\n",
    "    └≫ 내장함수 : 특정 데이터 타입이 자체적으로 가지고 있는 속성으로 존재하는 함수\n",
    "    └≫ 문법 : 변수(데이터타입값).함수명()\n",
    "* count( ) : 특정 문자의 개수\n",
    "* find( ) :특정 문자의 인덱스 번호(위치)\n",
    "* join( ) : 특정 기호를 문자열 아이템 사이에 입력\n",
    "* upper( ) : 문자열을 대문자로 변경\n",
    "* lower( ) : 문자열을 소문자로 변경\n",
    "* capitalize( ) : 문자열의 첫 글자를 대문자로\n",
    "* swapcase( ) : 대문자는 소문자로, 소문자는 대문자로 전환\n",
    "* lstrip( ) / rstrip( ) / strip( ) : 좌 / 우 / 앞뒤 공백(기본) 및 특정 문자 지우기\n",
    "* replace( ) : 기존 문자를 새로운 문자로 바꾸기\n",
    "* split( ) : 특정 기호를 기준으로 문자열을 아이템 단위로 나누어 리스트로 반환\n",
    "* center( ) : 문자열 길이를 지정하여 대상 문자열을 중앙 정렬\n",
    "* ljust( ) : 문자열 길이를 지정하여 대상 문자열을 왼쪽 정렬\n",
    "* rjust( ) : 문자열 길이를 지정하여 대상 문자열을 오른쪽 정렬"
   ]
  },
  {
   "cell_type": "code",
   "execution_count": 138,
   "id": "f294bdf3",
   "metadata": {},
   "outputs": [],
   "source": [
    "# 문자열 생성\n",
    "text = 'tomato juice'"
   ]
  },
  {
   "cell_type": "code",
   "execution_count": 141,
   "id": "0c62d1eb",
   "metadata": {},
   "outputs": [
    {
     "data": {
      "text/plain": [
       "1"
      ]
     },
     "execution_count": 141,
     "metadata": {},
     "output_type": "execute_result"
    }
   ],
   "source": [
    "# count()\n",
    "# text 문자열에서의 a의 갯수\n",
    "text.count('a')"
   ]
  },
  {
   "cell_type": "code",
   "execution_count": 142,
   "id": "deac00a6",
   "metadata": {},
   "outputs": [
    {
     "data": {
      "text/plain": [
       "2"
      ]
     },
     "execution_count": 142,
     "metadata": {},
     "output_type": "execute_result"
    }
   ],
   "source": [
    "# .count() 는 2글자 이상에 대해서도 집계가 가능\n",
    "text.count('to')"
   ]
  },
  {
   "cell_type": "code",
   "execution_count": 145,
   "id": "8e3cf09a",
   "metadata": {},
   "outputs": [
    {
     "data": {
      "text/plain": [
       "3"
      ]
     },
     "execution_count": 145,
     "metadata": {},
     "output_type": "execute_result"
    }
   ],
   "source": [
    "# .find() : 특정 값의 인덱스 번호를 반환\n",
    "# txt 문자열에서의 a의 인덱스 번호를 출력\n",
    "text.find('a')"
   ]
  },
  {
   "cell_type": "code",
   "execution_count": 146,
   "id": "005b562a",
   "metadata": {},
   "outputs": [
    {
     "data": {
      "text/plain": [
       "0"
      ]
     },
     "execution_count": 146,
     "metadata": {},
     "output_type": "execute_result"
    }
   ],
   "source": [
    "# 2글자 이상에 대해서도 번호를 출력\n",
    "# 2글자 이상일 때에는 왼쪽 글자가 해당 문자열 중에서 가장 가까운 인덱스 번호를 출력\n",
    "text.find('to')"
   ]
  },
  {
   "cell_type": "code",
   "execution_count": 147,
   "id": "7118f8da",
   "metadata": {},
   "outputs": [
    {
     "data": {
      "text/plain": [
       "4"
      ]
     },
     "execution_count": 147,
     "metadata": {},
     "output_type": "execute_result"
    }
   ],
   "source": [
    "# .find('찾을자료',(시작번호)) 입력으로 0번이 아닌 이후 번호를 시작점으로 지정 가능\n",
    "text.find('to',1)"
   ]
  },
  {
   "cell_type": "code",
   "execution_count": 148,
   "id": "5e1d6c06",
   "metadata": {},
   "outputs": [
    {
     "data": {
      "text/plain": [
       "'TOMATO JUICE'"
      ]
     },
     "execution_count": 148,
     "metadata": {},
     "output_type": "execute_result"
    }
   ],
   "source": [
    "# .upper()\n",
    "# 소문자를 전부 대문자로 출력\n",
    "# 변경된 결과를 시뮬레이션 해서 보여줌(원본자료는 대문자화 되지 않음, 영구화x,)\n",
    "text.upper()"
   ]
  },
  {
   "cell_type": "code",
   "execution_count": 153,
   "id": "ac721406",
   "metadata": {},
   "outputs": [
    {
     "data": {
      "text/plain": [
       "'TOMATO JUICE'"
      ]
     },
     "execution_count": 153,
     "metadata": {},
     "output_type": "execute_result"
    }
   ],
   "source": [
    "# .lower()\n",
    "# text2 변수를 만들어 text2 안에 text 변수의 문자열을 대문자로 생성\n",
    "text2=text.upper()\n",
    "text2"
   ]
  },
  {
   "cell_type": "code",
   "execution_count": 151,
   "id": "591d6fae",
   "metadata": {},
   "outputs": [
    {
     "data": {
      "text/plain": [
       "'tomato juice'"
      ]
     },
     "execution_count": 151,
     "metadata": {},
     "output_type": "execute_result"
    }
   ],
   "source": [
    "# 대문자를 전부 소문자로 출력\n",
    "# 변경된 결과를 시뮬레이션 해서 보여줌(원본자료는 소문자화 되지 않음, 영구화x,)\n",
    "text2.lower()"
   ]
  },
  {
   "cell_type": "code",
   "execution_count": 162,
   "id": "0f589d3b",
   "metadata": {},
   "outputs": [
    {
     "data": {
      "text/plain": [
       "'          123          123         '"
      ]
     },
     "execution_count": 162,
     "metadata": {},
     "output_type": "execute_result"
    }
   ],
   "source": [
    "text = '          123          123         '\n",
    "text"
   ]
  },
  {
   "cell_type": "code",
   "execution_count": 157,
   "id": "b15e113e",
   "metadata": {},
   "outputs": [
    {
     "data": {
      "text/plain": [
       "'123          123         '"
      ]
     },
     "execution_count": 157,
     "metadata": {},
     "output_type": "execute_result"
    }
   ],
   "source": [
    "# .lstrip()\n",
    "# 문자열의 왼쪽에 있는 공백 전부 제거(가운데는 제거 안함)\n",
    "# 시뮬레이션 결과만 보여줌(원본에 반영x)\n",
    "text.lstrip()"
   ]
  },
  {
   "cell_type": "code",
   "execution_count": 158,
   "id": "0b3ddffd",
   "metadata": {},
   "outputs": [
    {
     "data": {
      "text/plain": [
       "'          123          123'"
      ]
     },
     "execution_count": 158,
     "metadata": {},
     "output_type": "execute_result"
    }
   ],
   "source": [
    "# .rstrip()\n",
    "# 문자열의 오른쪽에 있는 공백 전부 제거(가운데는 제거 안함)\n",
    "# 시뮬레이션 결과만 보여줌(원본에 반영x)\n",
    "text.rstrip()"
   ]
  },
  {
   "cell_type": "code",
   "execution_count": 160,
   "id": "3ccb2bdb",
   "metadata": {},
   "outputs": [
    {
     "data": {
      "text/plain": [
       "'123          123'"
      ]
     },
     "execution_count": 160,
     "metadata": {},
     "output_type": "execute_result"
    }
   ],
   "source": [
    "# .strip()\n",
    "# 문자열에 있는 양쪽 공백 전부 제거\n",
    "# 시뮬레이션 결과만 보여줌(원본에 반영x)\n",
    "text.strip()"
   ]
  },
  {
   "cell_type": "code",
   "execution_count": 163,
   "id": "7ec07290",
   "metadata": {},
   "outputs": [
    {
     "data": {
      "text/plain": [
       "'          456          456         '"
      ]
     },
     "execution_count": 163,
     "metadata": {},
     "output_type": "execute_result"
    }
   ],
   "source": [
    "# .replace('old', 'new')\n",
    "# 찾아바꾸기. 문자열 내에서 old에 해당하는 문자를 찾아 new로 교체\n",
    "# 원본자료에는 영향을 미치지 않고 일시적으로 변경\n",
    "text.replace('123','456')"
   ]
  },
  {
   "cell_type": "code",
   "execution_count": 164,
   "id": "14096fd7",
   "metadata": {},
   "outputs": [
    {
     "data": {
      "text/plain": [
       "'123123'"
      ]
     },
     "execution_count": 164,
     "metadata": {},
     "output_type": "execute_result"
    }
   ],
   "source": [
    "# 공백을 없앨 수도 있음\n",
    "text.replace(\" \",\"\")"
   ]
  },
  {
   "cell_type": "code",
   "execution_count": 165,
   "id": "2435b2ac",
   "metadata": {},
   "outputs": [
    {
     "data": {
      "text/plain": [
       "'                             '"
      ]
     },
     "execution_count": 165,
     "metadata": {},
     "output_type": "execute_result"
    }
   ],
   "source": [
    "# 마찬가지로 문자열을 없앨 수도 있음\n",
    "text.replace(\"123\",\"\")"
   ]
  },
  {
   "cell_type": "code",
   "execution_count": 166,
   "id": "e97dccd2",
   "metadata": {},
   "outputs": [],
   "source": [
    "text3 = 'a b c'"
   ]
  },
  {
   "cell_type": "code",
   "execution_count": 173,
   "id": "1481fba7",
   "metadata": {},
   "outputs": [
    {
     "data": {
      "text/plain": [
       "['a', 'b', 'c']"
      ]
     },
     "execution_count": 173,
     "metadata": {},
     "output_type": "execute_result"
    }
   ],
   "source": [
    "# .split(\"기준\")\n",
    "# 쪼개기\n",
    "# 기준 입력시 기준점을 기준으로 쪼갬\n",
    "# 입력 안하면 ' ', \\n, \\t 등을 기준으로 쪼개줌\n",
    "text3.split()"
   ]
  },
  {
   "cell_type": "code",
   "execution_count": 179,
   "id": "55d08825",
   "metadata": {},
   "outputs": [
    {
     "data": {
      "text/plain": [
       "['a ', ' c']"
      ]
     },
     "execution_count": 179,
     "metadata": {},
     "output_type": "execute_result"
    }
   ],
   "source": [
    "text3.split('b')"
   ]
  },
  {
   "cell_type": "code",
   "execution_count": 193,
   "id": "77633ba3",
   "metadata": {},
   "outputs": [
    {
     "data": {
      "text/plain": [
       "['a,b,c,', '']"
      ]
     },
     "execution_count": 193,
     "metadata": {},
     "output_type": "execute_result"
    }
   ],
   "source": [
    "# 두 글자 이상도 쪼개기의 기준이 될 수 있음\n",
    "text4 = 'a,b,c,ddes'\n",
    "text4.split('ddes')"
   ]
  },
  {
   "cell_type": "code",
   "execution_count": 202,
   "id": "99da8385",
   "metadata": {},
   "outputs": [
    {
     "data": {
      "text/plain": [
       "'d|e|f'"
      ]
     },
     "execution_count": 202,
     "metadata": {},
     "output_type": "execute_result"
    }
   ],
   "source": [
    "# .join()\n",
    "# 왼쪽에 있는 요소를 .john(자료)의\n",
    "# 자료 인덱스 사이에 입력함\n",
    "text5 = 'def'\n",
    "'|'.join(text5)"
   ]
  },
  {
   "cell_type": "code",
   "execution_count": 206,
   "id": "04d0ff75",
   "metadata": {},
   "outputs": [
    {
     "data": {
      "text/plain": [
       "26"
      ]
     },
     "execution_count": 206,
     "metadata": {},
     "output_type": "execute_result"
    }
   ],
   "source": [
    "# 마지막 인덱스 번호 가변적으로 구하기\n",
    "# len(문자열)-1\n",
    "x = 'abcdefghijklmnopqrstuvwxyz'\n",
    "\n",
    "# 26글자이므로 글자를 세줌\n",
    "len(x)"
   ]
  },
  {
   "cell_type": "code",
   "execution_count": 207,
   "id": "ca583a46",
   "metadata": {},
   "outputs": [
    {
     "data": {
      "text/plain": [
       "25"
      ]
     },
     "execution_count": 207,
     "metadata": {},
     "output_type": "execute_result"
    }
   ],
   "source": [
    "# 마지막 인덱스 번호는 0부터 시작이므로 길이 -1\n",
    "len(x)-1"
   ]
  },
  {
   "cell_type": "code",
   "execution_count": 228,
   "id": "1ae83ded",
   "metadata": {},
   "outputs": [
    {
     "data": {
      "text/plain": [
       "'z'"
      ]
     },
     "execution_count": 228,
     "metadata": {},
     "output_type": "execute_result"
    }
   ],
   "source": [
    "# x의 마지막 글자를 len()을 활용한 인덱싱으로 출력하시오\n",
    "x[len(x)-1] # x[25]"
   ]
  }
 ],
 "metadata": {
  "kernelspec": {
   "display_name": "Python 3 (ipykernel)",
   "language": "python",
   "name": "python3"
  },
  "language_info": {
   "codemirror_mode": {
    "name": "ipython",
    "version": 3
   },
   "file_extension": ".py",
   "mimetype": "text/x-python",
   "name": "python",
   "nbconvert_exporter": "python",
   "pygments_lexer": "ipython3",
   "version": "3.9.12"
  }
 },
 "nbformat": 4,
 "nbformat_minor": 5
}
