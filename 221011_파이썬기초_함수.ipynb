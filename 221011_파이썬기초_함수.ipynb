{
 "cells": [
  {
   "cell_type": "markdown",
   "id": "18d0e98c",
   "metadata": {},
   "source": [
    "# << 함수 >>\n",
    "반복적으로 사용하는 기능을 묶어서 함수로 정의하면 간편하게 사용할 수 있다.\n",
    "- 기본 문법\n",
    "         def 함수이름(매개변수) :\n",
    "             <수행할 내용1>\n",
    "             <수행할 내용2>\n",
    "             <수행할 내용3>\n",
    "             return\n",
    "- 매개변수\n",
    "        - 함수 안에서 사용할 값을 전달하는 변수로 <수행할 내용> 문장에서 변수로 사용된다.\n",
    "        - 함수 정의문에서는 매개변수로서 선언되며 실제로 함수를 호출할 때는 인자값으로 전달된다.\n",
    "- 용어\n",
    "        - def : 함수를 정의할 때 사용하는 키워드\n",
    "        - return : 함수의 결과값을 반환하는 키워드\n",
    "        - 입력값 = 인수, 입력 인수, 인자\n",
    "        - 결과값 = 출력값, 리턴값, 돌려주는 값, 반환 값"
   ]
  },
  {
   "cell_type": "code",
   "execution_count": 4,
   "id": "4267b6cc",
   "metadata": {},
   "outputs": [
    {
     "name": "stdout",
     "output_type": "stream",
     "text": [
      "오른팔을 얼굴 앞으로\n",
      "관절을 역으로 꺾고\n",
      "디귿자 모양으로 만듭니다.\n"
     ]
    }
   ],
   "source": [
    "# 기본적인 함수의 예제(완전한 실행문)\n",
    "def 디귿춤():\n",
    "    print('오른팔을 얼굴 앞으로')\n",
    "    print('관절을 역으로 꺾고')\n",
    "    print('디귿자 모양으로 만듭니다.')\n",
    "디귿춤()"
   ]
  },
  {
   "cell_type": "code",
   "execution_count": 23,
   "id": "78623e3d",
   "metadata": {},
   "outputs": [
    {
     "name": "stdout",
     "output_type": "stream",
     "text": [
      "101\n",
      "함수 끝나면 실행\n",
      "20\n",
      "함수 2번째\n"
     ]
    }
   ],
   "source": [
    "# 기본적인 함수의 예제(불완전한 실행문)\n",
    "def plus(a):\n",
    "    print(a+1)\n",
    "plus(100)\n",
    "print('함수 끝나면 실행')\n",
    "\n",
    "plus(19)\n",
    "print(\"함수 2번째\")"
   ]
  },
  {
   "cell_type": "code",
   "execution_count": 25,
   "id": "b706f1bb",
   "metadata": {},
   "outputs": [
    {
     "ename": "NameError",
     "evalue": "name 'a' is not defined",
     "output_type": "error",
     "traceback": [
      "\u001b[1;31m---------------------------------------------------------------------------\u001b[0m",
      "\u001b[1;31mNameError\u001b[0m                                 Traceback (most recent call last)",
      "Input \u001b[1;32mIn [25]\u001b[0m, in \u001b[0;36m<cell line: 4>\u001b[1;34m()\u001b[0m\n\u001b[0;32m      1\u001b[0m \u001b[38;5;66;03m# 함수 내부에 선언된 변수는 함수 외부에서 호출할 수 없음.\u001b[39;00m\n\u001b[0;32m      2\u001b[0m \u001b[38;5;66;03m# 함수나 기타 블록 내부에 선언된 변수를 '지역변수'라고 부름\u001b[39;00m\n\u001b[0;32m      3\u001b[0m \u001b[38;5;66;03m# 지역화폐가 해당 지역내에서만 통용되듯, 지역변수도 다른 지여에서 호출 x\u001b[39;00m\n\u001b[1;32m----> 4\u001b[0m \u001b[38;5;28mprint\u001b[39m(\u001b[43ma\u001b[49m)\n",
      "\u001b[1;31mNameError\u001b[0m: name 'a' is not defined"
     ]
    }
   ],
   "source": [
    "# 함수 내부에 선언된 변수는 함수 외부에서 호출할 수 없음.\n",
    "# 함수나 기타 블록 내부에 선언된 변수를 '지역변수'라고 부름\n",
    "# 지역화폐가 해당 지역내에서만 통용되듯, 지역변수도 다른 지여에서 호출 x\n",
    "print(a)"
   ]
  },
  {
   "cell_type": "code",
   "execution_count": 26,
   "id": "5734a6f0",
   "metadata": {},
   "outputs": [
    {
     "name": "stdout",
     "output_type": "stream",
     "text": [
      "6\n",
      "None\n"
     ]
    }
   ],
   "source": [
    "# plus를 호출했을 때 지정숫자 +1이 콘솔에 찍힘.\n",
    "# print(plus(5))\n",
    "print(plus(5))"
   ]
  },
  {
   "cell_type": "code",
   "execution_count": 29,
   "id": "df6a05ea",
   "metadata": {},
   "outputs": [
    {
     "name": "stdout",
     "output_type": "stream",
     "text": [
      "6\n"
     ]
    }
   ],
   "source": [
    "# return 구문은, 함수 내 마지막 지점에 사용가능\n",
    "# return 구문이 실행되면, 함수가 종료되며 동시에 해당 함수의 결과값이\n",
    "# 호출한 위치에 할당됨\n",
    "def plus2(a): \n",
    "    return a+1\n",
    "print(plus2(5))"
   ]
  },
  {
   "cell_type": "code",
   "execution_count": 31,
   "id": "40496ad2",
   "metadata": {},
   "outputs": [
    {
     "name": "stdout",
     "output_type": "stream",
     "text": [
      "6\n",
      "None\n",
      "first func\n",
      "51\n",
      "second func\n"
     ]
    }
   ],
   "source": [
    "# 기본적인 함수의 예제(불완전한 실행문)\n",
    "def plus(a):\n",
    "    print(a + 1)\n",
    "# return 구문은, 함수 내 마지막 지점에 사용할 수 있습니다.\n",
    "# return구문이 실행되면, 함수가 종료되며 동시에 해당 함수의 결과값이\n",
    "# 호출한 위치에 할당됩니다.\n",
    "def plus2(a):\n",
    "    return a + 1\n",
    "print(plus(5))\n",
    "print(\"first func\")\n",
    "print(plus2(50))\n",
    "print(\"second func\")"
   ]
  },
  {
   "cell_type": "markdown",
   "id": "75d943a0",
   "metadata": {},
   "source": [
    "### (참고) 매개변수와 인수\n",
    "\n",
    "#### 매개변수(parameter, 입력인자, 입력값)\n",
    "함수에 전달된 값을 지정하는 변수 / 함수를 선언할 때 정의하는 변수\n",
    "\n",
    "def plus2(a):  # a가 매개변수\n",
    "    return a+1\n",
    "\n",
    "#### 인수/인자(argument)\n",
    "함수를 호출(=사용)할 때 전달하는 값 \n",
    "\n",
    "print(plus2(5)) # 5가 인수인자"
   ]
  },
  {
   "cell_type": "code",
   "execution_count": null,
   "id": "4a96987d",
   "metadata": {},
   "outputs": [],
   "source": [
    "# 매개변수를 2개 이상 받는 케이스\n",
    "# sum_func 이라는 이름으로 함수를 선언하시오\n",
    "# 이 함수는 num1, num2 2개의 변수를 입력받고\n",
    "# 둘을 합산한 값을 리턴함"
   ]
  },
  {
   "cell_type": "code",
   "execution_count": 37,
   "id": "716739a3",
   "metadata": {},
   "outputs": [
    {
     "name": "stdout",
     "output_type": "stream",
     "text": [
      "11\n"
     ]
    }
   ],
   "source": [
    "# sum_func -> 단어와 단어 사이를 _(언더바) 연결하는 것을 \n",
    "# 스네이크 케이스라고 함 일종의 관습, 매너\n",
    "def sum_func(num1, num2): \n",
    "    # result = num1 + num2\n",
    "    # return result\n",
    "    return num1 + num2\n",
    "print(sum_func(5, 6))"
   ]
  },
  {
   "cell_type": "markdown",
   "id": "b24065b7",
   "metadata": {},
   "source": [
    "### 2. 매개변수 있는 함수\n",
    "\n",
    "- 인자 값을 전달 할 때 값만 입력하면 순서대로 매개변수에 할당\n",
    "\n",
    "- 매개변수명을 지정하여 전달할 수 있음"
   ]
  },
  {
   "cell_type": "code",
   "execution_count": 49,
   "id": "ca298f53",
   "metadata": {},
   "outputs": [],
   "source": [
    "# 매개변수가 3개인 함수를 설정\n",
    "# print()로 매개변수 3개가 무엇인지 콘솔에 찍고\n",
    "# result 변수에 3개의 합을 저장한 뒤 리턴\n",
    "def test1(ab,cd,ef):\n",
    "    print(ab,cd,ef)\n",
    "    result = ab + cd + ef\n",
    "    return result"
   ]
  },
  {
   "cell_type": "code",
   "execution_count": 50,
   "id": "67fe77e7",
   "metadata": {},
   "outputs": [
    {
     "name": "stdout",
     "output_type": "stream",
     "text": [
      "1 2 3\n"
     ]
    },
    {
     "data": {
      "text/plain": [
       "6"
      ]
     },
     "execution_count": 50,
     "metadata": {},
     "output_type": "execute_result"
    }
   ],
   "source": [
    "test1(1,2,3)"
   ]
  },
  {
   "cell_type": "code",
   "execution_count": 52,
   "id": "9606be1d",
   "metadata": {},
   "outputs": [
    {
     "name": "stdout",
     "output_type": "stream",
     "text": [
      "10 20 30\n"
     ]
    },
    {
     "data": {
      "text/plain": [
       "60"
      ]
     },
     "execution_count": 52,
     "metadata": {},
     "output_type": "execute_result"
    }
   ],
   "source": [
    "# 매개변수에 순서를 다르게 전달하고 싶다면 매개변수를 지목해 값을 대입\n",
    "test1(ab=10,cd=20,ef=30)"
   ]
  },
  {
   "cell_type": "markdown",
   "id": "90da7af5",
   "metadata": {},
   "source": [
    "### 2-1 매개변수 초기 값 설정\n",
    "\n",
    "- 함수 정의문에서 매개변수 값을 할당하면 초기 값으로 설정\n",
    "\n",
    "- 함수 호출 시 값을 입력하지 않으면 초기 값으로 설정\n",
    "\n",
    "- 초기화시키고 싶은 매개변수들을 항상 뒤쪽에 위치\n",
    "\n",
    "(참고) 포맷팅함수에서 인덱스 번호, 변수명 사용했던 규칙과 유사"
   ]
  },
  {
   "cell_type": "code",
   "execution_count": 111,
   "id": "1b4fb2f2",
   "metadata": {},
   "outputs": [],
   "source": [
    "# 디폴트값 선언을 사용한 예시\n",
    "def test2(a=1,b=2,c=3): # 디폴트는 아무것도 입력이 안되었을 때를 간주\n",
    "    result = a+b+c\n",
    "    return result"
   ]
  },
  {
   "cell_type": "code",
   "execution_count": 112,
   "id": "82ed080f",
   "metadata": {},
   "outputs": [
    {
     "data": {
      "text/plain": [
       "6"
      ]
     },
     "execution_count": 112,
     "metadata": {},
     "output_type": "execute_result"
    }
   ],
   "source": [
    "test2()"
   ]
  },
  {
   "cell_type": "code",
   "execution_count": 113,
   "id": "73561752",
   "metadata": {},
   "outputs": [
    {
     "data": {
      "text/plain": [
       "15"
      ]
     },
     "execution_count": 113,
     "metadata": {},
     "output_type": "execute_result"
    }
   ],
   "source": [
    "test2(10)"
   ]
  },
  {
   "cell_type": "code",
   "execution_count": 114,
   "id": "3ca4344d",
   "metadata": {},
   "outputs": [
    {
     "data": {
      "text/plain": [
       "33"
      ]
     },
     "execution_count": 114,
     "metadata": {},
     "output_type": "execute_result"
    }
   ],
   "source": [
    "test2(10,20) # 사용자에게 다양한 선택지를 줄 수 있음"
   ]
  },
  {
   "cell_type": "code",
   "execution_count": 115,
   "id": "375a3161",
   "metadata": {},
   "outputs": [],
   "source": [
    "# 디폴트값 설정은 반드시 오른쪽 요소부터 지정\n",
    "def test3(a,b=1,c=5):\n",
    "    result = a+b+c\n",
    "    return result"
   ]
  },
  {
   "cell_type": "code",
   "execution_count": 116,
   "id": "050c3616",
   "metadata": {},
   "outputs": [
    {
     "data": {
      "text/plain": [
       "10"
      ]
     },
     "execution_count": 116,
     "metadata": {},
     "output_type": "execute_result"
    }
   ],
   "source": [
    "test3(4)"
   ]
  },
  {
   "cell_type": "markdown",
   "id": "e40caeee",
   "metadata": {},
   "source": [
    "### 가변인자 리스트\n",
    "\n",
    "- 입력할 피라미터의 개수가 몇 개인지 모를 때 사용함\n",
    "- 피라미터명 왼쪽에 *을 붇임"
   ]
  },
  {
   "cell_type": "code",
   "execution_count": 1,
   "id": "49925f7e",
   "metadata": {},
   "outputs": [],
   "source": [
    "def get_members(*stu):\n",
    "    print(stu)\n",
    "    print(type(stu))"
   ]
  },
  {
   "cell_type": "code",
   "execution_count": 2,
   "id": "f4d6b35f",
   "metadata": {},
   "outputs": [
    {
     "name": "stdout",
     "output_type": "stream",
     "text": [
      "('철수', '영희', '민철', '희숙', '만득')\n",
      "<class 'tuple'>\n"
     ]
    }
   ],
   "source": [
    "get_members('철수','영희','민철','희숙','만득')"
   ]
  },
  {
   "cell_type": "code",
   "execution_count": 3,
   "id": "706664ea",
   "metadata": {},
   "outputs": [],
   "source": [
    "# 가변 피라미터(*변수명) 을 이용해서 학생들의 점수를 입력받는대로\n",
    "# 저장했다가 총점을 얻어 평균값을 구해 리턴하도록 코드를 작성 "
   ]
  },
  {
   "cell_type": "code",
   "execution_count": 42,
   "id": "87701c3f",
   "metadata": {},
   "outputs": [],
   "source": [
    "def get_average(*scores):\n",
    "    # 들어온 데이터 체크\n",
    "    print(scores)\n",
    "    # 총점 집계를 위해 total 변수 생성 및 0 대입\n",
    "    total = 0\n",
    "    # scores에 있는 모든 점수를 score에 번갈아가면서 대입\n",
    "    for score in scores:\n",
    "        #개별 점수를 total에 더해 누적\n",
    "        total += score\n",
    "        # 평균을 총점 / 더한 횟수 \n",
    "        # 총점을 나누면 평균이 나옴\n",
    "    return '총점: %s, 평균 : %s' % (total, total / len(scores))"
   ]
  },
  {
   "cell_type": "code",
   "execution_count": 43,
   "id": "dc66e550",
   "metadata": {},
   "outputs": [
    {
     "name": "stdout",
     "output_type": "stream",
     "text": [
      "(100, 79, 53, 66, 42, 88, 75, 56, 70, 75)\n"
     ]
    },
    {
     "data": {
      "text/plain": [
       "'총점: 704, 평균 : 70.4'"
      ]
     },
     "execution_count": 43,
     "metadata": {},
     "output_type": "execute_result"
    }
   ],
   "source": [
    "get_average(100,79,53,66,42,88,75,56,70,75)"
   ]
  },
  {
   "cell_type": "markdown",
   "id": "bb8cf5e0",
   "metadata": {},
   "source": [
    "### 6. 키워드 파라미터 kwargs(keyword arguments)\n",
    "\n",
    "딕셔너리 형태로 저장되는 매개변수로 정의"
   ]
  },
  {
   "cell_type": "code",
   "execution_count": 47,
   "id": "1f00c5b5",
   "metadata": {},
   "outputs": [],
   "source": [
    "# ** 두 개가 붙으면 딕셔너리 형태로 가변인자를 받음\n",
    "# 이 경우, 변수명  = 값 형식으로 호출해야 전달됨\n",
    "def test4(**정보):\n",
    "    return 정보"
   ]
  },
  {
   "cell_type": "code",
   "execution_count": 48,
   "id": "60cacd68",
   "metadata": {},
   "outputs": [
    {
     "data": {
      "text/plain": [
       "{'name': '홍길동', 'age': 19, 'gender': 'male'}"
      ]
     },
     "execution_count": 48,
     "metadata": {},
     "output_type": "execute_result"
    }
   ],
   "source": [
    "test4(name = '홍길동', age = 19, gender = 'male')"
   ]
  },
  {
   "cell_type": "markdown",
   "id": "1393bb0f",
   "metadata": {},
   "source": [
    "### 7. 함수의 결과 값\n",
    "- 함수의 결과 값은 항상 1개\n",
    "- 여러 개의 결과를 가질 수 있지만 하나의 튜플로 전달\n",
    "          \n",
    "          \n",
    "\n",
    "- 기본 문법\n",
    "            def 함수이름(매개변수이름):\n",
    "                return 결과값 1 , 결과값 2"
   ]
  },
  {
   "cell_type": "code",
   "execution_count": 51,
   "id": "bb35684e",
   "metadata": {},
   "outputs": [],
   "source": [
    "# return 키워드는 전달받은 결과들을 하나의 '튜플'로 묶어서 반환\n",
    "# 최종적으로 '하나의 변수'에 담을 수 있는 '하나의 값'으로 처리\n",
    "def test(a,b):\n",
    "    sum_ = a + b\n",
    "    mul = a * b\n",
    "    return sum_, mul"
   ]
  },
  {
   "cell_type": "code",
   "execution_count": 56,
   "id": "d3cabc97",
   "metadata": {},
   "outputs": [
    {
     "name": "stdout",
     "output_type": "stream",
     "text": [
      "(7, 12)\n"
     ]
    }
   ],
   "source": [
    "# 결과를 통째로 가져오기\n",
    "a = test(3,4)\n",
    "print(a)"
   ]
  },
  {
   "cell_type": "code",
   "execution_count": 57,
   "id": "9f1eb704",
   "metadata": {},
   "outputs": [
    {
     "name": "stdout",
     "output_type": "stream",
     "text": [
      "11\n",
      "30\n"
     ]
    }
   ],
   "source": [
    "# 결과를 개별 변수에 쪼개서 가져오기\n",
    "# 복습활용 - 좌변에 튜플 내부요소 개수만큼 변수를 선언하여 따로 저장\n",
    "s,m = test(5,6)\n",
    "print(s)\n",
    "print(m)"
   ]
  },
  {
   "cell_type": "markdown",
   "id": "2144c2e4",
   "metadata": {},
   "source": [
    "리스트로 입력받은 수들에 대해 양수만 필터링하여 반환해주는 함수를 작성하시오\n",
    "\n",
    "- 조건 1. 입력값은 인자값으로 가변인자 리스트를 전달\n",
    "\n",
    "- 조건 2. 결과값은 양수로만 구성된 새로운 리스트"
   ]
  },
  {
   "cell_type": "code",
   "execution_count": 72,
   "id": "3c1d7eaa",
   "metadata": {},
   "outputs": [
    {
     "data": {
      "text/plain": [
       "[1, 29, 31, 66, 52, 37]"
      ]
     },
     "execution_count": 72,
     "metadata": {},
     "output_type": "execute_result"
    }
   ],
   "source": [
    "def positive_list(*numbers):\n",
    "    positive_nums = []\n",
    "    for number in numbers:\n",
    "        if number > 0:\n",
    "            positive_nums.append(number)\n",
    "    return positive_nums\n",
    "positive_list(1,-4,29,31,-5,66,0,52,37)"
   ]
  },
  {
   "cell_type": "code",
   "execution_count": null,
   "id": "cd55d89f",
   "metadata": {},
   "outputs": [],
   "source": []
  },
  {
   "cell_type": "code",
   "execution_count": null,
   "id": "54e68ca5",
   "metadata": {},
   "outputs": [],
   "source": []
  },
  {
   "cell_type": "code",
   "execution_count": null,
   "id": "1cd20698",
   "metadata": {},
   "outputs": [],
   "source": []
  },
  {
   "cell_type": "code",
   "execution_count": null,
   "id": "46e737cf",
   "metadata": {},
   "outputs": [],
   "source": []
  },
  {
   "cell_type": "code",
   "execution_count": null,
   "id": "e978902d",
   "metadata": {},
   "outputs": [],
   "source": []
  },
  {
   "cell_type": "code",
   "execution_count": null,
   "id": "35b67b3f",
   "metadata": {},
   "outputs": [],
   "source": []
  },
  {
   "cell_type": "code",
   "execution_count": null,
   "id": "56d96c37",
   "metadata": {},
   "outputs": [],
   "source": []
  },
  {
   "cell_type": "code",
   "execution_count": null,
   "id": "5add80cd",
   "metadata": {},
   "outputs": [],
   "source": []
  },
  {
   "cell_type": "code",
   "execution_count": null,
   "id": "ec90cadc",
   "metadata": {},
   "outputs": [],
   "source": []
  },
  {
   "cell_type": "code",
   "execution_count": null,
   "id": "aa71c712",
   "metadata": {},
   "outputs": [],
   "source": []
  },
  {
   "cell_type": "code",
   "execution_count": null,
   "id": "71664408",
   "metadata": {},
   "outputs": [],
   "source": []
  },
  {
   "cell_type": "code",
   "execution_count": null,
   "id": "6d9e6b6f",
   "metadata": {},
   "outputs": [],
   "source": []
  },
  {
   "cell_type": "code",
   "execution_count": null,
   "id": "4c12bdda",
   "metadata": {},
   "outputs": [],
   "source": []
  },
  {
   "cell_type": "code",
   "execution_count": null,
   "id": "ddfdf735",
   "metadata": {},
   "outputs": [],
   "source": []
  }
 ],
 "metadata": {
  "kernelspec": {
   "display_name": "Python 3 (ipykernel)",
   "language": "python",
   "name": "python3"
  },
  "language_info": {
   "codemirror_mode": {
    "name": "ipython",
    "version": 3
   },
   "file_extension": ".py",
   "mimetype": "text/x-python",
   "name": "python",
   "nbconvert_exporter": "python",
   "pygments_lexer": "ipython3",
   "version": "3.9.12"
  }
 },
 "nbformat": 4,
 "nbformat_minor": 5
}
