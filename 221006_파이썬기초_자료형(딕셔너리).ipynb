{
 "cells": [
  {
   "cell_type": "markdown",
   "id": "875af961",
   "metadata": {},
   "source": [
    "# 3. 딕셔너리(Dictionary)\n",
    "* 문법 기호/함수 : {key1 : value1, key2 : value2, key3 : value3 ... } / 함수 : dict()\n",
    "* key로 가질 수 있는 데이터 타입 : 문자, 숫자, 튜플(Tuple)\n",
    "* value로 가질 수 있는 데이터 타입 : 문자, 숫자, 리스트(List), 딕셔너리(Dict) ...\n",
    "* 아이템 = key&value 하나의 쌍\n",
    "* 종류\n",
    "     * 아이템이 없는 딕셔너리\n",
    "     * 1차원 딕셔너리\n",
    "     * 다차원 딕셔너리\n",
    "* 앞쪽_화살표: 특징\n",
    "     * key, value의 차이점\n",
    "     * 인덱스 번호를 가지지 않는다."
   ]
  },
  {
   "cell_type": "markdown",
   "id": "e7ae8be9",
   "metadata": {},
   "source": [
    "# 1. 생성하기"
   ]
  },
  {
   "cell_type": "code",
   "execution_count": 1,
   "id": "85eb793a",
   "metadata": {},
   "outputs": [
    {
     "data": {
      "text/plain": [
       "dict"
      ]
     },
     "execution_count": 1,
     "metadata": {},
     "output_type": "execute_result"
    }
   ],
   "source": [
    "# 딕셔너리 생성하기\n",
    "# 문법기호 : {k1:v1, k2:v2 ...}\n",
    "d1 = {1:10, 2:20, 3:30}\n",
    "type(d1)"
   ]
  },
  {
   "cell_type": "code",
   "execution_count": 3,
   "id": "764e16b8",
   "metadata": {},
   "outputs": [
    {
     "data": {
      "text/plain": [
       "dict"
      ]
     },
     "execution_count": 3,
     "metadata": {},
     "output_type": "execute_result"
    }
   ],
   "source": [
    "# dict()를 이용해서 생성가능\n",
    "d2 = dict()\n",
    "type(d2)"
   ]
  },
  {
   "cell_type": "code",
   "execution_count": 57,
   "id": "b15f62d2",
   "metadata": {},
   "outputs": [
    {
     "data": {
      "text/plain": [
       "list"
      ]
     },
     "execution_count": 57,
     "metadata": {},
     "output_type": "execute_result"
    }
   ],
   "source": [
    "# 2차원 자료를 이용해 딕셔너리로 변환 가능\n",
    "x = [['a','b'],\n",
    "     ['a1','b1'],\n",
    "     ['a2','b2']]\n",
    "type(x)"
   ]
  },
  {
   "cell_type": "code",
   "execution_count": 9,
   "id": "9fff3a0c",
   "metadata": {},
   "outputs": [
    {
     "data": {
      "text/plain": [
       "{1: [1, 2, 3], 2: {'a': 'b'}}"
      ]
     },
     "execution_count": 9,
     "metadata": {},
     "output_type": "execute_result"
    }
   ],
   "source": [
    "# 딕셔너리의 velue값에 들어갈 수 있는 자료에서 제약이 없음\n",
    "{1:[1,2,3],2:{'a':'b'}}"
   ]
  },
  {
   "cell_type": "code",
   "execution_count": 12,
   "id": "8708fdae",
   "metadata": {},
   "outputs": [
    {
     "data": {
      "text/plain": [
       "{'name': '임꺽정', 'name2': '임꺽정'}"
      ]
     },
     "execution_count": 12,
     "metadata": {},
     "output_type": "execute_result"
    }
   ],
   "source": [
    "# key와 velue의 차이\n",
    "# key값에는 중복된 자료가 못 들어가며\n",
    "# 만약 선언단계에서 중복된 key로 선언시 가장 마지막 하나만 반영됨\n",
    "{'name':'홍길동','name':'임꺽정','name2':'임꺽정'}"
   ]
  },
  {
   "cell_type": "markdown",
   "id": "09d0eb7e",
   "metadata": {},
   "source": [
    "# 2. 인덱싱\n",
    "\n",
    "- 인덱싱 문법 기호\n",
    "\n",
    "- 일차원 vs 다차원 인덱싱\n",
    "\n",
    "- 딕셔너리 내장함수로 인덱싱"
   ]
  },
  {
   "cell_type": "code",
   "execution_count": 17,
   "id": "cb3c0041",
   "metadata": {},
   "outputs": [
    {
     "data": {
      "text/plain": [
       "1"
      ]
     },
     "execution_count": 17,
     "metadata": {},
     "output_type": "execute_result"
    }
   ],
   "source": [
    "# 기존의 인덱싱 방법 : 객체[인덱싱번호]\n",
    "a = [1, 2, 3]\n",
    "a[0]"
   ]
  },
  {
   "cell_type": "code",
   "execution_count": 19,
   "id": "cd17fa13",
   "metadata": {},
   "outputs": [],
   "source": [
    "# 문자, 리스트타입 인덱싱과의 차이점 : 기준값이 인덱스번호가 아닌 key값을 사용\n",
    "d1 = {'a':10,'b':20,'c':30}"
   ]
  },
  {
   "cell_type": "code",
   "execution_count": 21,
   "id": "5fa0b18a",
   "metadata": {},
   "outputs": [
    {
     "data": {
      "text/plain": [
       "30"
      ]
     },
     "execution_count": 21,
     "metadata": {},
     "output_type": "execute_result"
    }
   ],
   "source": [
    "# 인덱싱 방식 : 없는 key 값을 조회하면 에러\n",
    "d1['c']"
   ]
  },
  {
   "cell_type": "code",
   "execution_count": 22,
   "id": "5d0fa053",
   "metadata": {},
   "outputs": [],
   "source": [
    "# 내장함수 get()을 사용하면, 없는 키값으로 조회해도 에러가 나지 않음\n",
    "d1.get('d')"
   ]
  },
  {
   "cell_type": "code",
   "execution_count": 25,
   "id": "6e9248e4",
   "metadata": {},
   "outputs": [
    {
     "ename": "TypeError",
     "evalue": "unhashable type: 'slice'",
     "output_type": "error",
     "traceback": [
      "\u001b[1;31m---------------------------------------------------------------------------\u001b[0m",
      "\u001b[1;31mTypeError\u001b[0m                                 Traceback (most recent call last)",
      "Input \u001b[1;32mIn [25]\u001b[0m, in \u001b[0;36m<cell line: 3>\u001b[1;34m()\u001b[0m\n\u001b[0;32m      1\u001b[0m \u001b[38;5;66;03m# 딕셔너리는 슬라이싱이 불가능\u001b[39;00m\n\u001b[0;32m      2\u001b[0m \u001b[38;5;66;03m# 슬라이싱 대신 반봅문을 사용해야함\u001b[39;00m\n\u001b[1;32m----> 3\u001b[0m \u001b[43md1\u001b[49m\u001b[43m[\u001b[49m\u001b[38;5;124;43m'\u001b[39;49m\u001b[38;5;124;43ma\u001b[39;49m\u001b[38;5;124;43m'\u001b[39;49m\u001b[43m:\u001b[49m\u001b[38;5;124;43m'\u001b[39;49m\u001b[38;5;124;43mc\u001b[39;49m\u001b[38;5;124;43m'\u001b[39;49m\u001b[43m]\u001b[49m\n",
      "\u001b[1;31mTypeError\u001b[0m: unhashable type: 'slice'"
     ]
    }
   ],
   "source": [
    "# 딕셔너리는 슬라이싱이 불가능\n",
    "# 슬라이싱 대신 반복문을 사용해야함\n",
    "d1['a':'c']"
   ]
  },
  {
   "cell_type": "markdown",
   "id": "ae56ce24",
   "metadata": {},
   "source": [
    "### << 연습문제 >>\n",
    "아래와 같은 다차원 딕셔너리를 만들고 제시한 값을 출력해보세요.\n",
    "   - {'a' : [1, 2, 3], 'b' : 100, 'c' : {'key1' : ['파인애플', '포도', '바나나'], 'key2' : (55, 66)}}\n",
    "\n",
    "* 1) 3 출력하기\n",
    "\n",
    "* 2) ['파인애플', '포도', '바나나']\n",
    "\n",
    "* 3) 포도 출력하기\n",
    "\n",
    "* 4) 55 출력하기"
   ]
  },
  {
   "cell_type": "code",
   "execution_count": 26,
   "id": "5664a0f2",
   "metadata": {},
   "outputs": [],
   "source": [
    "d1= {'a' : [1, 2, 3],\n",
    "     'b' : 100,\n",
    "     'c' : {'key1' : ['파인애플', '포도', '바나나'],\n",
    "            'key2' : (55, 66)}}"
   ]
  },
  {
   "cell_type": "code",
   "execution_count": 34,
   "id": "faa4a03d",
   "metadata": {},
   "outputs": [
    {
     "data": {
      "text/plain": [
       "3"
      ]
     },
     "execution_count": 34,
     "metadata": {},
     "output_type": "execute_result"
    }
   ],
   "source": [
    "# 1)\n",
    "d1['a'][2]"
   ]
  },
  {
   "cell_type": "code",
   "execution_count": 36,
   "id": "18345a4c",
   "metadata": {},
   "outputs": [
    {
     "data": {
      "text/plain": [
       "['파인애플', '포도', '바나나']"
      ]
     },
     "execution_count": 36,
     "metadata": {},
     "output_type": "execute_result"
    }
   ],
   "source": [
    "# 2)\n",
    "d1['c']['key1']"
   ]
  },
  {
   "cell_type": "code",
   "execution_count": 39,
   "id": "19a648eb",
   "metadata": {},
   "outputs": [
    {
     "data": {
      "text/plain": [
       "'포도'"
      ]
     },
     "execution_count": 39,
     "metadata": {},
     "output_type": "execute_result"
    }
   ],
   "source": [
    "# 3) \n",
    "d1['c']['key1'][1]"
   ]
  },
  {
   "cell_type": "code",
   "execution_count": 40,
   "id": "7cd1f5db",
   "metadata": {},
   "outputs": [
    {
     "data": {
      "text/plain": [
       "55"
      ]
     },
     "execution_count": 40,
     "metadata": {},
     "output_type": "execute_result"
    }
   ],
   "source": [
    "# 4)\n",
    "d1['c']['key2'][0]"
   ]
  },
  {
   "cell_type": "markdown",
   "id": "d5d05aae",
   "metadata": {},
   "source": [
    "# 3. 아이템 추가하기\n",
    "\n",
    "- 인덱싱 방식으로 새로운 아이템 추가\n",
    "\n",
    "- 메소드 : update()"
   ]
  },
  {
   "cell_type": "code",
   "execution_count": 42,
   "id": "8c0c00fd",
   "metadata": {},
   "outputs": [],
   "source": [
    "d1 = {'a':1, 'b':2, \"c\":3}"
   ]
  },
  {
   "cell_type": "code",
   "execution_count": 43,
   "id": "057a0f53",
   "metadata": {},
   "outputs": [
    {
     "data": {
      "text/plain": [
       "{'a': 1, 'b': 2, 'c': 3, 'd': 4}"
      ]
     },
     "execution_count": 43,
     "metadata": {},
     "output_type": "execute_result"
    }
   ],
   "source": [
    "# 새로운 key값(인덱싱)에 value값을 할당하여 아이템 추가\n",
    "d1['d'] = 4\n",
    "d1"
   ]
  },
  {
   "cell_type": "code",
   "execution_count": 44,
   "id": "8f050ce5",
   "metadata": {},
   "outputs": [
    {
     "data": {
      "text/plain": [
       "{'a': 10, 'b': 2, 'c': 3, 'd': 4}"
      ]
     },
     "execution_count": 44,
     "metadata": {},
     "output_type": "execute_result"
    }
   ],
   "source": [
    "# 기존에 존재하는 key값에 대해서 value를 할당하면 값이 새롭게 갱신됨\n",
    "d1['a']=10\n",
    "d1"
   ]
  },
  {
   "cell_type": "code",
   "execution_count": 47,
   "id": "ee4c4035",
   "metadata": {},
   "outputs": [
    {
     "data": {
      "text/plain": [
       "{'a': 10, 'b': 2, 'c': 3, 'd': 4, 'e': 10, 'z': 40, 'v': 100}"
      ]
     },
     "execution_count": 47,
     "metadata": {},
     "output_type": "execute_result"
    }
   ],
   "source": [
    "# 하나 이상의 아이뎀을 추가/수정 : 딕셔너리자료.update({})\n",
    "# 추가할 아이템 타입 : 딕셔너리를 직접 넣어줘도 되고\n",
    "# 딕셔너리로 변환이 가능한 리스트를 넣어줘도 됨\n",
    "# 'e':10, 'z':40, 'v':100\n",
    "d1.update({'e':10, 'z':40, 'v':100})\n",
    "d1"
   ]
  },
  {
   "cell_type": "code",
   "execution_count": 48,
   "id": "277d8be8",
   "metadata": {},
   "outputs": [],
   "source": [
    "# 리스트로 처리하기\n",
    "d2 = {'a':10, 'b': 2, 'c':3, 'd':4}"
   ]
  },
  {
   "cell_type": "code",
   "execution_count": 54,
   "id": "85c690ab",
   "metadata": {},
   "outputs": [
    {
     "data": {
      "text/plain": [
       "{'a': 10, 'b': 10, 'c': 3, 'd': 4, 'e': 50, 'f': 100}"
      ]
     },
     "execution_count": 54,
     "metadata": {},
     "output_type": "execute_result"
    }
   ],
   "source": [
    "date = [['b',10],\n",
    "        ['e',50],\n",
    "        ['f',100]]\n",
    "d2.update(date)\n",
    "d2"
   ]
  },
  {
   "cell_type": "code",
   "execution_count": 55,
   "id": "440e6fef",
   "metadata": {},
   "outputs": [
    {
     "data": {
      "text/plain": [
       "{'b': 10, 'e': 50, 'f': 100}"
      ]
     },
     "execution_count": 55,
     "metadata": {},
     "output_type": "execute_result"
    }
   ],
   "source": [
    "#딕셔너리로 변환되는 리스트 형식이기 때문에 가능\n",
    "dict(date)"
   ]
  },
  {
   "cell_type": "code",
   "execution_count": 56,
   "id": "ebac6a2a",
   "metadata": {},
   "outputs": [
    {
     "data": {
      "text/plain": [
       "['a', 'b', 'c', 'd', 'e', 'f']"
      ]
     },
     "execution_count": 56,
     "metadata": {},
     "output_type": "execute_result"
    }
   ],
   "source": [
    "# 딕셔너리를 리스트로 돌릴때는 키값만 복원됨\n",
    "list(d2)"
   ]
  },
  {
   "cell_type": "code",
   "execution_count": null,
   "id": "9b8dee0e",
   "metadata": {},
   "outputs": [],
   "source": []
  }
 ],
 "metadata": {
  "kernelspec": {
   "display_name": "Python 3 (ipykernel)",
   "language": "python",
   "name": "python3"
  },
  "language_info": {
   "codemirror_mode": {
    "name": "ipython",
    "version": 3
   },
   "file_extension": ".py",
   "mimetype": "text/x-python",
   "name": "python",
   "nbconvert_exporter": "python",
   "pygments_lexer": "ipython3",
   "version": "3.9.12"
  }
 },
 "nbformat": 4,
 "nbformat_minor": 5
}
