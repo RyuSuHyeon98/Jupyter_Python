{
 "cells": [
  {
   "cell_type": "markdown",
   "id": "fb952741",
   "metadata": {},
   "source": [
    "# << 제어문 >>\n",
    "## 1. 조건문(if , elif, else)\n",
    "주어진 조건을 판단하여 해당 조건이 참일 때와 거짓일 때에 맞는 명령문을 수행하는 것\n",
    "- 기본 문법\n",
    "        if 조건문1 :\n",
    "            조건문1이 참일 때 실행할 문장1\n",
    "            조건문1이 참일 때 실행할 문장2\n",
    "        elif 조건문2 :\n",
    "            (조건문1이 거짓일 때 elif 블럭으로 이동)\n",
    "            조건문2가 참일 때 실행할 문장1\n",
    "            조건문2가 참일 때 실행할 문장2\n",
    "            조건문2가 참일 때 실행할 문장2\n",
    "        else :\n",
    "            조건문1, 조건문2가 모두 거짓일 때 실행할 문장1\n",
    "            조건문1, 조건문2가 모두 거짓일 때 실행할 문장2\n",
    "        => elif, else는 상황에 따라 생략될 수 있다.\n",
    "- 주의해야할 문법 :\n",
    "    - 조건문 및 else 뒤에 반드시 콜론(:)을 써야 한다.\n",
    "    - 조건문이 있는 문장 하위에 속하는 실행문장들은 반드시 한 번 들여쓰기 되어야 한다. ( 자동 / tab / space 4번)\n",
    "    - 각 조건문이 참/거짓일 때 실행되는 문장이 무엇인지 알아야 한다.\n",
    "    - else는 조건문을 작성하지 않는다.\n",
    "- 조건문 : 참(True)과 거짓(False)으로 구분되는 문장\n",
    "    - 비교 연산자를 사용한 조건문 : >, <, >=, <=, ==, !=\n",
    "    - 값을 이용한 조건문 : 무조건 참, 무조건 거짓\n",
    "    - 논리 연산자를 사용한 조건문 : and, or, not\n",
    "    - IN 연산자를 사용한 조건문\n",
    "cf. True vs False\n",
    "     - bool type : True, False 값의 타입"
   ]
  },
  {
   "cell_type": "markdown",
   "id": "9c118caf",
   "metadata": {},
   "source": [
    "### 1. if~else 조건문\n",
    "\n",
    "- 조건식 : 결과가 True 또는 False로 해석될 수 있는 명령어로 구성"
   ]
  },
  {
   "cell_type": "code",
   "execution_count": 20,
   "id": "0d4cc572",
   "metadata": {},
   "outputs": [
    {
     "name": "stdout",
     "output_type": "stream",
     "text": [
      "책을 삽니다.\n",
      "집에 왔습니다.\n"
     ]
    }
   ],
   "source": [
    "# 가장 기초적인 조건문, '만약 ~하다면' - if 조건문: \n",
    "money = True\n",
    "\n",
    "if money:\n",
    "    print('책을 삽니다.')\n",
    "    \n",
    "print('집에 왔습니다.')"
   ]
  },
  {
   "cell_type": "code",
   "execution_count": 23,
   "id": "02b7a249",
   "metadata": {},
   "outputs": [
    {
     "ename": "IndentationError",
     "evalue": "expected an indented block (3018819620.py, line 4)",
     "output_type": "error",
     "traceback": [
      "\u001b[1;36m  Input \u001b[1;32mIn [23]\u001b[1;36m\u001b[0m\n\u001b[1;33m    print('책을 삽니다.')\u001b[0m\n\u001b[1;37m    ^\u001b[0m\n\u001b[1;31mIndentationError\u001b[0m\u001b[1;31m:\u001b[0m expected an indented block\n"
     ]
    }
   ],
   "source": [
    "money = True\n",
    "\n",
    "if money:\n",
    "print('책을 삽니다.') # if에 속한 조건문은 들여쓰기가 되어야함\n",
    "    \n",
    "print('집에 왔습니다.')"
   ]
  },
  {
   "cell_type": "code",
   "execution_count": 21,
   "id": "53871e2d",
   "metadata": {},
   "outputs": [
    {
     "name": "stdout",
     "output_type": "stream",
     "text": [
      "집에 왔습니다.\n"
     ]
    }
   ],
   "source": [
    "# 조건문이 참이면 출력하지만 거짓이기 때문에 조건문 실행을 마치고 다음 코드로 건너뜀\n",
    "money = False\n",
    "\n",
    "if money:\n",
    "    print('책을 삽니다.')\n",
    "    \n",
    "print('집에 왔습니다.') # 해당 출력은 if문과 별개의 코드이기에 무조건 출력됨"
   ]
  },
  {
   "cell_type": "code",
   "execution_count": 22,
   "id": "a22d434c",
   "metadata": {},
   "outputs": [
    {
     "name": "stdout",
     "output_type": "stream",
     "text": [
      "책을 사지 못했습니다.\n",
      "집에 왔습니다.\n"
     ]
    }
   ],
   "source": [
    "# 그렇지 않다면 - else 조건문: \n",
    "money = False\n",
    "\n",
    "if money:\n",
    "    print('책을 삽니다.')\n",
    "else: \n",
    "    print('책을 사지 못했습니다.') # 앞 if문의 결과는 False였을 경우 \n",
    "    \n",
    "print('집에 왔습니다.')"
   ]
  },
  {
   "cell_type": "code",
   "execution_count": 62,
   "id": "6c7a8f66",
   "metadata": {},
   "outputs": [
    {
     "name": "stdout",
     "output_type": "stream",
     "text": [
      "굶습니다.\n",
      "집에 왔습니다.\n"
     ]
    }
   ],
   "source": [
    "# 논리 연산자를 사용한 조건\n",
    "# 아래에 if문을 활용해서 돈이 6000원 이상이면\n",
    "# '백반을 먹습니다'\n",
    "money = 500\n",
    "\n",
    "if money>=6000:\n",
    "    print('백반을 먹습니다.')     \n",
    "else:\n",
    "    print('굶습니다.')\n",
    "print('집에 왔습니다.')"
   ]
  },
  {
   "cell_type": "code",
   "execution_count": 50,
   "id": "eeb9409a",
   "metadata": {},
   "outputs": [
    {
     "name": "stdout",
     "output_type": "stream",
     "text": [
      "컵라면을 먹습니다.\n"
     ]
    }
   ],
   "source": [
    "# not 키워드를 이용해 논리연산자 뒤집기\n",
    "money = 5000\n",
    "\n",
    "if not money>7000:\n",
    "    print('컵라면을 먹습니다.') # money가 7000보다 작거나 같습니까로 해석되어 True로 되어 출력\n",
    "else:\n",
    "    print('제육볶음을 먹습니다.')"
   ]
  },
  {
   "cell_type": "code",
   "execution_count": 61,
   "id": "747eb0b4",
   "metadata": {},
   "outputs": [
    {
     "name": "stdout",
     "output_type": "stream",
     "text": [
      "꽝입니다.\n"
     ]
    }
   ],
   "source": [
    "# in키워드를 사용한 조건문\n",
    "reward = ['상범','상효','상철']\n",
    "\n",
    "if ('수현' in reward):\n",
    "    print('경품을 받습니다.')\n",
    "else:\n",
    "    print('꽝입니다.')"
   ]
  },
  {
   "cell_type": "markdown",
   "id": "5b82dd61",
   "metadata": {},
   "source": [
    "### 2. elif 조건문\n",
    "- 개수에 제한이 없다.\n",
    "\n",
    "- 여러 개의 조건문이 존재할 경우 각각의 시작 조건은 별도로 작성하지 않아도 자동으로 생성된다.\n",
    "\n",
    "If <조건문1>:\n",
    "    <수행할 문장1>\n",
    "    <수행할 문장2>\n",
    "\n",
    "elif <조건문2>:\n",
    "    <수행할 문장1>\n",
    "    <수행할 문장2>\n",
    "\n",
    "elif <조건문3>:\n",
    "    <수행할 문장1>\n",
    "    <수행할 문장2>\n",
    "... (원하는 만큼 elif문 작성 가능)\n",
    "\n",
    "else:\n",
    "    <수행할 문장1>\n",
    "    <수행할 문장2>"
   ]
  },
  {
   "cell_type": "code",
   "execution_count": 63,
   "id": "79dddb5f",
   "metadata": {},
   "outputs": [
    {
     "name": "stdout",
     "output_type": "stream",
     "text": [
      "컵라면을 먹습니다.\n",
      "집에 왔습니다.\n"
     ]
    }
   ],
   "source": [
    "# elif(else if) 조건문:  \n",
    "# elif는 if보다 앞설 수 없으며, else보다 뒤로 갈 수 없음 \n",
    "money = 1000\n",
    "\n",
    "if money>=6000:\n",
    "    print('백반을 먹습니다.')\n",
    "elif money>=1500:\n",
    "    print('삼각김밥을 먹습니다.')  \n",
    "elif money>=1000:\n",
    "    print('컵라면을 먹습니다.')        \n",
    "else:\n",
    "    print('굶습니다.')\n",
    "print('집에 왔습니다.')"
   ]
  },
  {
   "cell_type": "code",
   "execution_count": 85,
   "id": "b5d466ba",
   "metadata": {},
   "outputs": [
    {
     "name": "stdout",
     "output_type": "stream",
     "text": [
      "판별할 정수를 넣어주세요:0\n",
      "0입니다.\n"
     ]
    }
   ],
   "source": [
    "# 주어진 정수가 양수인지 음수인지 0인지 판별하는 조건\n",
    "# 0과 음수를 판별할 수 있도록 코드를 완성시키시오\n",
    "integar = int(input('판별할 정수를 넣어주세요:'))\n",
    "\n",
    "if(integar>=1):\n",
    "    print('양수입니다.')\n",
    "# if(integar>0):\n",
    "#   print('양수입니다')\n",
    "elif(integar<0):\n",
    "    print('음수입니다.')\n",
    "elif(integar==0):\n",
    "    print('0입니다.')\n",
    "# else:\n",
    "#    print('0입니다.') "
   ]
  },
  {
   "cell_type": "code",
   "execution_count": null,
   "id": "31496b02",
   "metadata": {},
   "outputs": [],
   "source": []
  }
 ],
 "metadata": {
  "kernelspec": {
   "display_name": "Python 3 (ipykernel)",
   "language": "python",
   "name": "python3"
  },
  "language_info": {
   "codemirror_mode": {
    "name": "ipython",
    "version": 3
   },
   "file_extension": ".py",
   "mimetype": "text/x-python",
   "name": "python",
   "nbconvert_exporter": "python",
   "pygments_lexer": "ipython3",
   "version": "3.9.12"
  }
 },
 "nbformat": 4,
 "nbformat_minor": 5
}
