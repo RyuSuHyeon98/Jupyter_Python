{
 "cells": [
  {
   "cell_type": "markdown",
   "id": "f9e28060",
   "metadata": {},
   "source": [
    "# << 제어문 >>\n",
    "## 2-1. while 반복문(+조건문)\n",
    "주어진 조건을 판단하여 조건이 참일 동안 특정한 명령문을 반복적으로 수행하는 것\n",
    " - 기본 문법\n",
    "      - while 조건문:\n",
    "            반복적으로 수행할 문장1\n",
    "            반복적으로 수행할 문장2\n",
    "            ...\n",
    " - 주의해야할 문법 :\n",
    "    - 조건문 뒤에 반드시 콜론(:)을 써야 한다.\n",
    "    - 조건문이 있는 문장 하위에 속하는 실행문장들은 반드시 한 번 들여쓰기 되어야 한다. ( 자동 / tab / space 4번)\n",
    "    - 무한반복문에 대한 이해와 관련된 키워드(break, continue 등)를 활용할 수 있어야 한다.\n",
    " \n",
    " \n",
    " - 무한반복문 : 조건문이 무조건 참인 경우, while 반복문은 무한히 반복된다.\n",
    "    - break 키워드 : 특정 조건을 만족할 경우 제어문을 빠져나가 반복을 종료한다.\n",
    "    - continue : 특정 조건을 만족할 경우 반복문을 종료하는 것이 아니라 반복문의 시작으로 돌아간다. (참고) pass"
   ]
  },
  {
   "cell_type": "code",
   "execution_count": 1,
   "id": "9fc330d0",
   "metadata": {},
   "outputs": [
    {
     "name": "stdout",
     "output_type": "stream",
     "text": [
      "Hello World!\n",
      "Hello World!\n",
      "Hello World!\n"
     ]
    }
   ],
   "source": [
    "# Hello World 3번 출력\n",
    "# 기존의 출력방법\n",
    "print('Hello World!')\n",
    "print('Hello World!')\n",
    "print('Hello World!')"
   ]
  },
  {
   "cell_type": "code",
   "execution_count": 2,
   "id": "25132bc3",
   "metadata": {},
   "outputs": [
    {
     "name": "stdout",
     "output_type": "stream",
     "text": [
      "Hello World!\n",
      "Hello World!\n",
      "Hello World!\n"
     ]
    }
   ],
   "source": [
    "# while 반복문 출력\n",
    "loop = 0\n",
    "while loop <= 2:          # while 조건문에서 참 거짓을 판단한 이후 반복여부를 결정 \n",
    "    loop += 1             # 해당 문장을 수행한 이후 아래로 내려감\n",
    "    print('Hello World!') # print로 출력이 된 이후 끝이 아닌 출력한 이후 다시 while 조건문으로 돌아감"
   ]
  },
  {
   "cell_type": "code",
   "execution_count": 9,
   "id": "0311fb4d",
   "metadata": {},
   "outputs": [
    {
     "name": "stdout",
     "output_type": "stream",
     "text": [
      "무한루프 1\n",
      "무한루프 2\n",
      "무한루프 3\n",
      "무한루프 4\n",
      "무한루프 5\n",
      "무한루프 6\n",
      "무한루프 7\n",
      "무한루프 8\n",
      "무한루프 9\n",
      "무한루프 10\n"
     ]
    }
   ],
   "source": [
    "# while문의 조건식이 무조건 참으로만 판단되는 경우 무한루프가 됨\n",
    "# 이 경우 보통 break문을 조합해 종료시킴\n",
    "a = 1\n",
    "while True:\n",
    "    print(\"무한루프\",a)\n",
    "    if a > 9:\n",
    "        break\n",
    "    a += 1"
   ]
  },
  {
   "cell_type": "code",
   "execution_count": 13,
   "id": "db5d8124",
   "metadata": {},
   "outputs": [
    {
     "name": "stdout",
     "output_type": "stream",
     "text": [
      "3\n",
      "5\n",
      "7\n",
      "9\n"
     ]
    }
   ],
   "source": [
    "# 돌던 바퀴만 스킵하고, 전체 반복문 실행은 유지하고 싶다면 continue를 사용함\n",
    "# continue if문이 True 라면 continue 아래 있는 라인을 스킵하고 다시 while문이 있는 라인으로 올라감\n",
    "# continue가 False면 해당 라인을 건너뛰고 아래 있는 라인으로 넘어감\n",
    "a = 1\n",
    "while a < 10:\n",
    "    a += 1\n",
    "    if a % 2 == 0:\n",
    "        continue\n",
    "    print(a)"
   ]
  },
  {
   "cell_type": "markdown",
   "id": "08d7c2f6",
   "metadata": {},
   "source": [
    "# 연습문제\n",
    "\n",
    "##### 초기식에는 score 변수에 100을 저장하고, 이후 while 문에서 score가 60이상인 경우에 다시 score 새 점수를 받고   \n",
    "##### 입력받은 점수들은 리스트 자료형인 score_list으로 새 점수를 받고, \n",
    "##### 입력받은 점수들은 리스트 자료형인 score_list에 저장하는 코드를 작성하시오 \n",
    "##### 60점 미만의 점수가 score에 저장되면 반복문을 탈출하고\n",
    "##### 이후 score_list에 저장된 점수는 모두 내림차순 정렬해서 보여주시오"
   ]
  },
  {
   "cell_type": "code",
   "execution_count": 50,
   "id": "e7ef796b",
   "metadata": {},
   "outputs": [],
   "source": [
    "score = 100\n",
    "score_list = []"
   ]
  },
  {
   "cell_type": "code",
   "execution_count": 51,
   "id": "a2bb9ede",
   "metadata": {},
   "outputs": [
    {
     "name": "stdout",
     "output_type": "stream",
     "text": [
      "정수를 입력해주세요:60\n",
      "정수를 입력해주세요:70\n",
      "정수를 입력해주세요:80\n",
      "정수를 입력해주세요:90\n",
      "정수를 입력해주세요:100\n",
      "정수를 입력해주세요:50\n",
      "[100, 90, 80, 70, 60, 50]\n"
     ]
    }
   ],
   "source": [
    "while score >= 60:  # 반복문에서 score가 60이상인 경우\n",
    "    score = int(input('정수를 입력해주세요:')) # 다시 score 새 점수를 받고 \n",
    "    score_list.append(score) # 입력받은 점수들은 리스트 자료형인 score_list으로 새 점수를 받고 저장하는 코드를 작성하시오 \n",
    "    if score >= 60: \n",
    "        score_list.sort(reverse=True) # score_list에 저장된 점수는 모두 내림차순 정렬\n",
    "    else: # 60점 미만의 점수가 score에 저장되면\n",
    "        break # 반복문을 탈출하고\n",
    "print(score_list) # score_list에 저장된 점수를 보여주시오"
   ]
  },
  {
   "cell_type": "code",
   "execution_count": null,
   "id": "419d5dff",
   "metadata": {},
   "outputs": [],
   "source": [
    "# .sort() 와 .count()등 비교\n",
    "# 함수 배운 분들용 설명 : return 구문 유무\n",
    "# 함수 안 배운 분들용 설명 : 시뮬레이션과 즉시적용의 차이\n",
    "# 시뮬레이션인 경우는 바로 출력이 되지만, 즉시적용되는 것은 나오지 않음"
   ]
  },
  {
   "cell_type": "markdown",
   "id": "a5634981",
   "metadata": {},
   "source": [
    "https://youtu.be/PSvnlDD9ogY"
   ]
  },
  {
   "cell_type": "code",
   "execution_count": null,
   "id": "3b88431b",
   "metadata": {},
   "outputs": [],
   "source": []
  }
 ],
 "metadata": {
  "kernelspec": {
   "display_name": "Python 3 (ipykernel)",
   "language": "python",
   "name": "python3"
  },
  "language_info": {
   "codemirror_mode": {
    "name": "ipython",
    "version": 3
   },
   "file_extension": ".py",
   "mimetype": "text/x-python",
   "name": "python",
   "nbconvert_exporter": "python",
   "pygments_lexer": "ipython3",
   "version": "3.9.12"
  }
 },
 "nbformat": 4,
 "nbformat_minor": 5
}
