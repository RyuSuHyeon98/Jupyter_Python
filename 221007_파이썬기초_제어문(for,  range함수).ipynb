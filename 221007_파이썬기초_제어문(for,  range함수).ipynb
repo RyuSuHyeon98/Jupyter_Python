{
 "cells": [
  {
   "cell_type": "markdown",
   "id": "6cfd9db7",
   "metadata": {},
   "source": [
    "# << 제어문 >>\n",
    "# 2-2. for 반복문\n",
    "* 자료형(리스트, 튜플, 문자열)의 모든 아이템에 대하여 처음부터 마지막까지 차례대로 접근하여 실행문을 적용한다.\n",
    "\n",
    "- 기본 문법\n",
    "        for 임시변수 in 자료형 :\n",
    "            수행할 문장1\n",
    "            수행할 문장2\n",
    "            ...\n",
    "- 임시변수\n",
    "        - for 반복문이 실행되면 자료형의 아이템이 차례대로 임시변수에 할당된다.\n",
    "        - 기본적으로 변수는 할당문이 존재해야 하지만 임시변수는 할당문이 필요 없는 객체이다."
   ]
  },
  {
   "cell_type": "code",
   "execution_count": 2,
   "id": "10b3d167",
   "metadata": {},
   "outputs": [
    {
     "name": "stdout",
     "output_type": "stream",
     "text": [
      "Hello World!\n",
      "Hello World!\n",
      "Hello World!\n"
     ]
    }
   ],
   "source": [
    "# 하나의 아이템에 접근 : 리스트 자료형\n",
    "a = [1,2,3]\n",
    "for i in a:\n",
    "    print('Hello World!')"
   ]
  },
  {
   "cell_type": "markdown",
   "id": "270879e8",
   "metadata": {},
   "source": [
    "https://youtu.be/bpYtnVg6UJY "
   ]
  },
  {
   "cell_type": "code",
   "execution_count": 7,
   "id": "52dd2dd2",
   "metadata": {},
   "outputs": [
    {
     "name": "stdout",
     "output_type": "stream",
     "text": [
      "10\n",
      "20\n",
      "30\n"
     ]
    }
   ],
   "source": [
    "# 하나의 아이템에 접근 : 튜플 자료형\n",
    "tu = 10, 20, 30\n",
    "#print 구문을 이용해 10, 20, 30을 순차적으로 찍으시오\n",
    "for i in tu:\n",
    "    print(i) # 임시변수를 출력 "
   ]
  },
  {
   "cell_type": "code",
   "execution_count": 11,
   "id": "56e4f4fc",
   "metadata": {},
   "outputs": [
    {
     "data": {
      "text/plain": [
       "True"
      ]
     },
     "execution_count": 11,
     "metadata": {},
     "output_type": "execute_result"
    }
   ],
   "source": [
    "# 하나의 아이템에 접근 : 딕셔너리 자료형\n",
    "# 딕셔너리 자료형에 대해서는 반복문 접근시 key값 기준으로 접근됨\n",
    "# 따라서 딕셔너리 접근은 .keys()요소에 접근하는 것과 같은 결과\n",
    "d1 = {'a':1,'b':2,'c':3}\n",
    "'a' in d1"
   ]
  },
  {
   "cell_type": "code",
   "execution_count": 17,
   "id": "fb2a433a",
   "metadata": {},
   "outputs": [
    {
     "name": "stdout",
     "output_type": "stream",
     "text": [
      "a\n",
      "b\n",
      "c\n"
     ]
    }
   ],
   "source": [
    "for k in d1:\n",
    "    print(k)"
   ]
  },
  {
   "cell_type": "code",
   "execution_count": 16,
   "id": "dd5e379c",
   "metadata": {},
   "outputs": [
    {
     "name": "stdout",
     "output_type": "stream",
     "text": [
      "a\n",
      "b\n",
      "c\n"
     ]
    }
   ],
   "source": [
    "for k in d1.keys():\n",
    "    print(k)"
   ]
  },
  {
   "cell_type": "code",
   "execution_count": 21,
   "id": "53e60c33",
   "metadata": {},
   "outputs": [
    {
     "name": "stdout",
     "output_type": "stream",
     "text": [
      "('a', 1)\n",
      "('b', 2)\n",
      "('c', 3)\n"
     ]
    }
   ],
   "source": [
    "# 딕셔너리에 대해서 items()로 접근시 key,value 쌍으로 묶인 자료가 출력\n",
    "d1.items()\n",
    "for i in d1.items():\n",
    "    print(i)"
   ]
  },
  {
   "cell_type": "code",
   "execution_count": 27,
   "id": "1478e73e",
   "metadata": {},
   "outputs": [
    {
     "data": {
      "text/plain": [
       "('c', 3)"
      ]
     },
     "execution_count": 27,
     "metadata": {},
     "output_type": "execute_result"
    }
   ],
   "source": [
    "list_d1=list(d1.items())\n",
    "list_d1[2]"
   ]
  },
  {
   "cell_type": "code",
   "execution_count": 25,
   "id": "9b4b50ae",
   "metadata": {},
   "outputs": [
    {
     "name": "stdout",
     "output_type": "stream",
     "text": [
      "key: a value: 1\n",
      "key: b value: 2\n",
      "key: c value: 3\n"
     ]
    }
   ],
   "source": [
    "# 튜플을 대상으로 대입받을 때는 요소 개수만큼 좌변에 대입하면\n",
    "# 나눠서 대입되는 점을 이용한 테크닉\n",
    "for k,v in d1.items():\n",
    "    print('key:',k ,'value:',v)"
   ]
  },
  {
   "cell_type": "markdown",
   "id": "6c34ad30",
   "metadata": {},
   "source": [
    "## range 함수\n",
    " 지정된 시작값과 끝값 사이의 숫자들을 자동으로 생성하여 range 객체로 반환하는 함수\n",
    "- 문법 : range(시작하는 값, 끝나는 값, [간격])\n",
    "- 특징 : 슬라이싱과 유사하게 끝나는 값은 포함되지 않는다."
   ]
  },
  {
   "cell_type": "code",
   "execution_count": 28,
   "id": "e41c4f3e",
   "metadata": {},
   "outputs": [
    {
     "data": {
      "text/plain": [
       "range(1, 6)"
      ]
     },
     "execution_count": 28,
     "metadata": {},
     "output_type": "execute_result"
    }
   ],
   "source": [
    "# range()를 list()로 감싸야 변환됨. for문에서는 변환하지 않아도 사용가능\n",
    "range(1,6)"
   ]
  },
  {
   "cell_type": "code",
   "execution_count": 33,
   "id": "4495e0cc",
   "metadata": {},
   "outputs": [
    {
     "data": {
      "text/plain": [
       "[1, 2, 3, 4, 5]"
      ]
     },
     "execution_count": 33,
     "metadata": {},
     "output_type": "execute_result"
    }
   ],
   "source": [
    "list(range(1,6))"
   ]
  },
  {
   "cell_type": "code",
   "execution_count": 34,
   "id": "300fca5c",
   "metadata": {},
   "outputs": [
    {
     "name": "stdout",
     "output_type": "stream",
     "text": [
      "1\n",
      "2\n",
      "3\n",
      "4\n",
      "5\n"
     ]
    }
   ],
   "source": [
    "# 1~5까지 출력하기 위해 사용하는 range()함수의 예\n",
    "for i in range(1,6):\n",
    "    print(i)"
   ]
  },
  {
   "cell_type": "code",
   "execution_count": 37,
   "id": "adeeb741",
   "metadata": {},
   "outputs": [
    {
     "name": "stdout",
     "output_type": "stream",
     "text": [
      "0\n",
      "1\n",
      "2\n",
      "3\n",
      "4\n"
     ]
    }
   ],
   "source": [
    "# range()의 시작값이 0이라면 숫자를 하나만 넣음\n",
    "for i in range(5):\n",
    "    print(i)"
   ]
  },
  {
   "cell_type": "code",
   "execution_count": 38,
   "id": "343992e1",
   "metadata": {},
   "outputs": [
    {
     "name": "stdout",
     "output_type": "stream",
     "text": [
      "5\n",
      "4\n",
      "3\n",
      "2\n",
      "1\n"
     ]
    }
   ],
   "source": [
    "# 세 번째 숫자는 증가값이 아닌 증감값이므로 음수가 들어갈 수 있음\n",
    "# 이 경우 시작 숫자가 목표값보다 큰 숫자에서 시작해야함\n",
    "for i in range(5,0,-1): # 5부터 0 직전까지 -1 차감\n",
    "    print(i)"
   ]
  },
  {
   "cell_type": "markdown",
   "id": "8569c778",
   "metadata": {},
   "source": [
    "# 중첩 반복문\n",
    "\n",
    "- 반복문 내부에 반복문을 작성하는 것을 의미함\n",
    "\n",
    "- 반복 횟수는 안쪽 반복문 + 바깥쪽 반복문\n",
    "\n",
    "- 동작 이해가 어렵기 때문에 여러 번 연습해야함"
   ]
  },
  {
   "cell_type": "code",
   "execution_count": null,
   "id": "6ade96d5",
   "metadata": {},
   "outputs": [],
   "source": [
    "# 기존의 반복문\n",
    "for i in range(5): # i블럭\n",
    "        print('회원님 좌로가세요')\n",
    "        print('회원님 우로가세요')"
   ]
  },
  {
   "cell_type": "code",
   "execution_count": 48,
   "id": "0c216c0f",
   "metadata": {},
   "outputs": [
    {
     "name": "stdout",
     "output_type": "stream",
     "text": [
      "회원님 좌로가세요\n",
      "회원님 우로가세요\n",
      "회원님 좌로가세요\n",
      "회원님 우로가세요\n",
      "회원님 한 세트 끝났습니다^^\n",
      "회원님 좌로가세요\n",
      "회원님 우로가세요\n",
      "회원님 좌로가세요\n",
      "회원님 우로가세요\n",
      "회원님 한 세트 끝났습니다^^\n",
      "수고하셨습니다 회원님^^b\n"
     ]
    }
   ],
   "source": [
    "# 중첩 반복문 : j블럭을 1회 실행하면 아래로 내려가 i블럭이 range()수 만큼반복.\n",
    "# 끝나면 다시 j블럭으로 올라가서 1회 시작.... j블럭이 끝날때까지 반복\n",
    "for j in range(2): # j블럭 \n",
    "    for i in range(2): # i블럭 \n",
    "        print('회원님 좌로가세요')   \n",
    "        print('회원님 우로가세요')    \n",
    "    print('회원님 한 세트 끝났습니다^^')\n",
    "print('수고하셨습니다 회원님^^b')"
   ]
  },
  {
   "cell_type": "code",
   "execution_count": 54,
   "id": "8290c3d3",
   "metadata": {},
   "outputs": [
    {
     "name": "stdout",
     "output_type": "stream",
     "text": [
      "1\n",
      "2\n",
      "ab"
     ]
    }
   ],
   "source": [
    "# 파이썬의 print()는 기본적으로 실행되면 자동으로 줄바뀜이 일어남\n",
    "print(1)\n",
    "print(2)\n",
    "# 다음줄로 내리지 않기 위해서는 print() 뒤에 ,end=''(or\"\")를 추가함\n",
    "print('a',end='')\n",
    "print('b',end='')"
   ]
  },
  {
   "cell_type": "code",
   "execution_count": 55,
   "id": "937f5748",
   "metadata": {},
   "outputs": [
    {
     "name": "stdout",
     "output_type": "stream",
     "text": [
      "ab\n",
      "cd"
     ]
    }
   ],
   "source": [
    "# ,end='' 옵션으로 다음줄로 안 내려간 상태에서 다시 내리고 싶다면\n",
    "# print()를 한번 더 써줌\n",
    "print('a',end='')\n",
    "print('b',end='')\n",
    "print() # 커서를 다음줄로 내리라는 요청\n",
    "print('c',end='')\n",
    "print('d',end='')"
   ]
  },
  {
   "cell_type": "code",
   "execution_count": null,
   "id": "1c9942e9",
   "metadata": {},
   "outputs": [],
   "source": []
  }
 ],
 "metadata": {
  "kernelspec": {
   "display_name": "Python 3 (ipykernel)",
   "language": "python",
   "name": "python3"
  },
  "language_info": {
   "codemirror_mode": {
    "name": "ipython",
    "version": 3
   },
   "file_extension": ".py",
   "mimetype": "text/x-python",
   "name": "python",
   "nbconvert_exporter": "python",
   "pygments_lexer": "ipython3",
   "version": "3.9.12"
  }
 },
 "nbformat": 4,
 "nbformat_minor": 5
}
