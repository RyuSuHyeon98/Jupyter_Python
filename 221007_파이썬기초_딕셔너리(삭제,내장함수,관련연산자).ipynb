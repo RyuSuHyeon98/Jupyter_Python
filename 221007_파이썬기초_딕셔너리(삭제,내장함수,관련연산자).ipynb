{
 "cells": [
  {
   "cell_type": "markdown",
   "id": "39011830",
   "metadata": {},
   "source": [
    "# 221007 수업"
   ]
  },
  {
   "cell_type": "markdown",
   "id": "6029901f",
   "metadata": {},
   "source": [
    "# 4. 삭제하기\n",
    "\n",
    "- 하나의 아이템을 삭제하기\n",
    "\n",
    "- 모든 아이템 삭제하기 : 빈 딕셔너리만 남음"
   ]
  },
  {
   "cell_type": "code",
   "execution_count": 9,
   "id": "2e615f6d",
   "metadata": {},
   "outputs": [
    {
     "data": {
      "text/plain": [
       "{'a': 10, 'b': 10, 'c': 3, 'd': 4, 'e': 50, 'f': 100}"
      ]
     },
     "execution_count": 9,
     "metadata": {},
     "output_type": "execute_result"
    }
   ],
   "source": [
    "# 하나의 아이템 삭제하기 : del 키워드 + 딕셔너리 인덱싱\n",
    "# 단, .get()을 이용한 삭제는 불가능\n",
    "d2"
   ]
  },
  {
   "cell_type": "code",
   "execution_count": 10,
   "id": "470323a6",
   "metadata": {},
   "outputs": [
    {
     "data": {
      "text/plain": [
       "{'a': 10, 'b': 10, 'c': 3, 'e': 50, 'f': 100}"
      ]
     },
     "execution_count": 10,
     "metadata": {},
     "output_type": "execute_result"
    }
   ],
   "source": [
    "del d2['d'] # del d2.get('d') 로는 동작하지 않으므로 주의\n",
    "d2 # d key에 있던 value까지 삭제"
   ]
  },
  {
   "cell_type": "code",
   "execution_count": 11,
   "id": "6432d502",
   "metadata": {},
   "outputs": [
    {
     "data": {
      "text/plain": [
       "{}"
      ]
     },
     "execution_count": 11,
     "metadata": {},
     "output_type": "execute_result"
    }
   ],
   "source": [
    "# 딕셔너리 통째로 비우기 : 딕셔너리.clear()\n",
    "# del은 딕셔너리 자체를 파기(상자도 사라짐)하지만, .clear()는 빈 딕셔너리를 남김\n",
    "d2.clear()\n",
    "d2 "
   ]
  },
  {
   "cell_type": "code",
   "execution_count": 12,
   "id": "c8e68138",
   "metadata": {},
   "outputs": [
    {
     "data": {
      "text/plain": [
       "{'a': 10, 'b': 2, 'c': 3, 'd': 4, 'e': 10, 'z': 40, 'v': 100}"
      ]
     },
     "execution_count": 12,
     "metadata": {},
     "output_type": "execute_result"
    }
   ],
   "source": [
    "# 주의 : del 키워드로 변수 삭제시 통째로 자료가 낳아감(빈 딕셔너리도 없음)\n",
    "d1"
   ]
  },
  {
   "cell_type": "code",
   "execution_count": 13,
   "id": "79a061f8",
   "metadata": {},
   "outputs": [
    {
     "ename": "SyntaxError",
     "evalue": "invalid syntax (2994094668.py, line 1)",
     "output_type": "error",
     "traceback": [
      "\u001b[1;36m  Input \u001b[1;32mIn [13]\u001b[1;36m\u001b[0m\n\u001b[1;33m    del.d1\u001b[0m\n\u001b[1;37m       ^\u001b[0m\n\u001b[1;31mSyntaxError\u001b[0m\u001b[1;31m:\u001b[0m invalid syntax\n"
     ]
    }
   ],
   "source": [
    "del.d1\n",
    "d1"
   ]
  },
  {
   "cell_type": "markdown",
   "id": "ad23cb6c",
   "metadata": {},
   "source": [
    "# 5. 딕셔너리 내장함수 & 관련연산자\n",
    "\n",
    "- 딕셔너리타입.keys() <- 딕셔너리는 key중심이기 때문에 .keys를 많이 사용함\n",
    "\n",
    "- 딕셔너리타입.values()\n",
    "\n",
    "- 딕셔너리타입.items()\n",
    "\n",
    "- in 연산자"
   ]
  },
  {
   "cell_type": "code",
   "execution_count": 14,
   "id": "28680fa6",
   "metadata": {},
   "outputs": [
    {
     "data": {
      "text/plain": [
       "dict_keys(['name', 'age', 'job'])"
      ]
     },
     "execution_count": 14,
     "metadata": {},
     "output_type": "execute_result"
    }
   ],
   "source": [
    "# 딕셔너리가 가지고 있는 key만 리스트 형식으로 반환 : .keys()\n",
    "d1 = {'name':'홍길동', 'age':18, 'job':'학생'}\n",
    "d1.keys() # 유사 리스트임(리스트가 아님) "
   ]
  },
  {
   "cell_type": "code",
   "execution_count": 16,
   "id": "9989587f",
   "metadata": {},
   "outputs": [
    {
     "data": {
      "text/plain": [
       "['name', 'age', 'job']"
      ]
     },
     "execution_count": 16,
     "metadata": {},
     "output_type": "execute_result"
    }
   ],
   "source": [
    "# 리스트로 교환 가능(자료형 변환)\n",
    "list(d1.keys()) "
   ]
  },
  {
   "cell_type": "code",
   "execution_count": 17,
   "id": "6a7b88c7",
   "metadata": {},
   "outputs": [
    {
     "data": {
      "text/plain": [
       "dict_values(['홍길동', 18, '학생'])"
      ]
     },
     "execution_count": 17,
     "metadata": {},
     "output_type": "execute_result"
    }
   ],
   "source": [
    "# 딕셔너리가 가지고 있는 value만 리스트 형식으로 반환 : .values()\n",
    "d1.values() #마찬가지로 리스트는 아님"
   ]
  },
  {
   "cell_type": "code",
   "execution_count": 24,
   "id": "8ddc7b06",
   "metadata": {},
   "outputs": [
    {
     "data": {
      "text/plain": [
       "['홍길동', 18, '학생']"
      ]
     },
     "execution_count": 24,
     "metadata": {},
     "output_type": "execute_result"
    }
   ],
   "source": [
    "# 리스트로 교환 가능\n",
    "list(d1.values())"
   ]
  },
  {
   "cell_type": "code",
   "execution_count": 25,
   "id": "bd705fe1",
   "metadata": {},
   "outputs": [
    {
     "data": {
      "text/plain": [
       "dict_items([('name', '홍길동'), ('age', 18), ('job', '학생')])"
      ]
     },
     "execution_count": 25,
     "metadata": {},
     "output_type": "execute_result"
    }
   ],
   "source": [
    "# 딕셔너리가 가진 아이템(keys&values)을 튜플로 묶어 리스트 형식으로 반환 : .items()\n",
    "d1.items() #튜플로 반환"
   ]
  },
  {
   "cell_type": "code",
   "execution_count": 26,
   "id": "a88f2fea",
   "metadata": {},
   "outputs": [
    {
     "data": {
      "text/plain": [
       "[('name', '홍길동'), ('age', 18), ('job', '학생')]"
      ]
     },
     "execution_count": 26,
     "metadata": {},
     "output_type": "execute_result"
    }
   ],
   "source": [
    "# 리스트로 교환 가능\n",
    "list(d1.items())"
   ]
  },
  {
   "cell_type": "code",
   "execution_count": 27,
   "id": "d4722aa1",
   "metadata": {},
   "outputs": [
    {
     "data": {
      "text/plain": [
       "True"
      ]
     },
     "execution_count": 27,
     "metadata": {},
     "output_type": "execute_result"
    }
   ],
   "source": [
    "# in 키워드로 조회할 key값이 존재하는지 여부를 검사할 수 있음 : 키워드 in 연산자\n",
    "'name' in d1"
   ]
  },
  {
   "cell_type": "markdown",
   "id": "285d2c36",
   "metadata": {},
   "source": [
    "### << 연습문제 >>\n",
    "1. 아래와 같은 딕셔너리를 생성하고 해당 딕셔너리의 value 중 최소값을 구하여 형식에 맞게 출력하세요.\n",
    "         - 생성 딕셔너리 : {'A':9, 'B':80, 'C':70}\n",
    "         - 조건1. 생성한 딕셔너리에 \" 'D' : 20, 'E' : 100, 'F' : 10  \" 아이템 3개를 추가하세요.\n",
    "         - 조건2. key 'A'의 값을 9 에서 90 으로 변경하세요.\n",
    "         - 조건3. '최소 값 10을 가진 key는 F입니다.'로 포맷팅을 사용하여 출력하고 10을 포맷팅 값으로 사용하세요.\n",
    "         - 조건4. 최소 값은 딕셔너리에 속한 내장함수와 파이썬 내장함수를 모두 사용하여 구해보세요."
   ]
  },
  {
   "cell_type": "code",
   "execution_count": 54,
   "id": "1416b999",
   "metadata": {},
   "outputs": [
    {
     "data": {
      "text/plain": [
       "{'A': 9, 'B': 80, 'C': 70}"
      ]
     },
     "execution_count": 54,
     "metadata": {},
     "output_type": "execute_result"
    }
   ],
   "source": [
    "# 딕셔너리 생성\n",
    "d3 = {'A':9, 'B':80, 'C':70}\n",
    "d3"
   ]
  },
  {
   "cell_type": "code",
   "execution_count": 55,
   "id": "24f592ed",
   "metadata": {},
   "outputs": [
    {
     "data": {
      "text/plain": [
       "{'A': 9, 'B': 80, 'C': 70, 'D': 20, 'E': 100, 'F': 10}"
      ]
     },
     "execution_count": 55,
     "metadata": {},
     "output_type": "execute_result"
    }
   ],
   "source": [
    "# 조건1. 생성한 딕셔너리에 \" 'D' : 20, 'E' : 100, 'F' : 10  \" 아이템 3개를 추가하시오\n",
    "d3.update({'D' : 20, 'E' : 100, 'F' : 10})\n",
    "d3"
   ]
  },
  {
   "cell_type": "code",
   "execution_count": 56,
   "id": "51ba3aea",
   "metadata": {},
   "outputs": [
    {
     "data": {
      "text/plain": [
       "{'A': 90, 'B': 80, 'C': 70, 'D': 20, 'E': 100, 'F': 10}"
      ]
     },
     "execution_count": 56,
     "metadata": {},
     "output_type": "execute_result"
    }
   ],
   "source": [
    "# 조건2. key 'A'의 값을 9 에서 90 으로 변경하시오\n",
    "d3['A']=90\n",
    "d3"
   ]
  },
  {
   "cell_type": "code",
   "execution_count": 57,
   "id": "6221800c",
   "metadata": {},
   "outputs": [
    {
     "data": {
      "text/plain": [
       "'최소값 10를 가진 key는 F입니다.'"
      ]
     },
     "execution_count": 57,
     "metadata": {},
     "output_type": "execute_result"
    }
   ],
   "source": [
    "# 조건3. '최소 값 10을 가진 key는 F입니다.'로 포맷팅을 사용하여 출력하고 10을 포매팅 값으로 사용하시오\n",
    "# 10을 포매팅 값으로 사용(파이썬 문자시간에 배운 내용 - '%d(정수대입),%s(문자대입)' %(대입할 ['value']와 'key'))\n",
    "'최소값 %d를 가진 key는 %s입니다.' % (d3['F'],'F') \n",
    "# %뒤에 붙여진 코드가 d3['F' : 'F'] 가 아닌 d3['F']와 'F'로 따로 구분한 이유는\n",
    "# 해당 앞 딕셔너리는 key의 value값을 출력하기 위함이고, 뒤에 'F'는 문자이기에 구분한 것임 "
   ]
  },
  {
   "cell_type": "code",
   "execution_count": 58,
   "id": "68e1f8ee",
   "metadata": {},
   "outputs": [
    {
     "data": {
      "text/plain": [
       "10"
      ]
     },
     "execution_count": 58,
     "metadata": {},
     "output_type": "execute_result"
    }
   ],
   "source": [
    "# 조건4. 최소 값은 딕셔너리에 속한 내장함수와 파이썬 내장함수를 모두 사용하여 구하시오\n",
    "min(d3.values()) #최소값 : min(리스트)"
   ]
  },
  {
   "cell_type": "code",
   "execution_count": null,
   "id": "c3eace6b",
   "metadata": {},
   "outputs": [],
   "source": []
  }
 ],
 "metadata": {
  "kernelspec": {
   "display_name": "Python 3 (ipykernel)",
   "language": "python",
   "name": "python3"
  },
  "language_info": {
   "codemirror_mode": {
    "name": "ipython",
    "version": 3
   },
   "file_extension": ".py",
   "mimetype": "text/x-python",
   "name": "python",
   "nbconvert_exporter": "python",
   "pygments_lexer": "ipython3",
   "version": "3.9.12"
  }
 },
 "nbformat": 4,
 "nbformat_minor": 5
}
