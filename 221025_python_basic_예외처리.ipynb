{
 "cells": [
  {
   "cell_type": "markdown",
   "id": "3530c820",
   "metadata": {},
   "source": [
    "# 에러와 예외\n",
    "\n",
    "### 에러는 물리적인 이유로 발생하는(인터넷 안 잡고 접속하기 등등) 것\n",
    "\n",
    "### 예외는 논리적인 이유로 발생하는 것\n",
    "\n",
    "예외가 발생하면 코드가 그 즉시 정지되어 다음 로직으로 진행할 수 없음\n",
    "\n",
    "그러나 크롤링 등을 하다보면 종종 모종의 이유로 특정 단계에서 발생한 예외를 무시하고 \n",
    "\n",
    "다음 단계로 넘어가야 할 수 있기 때문에 이에 대해 사용하는 `try ~except` 구문이 필요"
   ]
  },
  {
   "cell_type": "code",
   "execution_count": 9,
   "id": "66c9f499",
   "metadata": {},
   "outputs": [
    {
     "ename": "TypeError",
     "evalue": "unsupported operand type(s) for +: 'int' and 'str'",
     "output_type": "error",
     "traceback": [
      "\u001b[1;31m---------------------------------------------------------------------------\u001b[0m",
      "\u001b[1;31mTypeError\u001b[0m                                 Traceback (most recent call last)",
      "Input \u001b[1;32mIn [9]\u001b[0m, in \u001b[0;36m<cell line: 2>\u001b[1;34m()\u001b[0m\n\u001b[0;32m      1\u001b[0m \u001b[38;5;66;03m# Error 상황(문법이 틀렸거나 틀린 구문 사용)\u001b[39;00m\n\u001b[1;32m----> 2\u001b[0m \u001b[38;5;28mprint\u001b[39m(\u001b[38;5;241;43m1\u001b[39;49m\u001b[38;5;241;43m+\u001b[39;49m\u001b[38;5;124;43m'\u001b[39;49m\u001b[38;5;124;43m가나다\u001b[39;49m\u001b[38;5;124;43m'\u001b[39;49m)\n",
      "\u001b[1;31mTypeError\u001b[0m: unsupported operand type(s) for +: 'int' and 'str'"
     ]
    }
   ],
   "source": [
    "# Error 상황(문법이 틀렸거나 틀린 구문 사용)\n",
    "print(1+'가나다')"
   ]
  },
  {
   "cell_type": "code",
   "execution_count": 10,
   "id": "c3b5181a",
   "metadata": {},
   "outputs": [
    {
     "ename": "ZeroDivisionError",
     "evalue": "division by zero",
     "output_type": "error",
     "traceback": [
      "\u001b[1;31m---------------------------------------------------------------------------\u001b[0m",
      "\u001b[1;31mZeroDivisionError\u001b[0m                         Traceback (most recent call last)",
      "Input \u001b[1;32mIn [10]\u001b[0m, in \u001b[0;36m<cell line: 2>\u001b[1;34m()\u001b[0m\n\u001b[0;32m      1\u001b[0m \u001b[38;5;66;03m# 예외 상황 : 문법도 맞고 논리적으로도 맞미만 연산이 불가능한 경우\u001b[39;00m\n\u001b[1;32m----> 2\u001b[0m \u001b[38;5;241;43m2\u001b[39;49m\u001b[38;5;241;43m/\u001b[39;49m\u001b[38;5;241;43m0\u001b[39;49m\n",
      "\u001b[1;31mZeroDivisionError\u001b[0m: division by zero"
     ]
    }
   ],
   "source": [
    "# 예외 상황 : 문법도 맞고 논리적으로도 맞미만 연산이 불가능한 경우\n",
    "2 / 0 "
   ]
  },
  {
   "cell_type": "code",
   "execution_count": 27,
   "id": "82112352",
   "metadata": {},
   "outputs": [
    {
     "name": "stdout",
     "output_type": "stream",
     "text": [
      "나눗셈에 사용할 분자를 입력해주세요10\n",
      "나눗셈에 사용할 분모를 입력해주세요0\n",
      "0으로 나눌 수 없습니다\n",
      "연산이 완전히 끝났습니다.\n"
     ]
    }
   ],
   "source": [
    "# 예외 상황에 대한 처리1 : if문을 통한 검사\n",
    "a = int(input('나눗셈에 사용할 분자를 입력해주세요'))\n",
    "b = int(input('나눗셈에 사용할 분모를 입력해주세요'))\n",
    "# 위 숫자를 검사하여 셈이 가능하면\n",
    "# 나눈 결과값을 콘솔에 띄우고\n",
    "if b!=0:\n",
    "    print(a/b)\n",
    "else:\n",
    "    print('0으로 나눌 수 없습니다')\n",
    "# 위 숫자를 검사해서 나눗셈이 불가능할 경우\n",
    "# print('0으로 나눌 수 없습니다') 가 나오도록 아래 print(a/b) 를 고쳐주시오\n",
    "# print()\n",
    "print('연산이 완전히 끝났습니다.')"
   ]
  },
  {
   "cell_type": "code",
   "execution_count": 31,
   "id": "37e4e52a",
   "metadata": {},
   "outputs": [
    {
     "name": "stdout",
     "output_type": "stream",
     "text": [
      "나눗셈에 사용할 분자를 입력해주세요ㄱ\n",
      "0이나 숫자가 아닌 것을 넣으면 안 됩니다.\n",
      "연산이 완전히 끝났습니다.\n"
     ]
    }
   ],
   "source": [
    "# try ~ except\n",
    "# try에는 예외가 발생할지도 모르는 구문을 넣음\n",
    "# except 에는 예외가 발생해서 구문이 멈췄을 때 이어서 실행할 내용을 적음\n",
    "\n",
    "try:\n",
    "    a = int(input('나눗셈에 사용할 분자를 입력해주세요'))\n",
    "    b = int(input('나눗셈에 사용할 분모를 입력해주세요'))\n",
    "    print(a/b)\n",
    "except:\n",
    "    print(\"0이나 숫자가 아닌 것을 넣으면 안 됩니다.\")\n",
    "print('연산이 완전히 끝났습니다.')"
   ]
  },
  {
   "cell_type": "code",
   "execution_count": null,
   "id": "5572c491",
   "metadata": {},
   "outputs": [],
   "source": []
  },
  {
   "cell_type": "code",
   "execution_count": null,
   "id": "421186a0",
   "metadata": {},
   "outputs": [],
   "source": []
  },
  {
   "cell_type": "code",
   "execution_count": null,
   "id": "4ac2a868",
   "metadata": {},
   "outputs": [],
   "source": []
  },
  {
   "cell_type": "code",
   "execution_count": null,
   "id": "0fcaa787",
   "metadata": {},
   "outputs": [],
   "source": []
  }
 ],
 "metadata": {
  "kernelspec": {
   "display_name": "Python 3 (ipykernel)",
   "language": "python",
   "name": "python3"
  },
  "language_info": {
   "codemirror_mode": {
    "name": "ipython",
    "version": 3
   },
   "file_extension": ".py",
   "mimetype": "text/x-python",
   "name": "python",
   "nbconvert_exporter": "python",
   "pygments_lexer": "ipython3",
   "version": "3.9.12"
  }
 },
 "nbformat": 4,
 "nbformat_minor": 5
}
