{
 "cells": [
  {
   "cell_type": "markdown",
   "id": "4f0c740c",
   "metadata": {},
   "source": [
    "# 자료형\n",
    "\n",
    "여러 개의 아이템들을 저장하는 객체 = 여러 개의 값(데이터타입)을 저장하는 그릇\n",
    "\n",
    "## 1. 리스트(List)\n",
    "\n",
    "- 문법 기호 : [아이템1, 아이템2, 아이템3 .... ]\n",
    "- 용어 : 아이템 = 요소\n",
    "- 아이템으로 가질 수 있는 데이터 타입 : 문자, 숫자, 리스트, 딕셔너리 ...\n",
    "- 종류\n",
    "  * 아이템이 없는 리스트\n",
    "  * 1차원 리스트\n",
    "  * 다차원 리스트\n",
    "- 특징\n",
    "  * 인덱스 활용\n",
    "\n",
    "* 다차원 리스트의 구조에 대한 이해"
   ]
  },
  {
   "cell_type": "markdown",
   "id": "b852a28c",
   "metadata": {},
   "source": [
    "# 1. 생성하기"
   ]
  },
  {
   "cell_type": "code",
   "execution_count": 1,
   "id": "c5c6530b",
   "metadata": {},
   "outputs": [
    {
     "name": "stdout",
     "output_type": "stream",
     "text": [
      "<class 'list'> <class 'list'>\n",
      "[] []\n"
     ]
    }
   ],
   "source": [
    "# 빈 리스드 생성하기 = 아이템이 없는 리스트\n",
    "# 문법 기호 : []\n",
    "# 함수 : list()\n",
    "a = []\n",
    "a2 = list()\n",
    "print(type(a),type(a2))\n",
    "print(a,a2)"
   ]
  },
  {
   "cell_type": "code",
   "execution_count": 14,
   "id": "f65e69a6",
   "metadata": {},
   "outputs": [
    {
     "data": {
      "text/plain": [
       "['a', 10, 1.1, [1, 23, 1, 'a']]"
      ]
     },
     "execution_count": 14,
     "metadata": {},
     "output_type": "execute_result"
    }
   ],
   "source": [
    "# 모든 데이터타입을 아이템으로 가질 수 있다.\n",
    "a3 = ['a', 10, 1.1, [1,23,1,'a']]\n",
    "a3"
   ]
  },
  {
   "cell_type": "code",
   "execution_count": 11,
   "id": "024c4e7c",
   "metadata": {},
   "outputs": [
    {
     "data": {
      "text/plain": [
       "[1, 23, 1, 'a']"
      ]
     },
     "execution_count": 11,
     "metadata": {},
     "output_type": "execute_result"
    }
   ],
   "source": [
    "# list는 하나의 문자열로 지정 \n",
    "# [1,23,1,'a'] 는 하나의 문자열임`\n",
    "a3[3]"
   ]
  },
  {
   "cell_type": "code",
   "execution_count": 12,
   "id": "bc6d98d8",
   "metadata": {},
   "outputs": [
    {
     "data": {
      "text/plain": [
       "'a'"
      ]
     },
     "execution_count": 12,
     "metadata": {},
     "output_type": "execute_result"
    }
   ],
   "source": [
    "# 때문에 두 번의 과정을 거쳐야함\n",
    "a3[3][3]"
   ]
  },
  {
   "cell_type": "code",
   "execution_count": null,
   "id": "87bf41f3",
   "metadata": {},
   "outputs": [],
   "source": [
    "# 2차원 데이터는 마치 좌표처럼 데이터를 지목해 출력가능\n",
    "# a3를 x축과 y축으로 보면\n",
    "#       y축\n",
    "#      ['a']['']['']['']\n",
    "#      [10] ['']['']['']\n",
    "#      [1.1]['']['']['']\n",
    "# x축  [1] [23][1] ['a']"
   ]
  },
  {
   "cell_type": "markdown",
   "id": "95cc8d08",
   "metadata": {},
   "source": [
    "## 2. 인덱싱, 슬라이싱\n",
    "리스트를 인덱스 번호로 접근하면 해당하는 위치의 값(아이템)을 가져옴\n",
    "\n",
    "* 복습\n",
    "    - 첫 번째 인덱스 번호는? : 0번 인덱스\n",
    "    - 마지막 인덱스 번호는? : -1"
   ]
  },
  {
   "cell_type": "markdown",
   "id": "3fd03530",
   "metadata": {},
   "source": [
    "### 인덱싱\n",
    "특정 위치에 있는 하나의 아이템에 접근함 = 하나의 값을 출력함"
   ]
  },
  {
   "cell_type": "code",
   "execution_count": 15,
   "id": "e3a39158",
   "metadata": {},
   "outputs": [],
   "source": [
    "# 리스트 생성하기\n",
    "a = [1,2,3,4,5,6,7,8,9]"
   ]
  },
  {
   "cell_type": "code",
   "execution_count": 16,
   "id": "1b4cb174",
   "metadata": {},
   "outputs": [
    {
     "data": {
      "text/plain": [
       "1"
      ]
     },
     "execution_count": 16,
     "metadata": {},
     "output_type": "execute_result"
    }
   ],
   "source": [
    "# 첫 번째 아이템 인덱스 번호 : 0\n",
    "# 인덱싱 문법 : 객체[인덱스번호]\n",
    "a[0]"
   ]
  },
  {
   "cell_type": "code",
   "execution_count": 17,
   "id": "bc1165c6",
   "metadata": {},
   "outputs": [
    {
     "data": {
      "text/plain": [
       "6"
      ]
     },
     "execution_count": 17,
     "metadata": {},
     "output_type": "execute_result"
    }
   ],
   "source": [
    "# 리스트에서 6이라는 아이템 가져오기\n",
    "a[5]"
   ]
  },
  {
   "cell_type": "code",
   "execution_count": 22,
   "id": "4c20b5f1",
   "metadata": {},
   "outputs": [
    {
     "data": {
      "text/plain": [
       "9"
      ]
     },
     "execution_count": 22,
     "metadata": {},
     "output_type": "execute_result"
    }
   ],
   "source": [
    "# 리스트의 마지막 값 구하기\n",
    "a[-1]\n",
    "a[8]\n",
    "a[len(a)-1]"
   ]
  },
  {
   "cell_type": "markdown",
   "id": "e14706f8",
   "metadata": {},
   "source": [
    "### 슬라이싱\n",
    "\n",
    "- 정의 복습 : 연속된 범위에 있는 하나 혹은 하나 이상의 여러 개 아이템에 접근함\n",
    "- 문법 기호 : 리스트[시작번호:끝번호(:간격)] => 마지막번호 -1개까지만 접근"
   ]
  },
  {
   "cell_type": "code",
   "execution_count": 25,
   "id": "da53c588",
   "metadata": {},
   "outputs": [
    {
     "data": {
      "text/plain": [
       "[1, 2, 3]"
      ]
     },
     "execution_count": 25,
     "metadata": {},
     "output_type": "execute_result"
    }
   ],
   "source": [
    "# 리스트의 0-2번쨰 아이템가지 확인하기\n",
    "# 시작번호 : 0\n",
    "# 끝번호 : 3\n",
    "a[0:3]\n",
    "a[:3]"
   ]
  },
  {
   "cell_type": "code",
   "execution_count": 33,
   "id": "72982a0a",
   "metadata": {},
   "outputs": [
    {
     "data": {
      "text/plain": [
       "[4, 5, 6, 7, 8, 9]"
      ]
     },
     "execution_count": 33,
     "metadata": {},
     "output_type": "execute_result"
    }
   ],
   "source": [
    "# 리스트의 3번째 아이템부터 마지막 아이템까지 확인하기\n",
    "a[3:]\n",
    "a[3:10]"
   ]
  },
  {
   "cell_type": "markdown",
   "id": "f3af0a62",
   "metadata": {},
   "source": [
    "### 3. 아이템 추가하기 : 연산자와 함수를 이용한 리스트 아이템 추가 \n",
    "\n",
    "1) 산술연산자 : +,*\n",
    "\n",
    "2) 리스트의 함수(메서드) : 리스트.append(), 리스트.extend(), 리스트.insert()"
   ]
  },
  {
   "cell_type": "markdown",
   "id": "0d0c8b2e",
   "metadata": {},
   "source": [
    "### 3-1) 산술연산자\n",
    "\n",
    "    - 종류 : +, *\n",
    "    - 특징: 원본에 반영되지 않음(시뮬레이션)"
   ]
  },
  {
   "cell_type": "code",
   "execution_count": 34,
   "id": "ccef9d75",
   "metadata": {},
   "outputs": [
    {
     "data": {
      "text/plain": [
       "[1, 2, 3, 4, 5, 6]"
      ]
     },
     "execution_count": 34,
     "metadata": {},
     "output_type": "execute_result"
    }
   ],
   "source": [
    "# 리스트끼리 연결 : +\n",
    "a = [1,2,3]\n",
    "b = [4,5,6]\n",
    "a+b"
   ]
  },
  {
   "cell_type": "code",
   "execution_count": 35,
   "id": "3df80fac",
   "metadata": {},
   "outputs": [
    {
     "name": "stdout",
     "output_type": "stream",
     "text": [
      "[1, 2, 3] [4, 5, 6]\n"
     ]
    }
   ],
   "source": [
    "print(a,b)"
   ]
  },
  {
   "cell_type": "code",
   "execution_count": 36,
   "id": "08a5d7c5",
   "metadata": {},
   "outputs": [
    {
     "data": {
      "text/plain": [
       "[1, 2, 3, 1, 2, 3, 1, 2, 3]"
      ]
     },
     "execution_count": 36,
     "metadata": {},
     "output_type": "execute_result"
    }
   ],
   "source": [
    "# 리스트를 곱함 : *\n",
    "a * 3 # a + a + a"
   ]
  },
  {
   "cell_type": "code",
   "execution_count": 37,
   "id": "599ee7e7",
   "metadata": {},
   "outputs": [
    {
     "data": {
      "text/plain": [
       "[1, 2, 3]"
      ]
     },
     "execution_count": 37,
     "metadata": {},
     "output_type": "execute_result"
    }
   ],
   "source": [
    "a"
   ]
  },
  {
   "cell_type": "markdown",
   "id": "bc7bb8ea",
   "metadata": {},
   "source": [
    "# 221006 "
   ]
  },
  {
   "cell_type": "markdown",
   "id": "0fff5bc9",
   "metadata": {},
   "source": [
    "### 4. 리스트 타입의 함수 (method)\n",
    "\n",
    "* 종류\n",
    "    - 리스트.append(추가할 아이템) : 인자값을 통채로 리스트의 마지막 아이템으로 추가, 인자값은 1개만 받음 = 1개의 아이템만 추가 가능\n",
    "    - 리스트.extend(추가할 아이템) : 인자값의 아이템을 뽑아서 리스트의 마지막 아이템으로 추가, 인자값은 1개만 받음, 단 여러 개의 아이템 추가 가능\n",
    "    - 리스트.insert(인덱스번호, 추가할 아이템) : 위치를 지정해서 아이템을 삽입할 수 있음, 통채로 아이템을 추가\n",
    "    - 특징 : 원본에 바로 적용이 됨\n",
    "\n",
    "* 참고 연산자 : in 연산자 (결과값은 bool type)"
   ]
  },
  {
   "cell_type": "code",
   "execution_count": 50,
   "id": "6b0de6e3",
   "metadata": {},
   "outputs": [
    {
     "data": {
      "text/plain": [
       "[1, 2, 3]"
      ]
     },
     "execution_count": 50,
     "metadata": {},
     "output_type": "execute_result"
    }
   ],
   "source": [
    "# 리스트 생성하기\n",
    "a = [1, 2, 3]\n",
    "a"
   ]
  },
  {
   "cell_type": "code",
   "execution_count": 51,
   "id": "b44442f7",
   "metadata": {},
   "outputs": [
    {
     "data": {
      "text/plain": [
       "[1, 2, 3, 4, [5, 6]]"
      ]
     },
     "execution_count": 51,
     "metadata": {},
     "output_type": "execute_result"
    }
   ],
   "source": [
    "#.append()\n",
    "# 문법 : 리스트 .append(추가할 아이템)\n",
    "# 추가할 자료에 list[]를 추가하면 []가 인자값에 포함됨\n",
    "a.append(4)\n",
    "a.append([5,6])\n",
    "a"
   ]
  },
  {
   "cell_type": "code",
   "execution_count": 52,
   "id": "f5b989ef",
   "metadata": {},
   "outputs": [
    {
     "data": {
      "text/plain": [
       "6"
      ]
     },
     "execution_count": 52,
     "metadata": {},
     "output_type": "execute_result"
    }
   ],
   "source": [
    "# 복습 - 현재 a는 2차원으로 해석\n",
    "a[4][1]"
   ]
  },
  {
   "cell_type": "code",
   "execution_count": 53,
   "id": "44e89b2c",
   "metadata": {},
   "outputs": [
    {
     "data": {
      "text/plain": [
       "[1, 2, 3, 4, [5, 6], 7, 8, 9]"
      ]
     },
     "execution_count": 53,
     "metadata": {},
     "output_type": "execute_result"
    }
   ],
   "source": [
    "# .extend()\n",
    "# 문법 : 대상리스트.extend([리스트만 입력가능])\n",
    "# .append()와 차이점 : 추가 대상은 리스트만 받을 수 있음\n",
    "# 리스트 길이만큼 인덱스가 연장됨\n",
    "# a + [7, 8, 9] 와 같다고 볼 수 있음\n",
    "a.extend([7, 8, 9])\n",
    "a"
   ]
  },
  {
   "cell_type": "code",
   "execution_count": 54,
   "id": "e4eb2bb2",
   "metadata": {},
   "outputs": [
    {
     "data": {
      "text/plain": [
       "[1, 2, 3, 4, [5, 6], 7, 8, 9, 10]"
      ]
     },
     "execution_count": 54,
     "metadata": {},
     "output_type": "execute_result"
    }
   ],
   "source": [
    "# extend()는 설령 하나의 인덱스만 연장해도 무조건 리스트로 추가해야함\n",
    "a.extend([10])\n",
    "a"
   ]
  },
  {
   "cell_type": "code",
   "execution_count": 55,
   "id": "2c490176",
   "metadata": {},
   "outputs": [
    {
     "data": {
      "text/plain": [
       "[100, 1, 2, 3, 4, [5, 6], 7, 8, 9, 10]"
      ]
     },
     "execution_count": 55,
     "metadata": {},
     "output_type": "execute_result"
    }
   ],
   "source": [
    "# .insert()\n",
    "# 문법 : 대상리스트.insert(인덱스번호, 추가할아이템)\n",
    "# 다른 함수와 차이점 : 아이템 추가가 지정인덱스에 실행됨\n",
    "# append()와의 유사점 : 하나의 인덱스번호에 모든 자료를 넣음\n",
    "# 교체가 아닌 추가이기 때문에 실제로 소실되는 자료는 없음\n",
    "a.insert(0, 100)\n",
    "a"
   ]
  },
  {
   "cell_type": "code",
   "execution_count": 56,
   "id": "0230cc8a",
   "metadata": {},
   "outputs": [
    {
     "data": {
      "text/plain": [
       "[[98, 99], 100, 1, 2, 3, 4, [5, 6], 7, 8, 9, 10]"
      ]
     },
     "execution_count": 56,
     "metadata": {},
     "output_type": "execute_result"
    }
   ],
   "source": [
    "#.insert()도 마찬가지로 list[]를 인덱스에 넣을 수 있음\n",
    "a.insert(0,[98,99])\n",
    "a"
   ]
  },
  {
   "cell_type": "code",
   "execution_count": 59,
   "id": "3c7c8490",
   "metadata": {},
   "outputs": [
    {
     "data": {
      "text/plain": [
       "True"
      ]
     },
     "execution_count": 59,
     "metadata": {},
     "output_type": "execute_result"
    }
   ],
   "source": [
    "# in 키워드는 특정 요소가 리스트 내에 있는지 없는지 여부를 물어봄\n",
    "# 값 in 리스트\n",
    "# 100이 a리스트 내에 존재하는가? => 100 in a\n",
    "100 in a"
   ]
  },
  {
   "cell_type": "code",
   "execution_count": 60,
   "id": "0a4bf0d6",
   "metadata": {},
   "outputs": [
    {
     "data": {
      "text/plain": [
       "True"
      ]
     },
     "execution_count": 60,
     "metadata": {},
     "output_type": "execute_result"
    }
   ],
   "source": [
    "# 5 in a -> False\n",
    "# 5라는 수를 알려면 해당 인덱스번호에 있는지 여부를 물어봐야 함\n",
    "5 in a[6]"
   ]
  },
  {
   "cell_type": "code",
   "execution_count": 62,
   "id": "a6b62cca",
   "metadata": {},
   "outputs": [
    {
     "data": {
      "text/plain": [
       "True"
      ]
     },
     "execution_count": 62,
     "metadata": {},
     "output_type": "execute_result"
    }
   ],
   "source": [
    "# not in 키워드는 특정 요소가 리스트 내부에 없는지 여부를 물어봄\n",
    "# 값 not in 리스트\n",
    "# 50이 a 리스트에 없는가? => 50 not in a\n",
    "50 not in a"
   ]
  },
  {
   "cell_type": "code",
   "execution_count": 64,
   "id": "26fce2de",
   "metadata": {},
   "outputs": [
    {
     "data": {
      "text/plain": [
       "False"
      ]
     },
     "execution_count": 64,
     "metadata": {},
     "output_type": "execute_result"
    }
   ],
   "source": [
    "# 리스트 안에 들어있는 수는 있기에 False 라고 답함\n",
    "10 not in a"
   ]
  },
  {
   "cell_type": "markdown",
   "id": "8fdfdf8e",
   "metadata": {},
   "source": [
    "### << 연습문제 >>\n",
    "아래의 순서에 맞추어 직접 실행해보세요.\n",
    "1) 빈 리스트 생성\n",
    "\n",
    "2) 1번 리스트에 숫자 1,2,3 을 아이템으로 추가\n",
    "\n",
    "3) 2번 리스트의 2번째(사람 기준3번째) 위치에 문자 100 을 아이템으로 추가\n",
    "\n",
    "4) 3번 리스트의 마지막에 문자 A, B를 아이템으로 가진 리스트를 아이템으로 추가\n",
    "\n",
    "5) 4번 리스트의 아이템을 2번 반복해서 가지는 리스트를 출력"
   ]
  },
  {
   "cell_type": "code",
   "execution_count": 83,
   "id": "d2c7961f",
   "metadata": {},
   "outputs": [],
   "source": [
    "# 빈 리스트 생성\n",
    "# list1 = list() 같은개념이자 연습하면 좋음\n",
    "list1 = []"
   ]
  },
  {
   "cell_type": "code",
   "execution_count": 84,
   "id": "35943354",
   "metadata": {},
   "outputs": [
    {
     "data": {
      "text/plain": [
       "[1, 2, 3]"
      ]
     },
     "execution_count": 84,
     "metadata": {},
     "output_type": "execute_result"
    }
   ],
   "source": [
    "# 1번 리스트에 숫자 1,2,3 을 아이템으로 추가\n",
    "# list.append(1)\n",
    "# list.append(2)\n",
    "# list.append(3) =\n",
    "list1.extend([1,2,3])\n",
    "list1"
   ]
  },
  {
   "cell_type": "code",
   "execution_count": 85,
   "id": "4e30de09",
   "metadata": {},
   "outputs": [
    {
     "data": {
      "text/plain": [
       "[1, 2, 100, 3]"
      ]
     },
     "execution_count": 85,
     "metadata": {},
     "output_type": "execute_result"
    }
   ],
   "source": [
    "# 2번 리스트의 3번째 위치에 문자 100 을 아이템으로 추가\n",
    "list1.insert(2,100)\n",
    "list1"
   ]
  },
  {
   "cell_type": "code",
   "execution_count": 86,
   "id": "b545fd21",
   "metadata": {},
   "outputs": [
    {
     "data": {
      "text/plain": [
       "[1, 2, 100, 3, ['A', 'B']]"
      ]
     },
     "execution_count": 86,
     "metadata": {},
     "output_type": "execute_result"
    }
   ],
   "source": [
    "# 3번 리스트의 마지막에 문자 A, B를 아이템으로 가진 리스트를 아이템으로 추가\n",
    "list1.append(['A','B'])\n",
    "list1"
   ]
  },
  {
   "cell_type": "code",
   "execution_count": 87,
   "id": "1a32814a",
   "metadata": {},
   "outputs": [
    {
     "data": {
      "text/plain": [
       "[1, 2, 100, 3, ['A', 'B'], 1, 2, 100, 3, ['A', 'B']]"
      ]
     },
     "execution_count": 87,
     "metadata": {},
     "output_type": "execute_result"
    }
   ],
   "source": [
    "# 4번 리스트의 아이템을 2번 반복해서 가지는 리스트를 출력\n",
    "# list1 * 2 \n",
    "list1.extend(list1)\n",
    "list1"
   ]
  },
  {
   "cell_type": "markdown",
   "id": "437f2c0d",
   "metadata": {},
   "source": [
    "# 아이템 수정하기\n",
    "\n",
    "- 인덱싱, 슬라이싱을 이용해서 아이템을 수정할 수 있음"
   ]
  },
  {
   "cell_type": "code",
   "execution_count": 89,
   "id": "d88579da",
   "metadata": {},
   "outputs": [],
   "source": [
    "# 리스트 생성하기\n",
    "a = [1, 2, 3, 4]"
   ]
  },
  {
   "cell_type": "code",
   "execution_count": 90,
   "id": "7648781f",
   "metadata": {},
   "outputs": [
    {
     "data": {
      "text/plain": [
       "[[10, 20], 2, 3, 4]"
      ]
     },
     "execution_count": 90,
     "metadata": {},
     "output_type": "execute_result"
    }
   ],
   "source": [
    "# 하나의 아이템 수정하기\n",
    "# 0번 인덱스에 있는 값을 [10,20]으로 수정하기\n",
    "# 결과 : [[10, 20], 2, 3, 4]\n",
    "a[0] = [10, 20]\n",
    "a"
   ]
  },
  {
   "cell_type": "code",
   "execution_count": 91,
   "id": "19a0f41b",
   "metadata": {},
   "outputs": [
    {
     "data": {
      "text/plain": [
       "[10, 20, 2, 3, 4]"
      ]
     },
     "execution_count": 91,
     "metadata": {},
     "output_type": "execute_result"
    }
   ],
   "source": [
    "# 연속된 범위에 있는 여러 개의 아이템 수정하기\n",
    "# 0번 인덱스만 선택 <= 슬라이싱\n",
    "# 인덱스 안에 새로운 리스트를 생성하는 것이 아닌 연속된 아이템이 생성됨\n",
    "a2 = [1, 2, 3, 4]\n",
    "a2[:1] = [10, 20]\n",
    "a2"
   ]
  },
  {
   "cell_type": "code",
   "execution_count": 94,
   "id": "1cb97e21",
   "metadata": {},
   "outputs": [
    {
     "data": {
      "text/plain": [
       "[100, 20, 2, 3, 4]"
      ]
     },
     "execution_count": 94,
     "metadata": {},
     "output_type": "execute_result"
    }
   ],
   "source": [
    "# 슬라이싱으로 값을 할당할 때의 주의점 : 전달하는 값은 1개여도 \n",
    "# 리스트로 동작원리가 .extend()와 동일하기 때문에 []로 넣어야 함\n",
    "a2[0:1] = [100]\n",
    "a2"
   ]
  },
  {
   "cell_type": "markdown",
   "id": "26bebca8",
   "metadata": {},
   "source": [
    "### << 연습문제 >>\n",
    "아래 조건에 맞추어 리스트를 수정하세요.\n",
    "\n",
    "[ 10, 99, 3, '사과', 73, '바나나' ]\n",
    "\n",
    "조건1)  '사과'를 'apple'로 수정\n",
    "\n",
    "조건2)  99, 3 을 9, 33으로 수정\n",
    "\n",
    "조건3)  73 을 [ 73, 74 ] 로 수정"
   ]
  },
  {
   "cell_type": "code",
   "execution_count": 138,
   "id": "eaa1bfa3",
   "metadata": {},
   "outputs": [],
   "source": [
    "list1 = [ 10, 99, 3, '사과', 73, '바나나' ]"
   ]
  },
  {
   "cell_type": "code",
   "execution_count": 139,
   "id": "ddb635fd",
   "metadata": {},
   "outputs": [
    {
     "data": {
      "text/plain": [
       "[10, 99, 3, 'apple', '사과', 73, '바나나']"
      ]
     },
     "execution_count": 139,
     "metadata": {},
     "output_type": "execute_result"
    }
   ],
   "source": [
    "#조건1) '사과'를 'apple'로 수정\n",
    "# list1[3] = 'apple'\n",
    "list1[3:3] = ['apple']\n",
    "list1"
   ]
  },
  {
   "cell_type": "code",
   "execution_count": 140,
   "id": "8e474dd2",
   "metadata": {},
   "outputs": [
    {
     "data": {
      "text/plain": [
       "[10, 9, 33, 'apple', '사과', 73, '바나나']"
      ]
     },
     "execution_count": 140,
     "metadata": {},
     "output_type": "execute_result"
    }
   ],
   "source": [
    "# 조건2) 99, 3 을 9, 33으로 수정\n",
    "list1[1:3] = [9, 33]\n",
    "list1"
   ]
  },
  {
   "cell_type": "code",
   "execution_count": 141,
   "id": "3697f533",
   "metadata": {},
   "outputs": [
    {
     "data": {
      "text/plain": [
       "[10, 9, 33, 'apple', '사과', [73, 74], '바나나']"
      ]
     },
     "execution_count": 141,
     "metadata": {},
     "output_type": "execute_result"
    }
   ],
   "source": [
    "# 조건3) 73 을 [ 73, 74 ] 로 수정\n",
    "list1[5] = [73, 74]\n",
    "list1"
   ]
  },
  {
   "cell_type": "markdown",
   "id": "d3f20c1e",
   "metadata": {},
   "source": [
    "# 6. 아이템 삭제하기\n",
    "\n",
    "* 슬라이싱\n",
    "\n",
    "* del 키워드 + 인덱싱/슬라이싱\n",
    "\n",
    "* remove() 매서드 : 값을 기준으로 삭제\n",
    "\n",
    "* pop() \n",
    "    - 인지값에 아무것도 입력하지 않거나 -1을 입력하면 마지막 인덱스를 삭제\n",
    "    - 특정 인덱스를 지정해 삭제할 수도 있음"
   ]
  },
  {
   "cell_type": "code",
   "execution_count": 142,
   "id": "7692b501",
   "metadata": {},
   "outputs": [],
   "source": [
    "# 리스트 생성하기\n",
    "a1 = [10,20,30,40,50]\n",
    "a2 = [10,20,30,40,50]"
   ]
  },
  {
   "cell_type": "code",
   "execution_count": 143,
   "id": "1950f246",
   "metadata": {},
   "outputs": [
    {
     "data": {
      "text/plain": [
       "[20, 30, 40, 50]"
      ]
     },
     "execution_count": 143,
     "metadata": {},
     "output_type": "execute_result"
    }
   ],
   "source": [
    "# 슬라이싱으로 아이템 삭제\n",
    "# 하나의 아이템 삭제하기 1 - 슬라이싱 + 빈 리스트를 이용하는 방법\n",
    "# 0번 인덱스 값을 삭제\n",
    "a1[:1] = []\n",
    "a1"
   ]
  },
  {
   "cell_type": "code",
   "execution_count": 144,
   "id": "f9d32a81",
   "metadata": {},
   "outputs": [
    {
     "data": {
      "text/plain": [
       "[[], 20, 30, 40, 50]"
      ]
     },
     "execution_count": 144,
     "metadata": {},
     "output_type": "execute_result"
    }
   ],
   "source": [
    "# 만약 인덱싱 저장 후 빈 리스트 대입 시\n",
    "a2[0] = []\n",
    "a2"
   ]
  },
  {
   "cell_type": "code",
   "execution_count": 145,
   "id": "c2023444",
   "metadata": {},
   "outputs": [
    {
     "data": {
      "text/plain": [
       "[20, 30, 40]"
      ]
     },
     "execution_count": 145,
     "metadata": {},
     "output_type": "execute_result"
    }
   ],
   "source": [
    "# 하나의 아이템 삭제하기 2 - del 키워드 + 인덱싱\n",
    "# 맨 뒤에 있는 인덱싱 삭제\n",
    "del a1[-1]\n",
    "a1"
   ]
  },
  {
   "cell_type": "code",
   "execution_count": 146,
   "id": "7ef5fe28",
   "metadata": {},
   "outputs": [
    {
     "ename": "NameError",
     "evalue": "name 'a2' is not defined",
     "output_type": "error",
     "traceback": [
      "\u001b[1;31m---------------------------------------------------------------------------\u001b[0m",
      "\u001b[1;31mNameError\u001b[0m                                 Traceback (most recent call last)",
      "Input \u001b[1;32mIn [146]\u001b[0m, in \u001b[0;36m<cell line: 3>\u001b[1;34m()\u001b[0m\n\u001b[0;32m      1\u001b[0m \u001b[38;5;66;03m# 만약 인덱싱 없이 del키워드를 쓰면\u001b[39;00m\n\u001b[0;32m      2\u001b[0m \u001b[38;5;28;01mdel\u001b[39;00m a2\n\u001b[1;32m----> 3\u001b[0m \u001b[43ma2\u001b[49m\n",
      "\u001b[1;31mNameError\u001b[0m: name 'a2' is not defined"
     ]
    }
   ],
   "source": [
    "# 만약 인덱싱 없이 del키워드를 쓰면\n",
    "# 특정 리스트 전체를 통째로 삭제함\n",
    "del a2\n",
    "a2"
   ]
  },
  {
   "cell_type": "code",
   "execution_count": 157,
   "id": "cfb75842",
   "metadata": {},
   "outputs": [],
   "source": [
    "# 하나의 아이템 삭제하기 3 - remove() 메서드\n",
    "# 문법 : 리스트.remove(삭제할자료(인덱스 아님))\n",
    "a = [1, 2, 3, 3, 3, 4, 5]"
   ]
  },
  {
   "cell_type": "code",
   "execution_count": 158,
   "id": "8d31841a",
   "metadata": {},
   "outputs": [
    {
     "data": {
      "text/plain": [
       "[1, 2, 3, 3, 3, 4]"
      ]
     },
     "execution_count": 158,
     "metadata": {},
     "output_type": "execute_result"
    }
   ],
   "source": [
    "# 5라는 값을 삭제\n",
    "# remove는 인덱싱 순서로 삭제하는 것이 아닌 지정된 아이템이 삭제됨\n",
    "a.remove(5)\n",
    "a"
   ]
  },
  {
   "cell_type": "code",
   "execution_count": 159,
   "id": "2529dddf",
   "metadata": {},
   "outputs": [
    {
     "data": {
      "text/plain": [
       "[1, 2, 3, 3, 4]"
      ]
     },
     "execution_count": 159,
     "metadata": {},
     "output_type": "execute_result"
    }
   ],
   "source": [
    "# 중복된 아이템이 존재하면 가장 앞서는 인덱스 자료 하나만 삭제\n",
    "a.remove(3)\n",
    "a"
   ]
  },
  {
   "cell_type": "code",
   "execution_count": 160,
   "id": "c61f0fbd",
   "metadata": {},
   "outputs": [
    {
     "data": {
      "text/plain": [
       "[1, 2]"
      ]
     },
     "execution_count": 160,
     "metadata": {},
     "output_type": "execute_result"
    }
   ],
   "source": [
    "# del 키워드는 단일 자료 뿐만 아니라 연속된 범위(슬라이싱) 자료 삭제도 가능\n",
    "del a[2:]\n",
    "a"
   ]
  },
  {
   "cell_type": "code",
   "execution_count": 164,
   "id": "c78f3bf1",
   "metadata": {},
   "outputs": [
    {
     "data": {
      "text/plain": [
       "[1, 2, 3, 4, 5, 6]"
      ]
     },
     "execution_count": 164,
     "metadata": {},
     "output_type": "execute_result"
    }
   ],
   "source": [
    "# 하나의 아이템 삭제하기 4 - pop() 메서드\n",
    "# 마지막에 위차한 값이 몇이었는지 확인시켜주고 삭제함\n",
    "a = [1,2,3,4,5]\n",
    "a.append(6)\n",
    "a"
   ]
  },
  {
   "cell_type": "code",
   "execution_count": 165,
   "id": "38cd0a59",
   "metadata": {},
   "outputs": [
    {
     "data": {
      "text/plain": [
       "6"
      ]
     },
     "execution_count": 165,
     "metadata": {},
     "output_type": "execute_result"
    }
   ],
   "source": [
    "# stack에서 자료를 뽑을 때 쓰는 명령어\n",
    "a.pop() # 인덱스번호 미기입시 마지막 인덱스 자료 삭제(현재기준으로 6 삭제)"
   ]
  },
  {
   "cell_type": "code",
   "execution_count": 169,
   "id": "a74cb10f",
   "metadata": {},
   "outputs": [
    {
     "data": {
      "text/plain": [
       "[1, 2, 3, 4, 5]"
      ]
     },
     "execution_count": 169,
     "metadata": {},
     "output_type": "execute_result"
    }
   ],
   "source": [
    "a"
   ]
  },
  {
   "cell_type": "code",
   "execution_count": 170,
   "id": "6ae34e3f",
   "metadata": {},
   "outputs": [
    {
     "data": {
      "text/plain": [
       "3"
      ]
     },
     "execution_count": 170,
     "metadata": {},
     "output_type": "execute_result"
    }
   ],
   "source": [
    "# 삭제하라는 인덱스번호를 지정하면 마지막이 아닌 입력된 인덱스 유지 자료를 삭제함\n",
    "a.pop(2)"
   ]
  },
  {
   "cell_type": "code",
   "execution_count": 171,
   "id": "7f6d95e9",
   "metadata": {},
   "outputs": [
    {
     "data": {
      "text/plain": [
       "[1, 2, 4, 5]"
      ]
     },
     "execution_count": 171,
     "metadata": {},
     "output_type": "execute_result"
    }
   ],
   "source": [
    "a"
   ]
  },
  {
   "cell_type": "markdown",
   "id": "74a8177d",
   "metadata": {},
   "source": [
    "# 7. 아이템 정렬하기\n",
    "\n",
    "* 함수\n",
    "\n",
    "    - sort() : 기본동작 = 오름차순정렬(작은값이 먼저오고 큰 값이 나중에)\n",
    "    \n",
    "    - reverse() : 기존 리스트의 처음과 마지막 순서를 뒤집어서 나열"
   ]
  },
  {
   "cell_type": "code",
   "execution_count": 172,
   "id": "a9ea232e",
   "metadata": {},
   "outputs": [],
   "source": [
    "# 리스트 크기의 순서가 불규칙한 인덱스 생성\n",
    "a = [10, -30, 57, -33, 71, 1, 34, -2]"
   ]
  },
  {
   "cell_type": "code",
   "execution_count": 177,
   "id": "1a85bda8",
   "metadata": {},
   "outputs": [
    {
     "data": {
      "text/plain": [
       "[-33, -30, -2, 1, 10, 34, 57, 71]"
      ]
     },
     "execution_count": 177,
     "metadata": {},
     "output_type": "execute_result"
    }
   ],
   "source": [
    "# 값을 오름차순으로 정렬 : sort() 기본동작 / sort(reverse=False)\n",
    "# 원본 리스트 변경됨\n",
    "a.sort(reverse=False)\n",
    "a"
   ]
  },
  {
   "cell_type": "code",
   "execution_count": 178,
   "id": "b84e6e1d",
   "metadata": {},
   "outputs": [
    {
     "data": {
      "text/plain": [
       "[71, 57, 34, 10, 1, -2, -30, -33]"
      ]
     },
     "execution_count": 178,
     "metadata": {},
     "output_type": "execute_result"
    }
   ],
   "source": [
    "# 값을 오름차순이 아닌 내림차순으로 정렬하는 경우 : sort(reverse/True)\n",
    "a.sort(reverse=True)\n",
    "a"
   ]
  },
  {
   "cell_type": "code",
   "execution_count": 182,
   "id": "281d1852",
   "metadata": {},
   "outputs": [],
   "source": [
    "# 값을 인덱스기준으로 반대로 뒤집기 : reverse()\n",
    "b = [10, 71, 32, 46, 5, 95]"
   ]
  },
  {
   "cell_type": "code",
   "execution_count": 183,
   "id": "c5e6d187",
   "metadata": {},
   "outputs": [
    {
     "data": {
      "text/plain": [
       "[95, 5, 46, 32, 71, 10]"
      ]
     },
     "execution_count": 183,
     "metadata": {},
     "output_type": "execute_result"
    }
   ],
   "source": [
    "b.reverse()\n",
    "b"
   ]
  },
  {
   "cell_type": "markdown",
   "id": "d853d667",
   "metadata": {},
   "source": [
    "# 8. 아이템 개수 세기\n",
    "\n",
    "* 함수\n",
    "\n",
    "    - 리스트.count(값) : 조회값이 리스트 내부에 있는 개수를 보여줌\n",
    "    \n",
    "    - len() : 파이썬 내장함수로 리스트 내부에 전체 아이템이 몇 개 있는지 보여줌"
   ]
  },
  {
   "cell_type": "code",
   "execution_count": 184,
   "id": "940dee62",
   "metadata": {},
   "outputs": [],
   "source": [
    "a = [1, 2, 3, 3, 3, 4, 5, 6]"
   ]
  },
  {
   "cell_type": "code",
   "execution_count": 187,
   "id": "61dd2b49",
   "metadata": {},
   "outputs": [
    {
     "data": {
      "text/plain": [
       "3"
      ]
     },
     "execution_count": 187,
     "metadata": {},
     "output_type": "execute_result"
    }
   ],
   "source": [
    "# 특정 아이템의 개수 : .count()\n",
    "a.count(3)"
   ]
  },
  {
   "cell_type": "code",
   "execution_count": 188,
   "id": "e07a683e",
   "metadata": {},
   "outputs": [
    {
     "data": {
      "text/plain": [
       "8"
      ]
     },
     "execution_count": 188,
     "metadata": {},
     "output_type": "execute_result"
    }
   ],
   "source": [
    "# 전체 아이템의 개수 : len()\n",
    "len(a)"
   ]
  },
  {
   "cell_type": "markdown",
   "id": "96d40f35",
   "metadata": {},
   "source": [
    "# 9. 리스트 복사하기\n",
    "\n",
    "* 할당기호(=)\n",
    "\n",
    "* copy() 메서드\n",
    "\n",
    "* list()\n",
    "\n",
    "* 슬라이싱"
   ]
  },
  {
   "cell_type": "markdown",
   "id": "e8c94f4c",
   "metadata": {},
   "source": [
    "#### 컴퓨터 기능\n",
    "* 사용자가 통제불가능 \n",
    "- 코드(시스템) \n",
    "\n",
    "* 사용자가 통제가능 \n",
    "- 스택 : 용량이 적음, 속도가 빠름, [list()변수]를 저장함(변수에는 데이터 하나만 넣기로 약속됨), 자주 쓰는 데이터를 사용\n",
    "          - 기본형 변수 : 간단한 변수 x=10\n",
    "          - 참조형 변수 : y = (1, 2, 3) -> 힙에 저장 후 해당 주소에 들어갈 수 있는 구멍을 스택에 생성하여 저장 (y=100번지) \n",
    "- 힙 : 용량이 큼, 속도가 느림, 스택에 써야하는 리스트를 힙에 저장(100번지 -> y = (1,2,3)) "
   ]
  },
  {
   "cell_type": "code",
   "execution_count": 209,
   "id": "ef1731db",
   "metadata": {},
   "outputs": [],
   "source": [
    "# 1. 할당기호(=)로 복사하기\n",
    "a = [1,2,3,4,5]\n",
    "b = a"
   ]
  },
  {
   "cell_type": "code",
   "execution_count": 210,
   "id": "421706a9",
   "metadata": {},
   "outputs": [
    {
     "name": "stdout",
     "output_type": "stream",
     "text": [
      "[1, 2, 3, 4, 5] [1, 2, 3, 4, 5]\n"
     ]
    }
   ],
   "source": [
    "print(a,b)"
   ]
  },
  {
   "cell_type": "code",
   "execution_count": 211,
   "id": "1efd07c1",
   "metadata": {},
   "outputs": [
    {
     "name": "stdout",
     "output_type": "stream",
     "text": [
      "1300037000576 1300037000576\n"
     ]
    }
   ],
   "source": [
    "# 주소를 찍고 싶다면 id(변수) 를 쓰면 해당 자료가 저장된 주소를 조회\n",
    "# 해당 주소를 사용잔는 수정할 수 없음\n",
    "print(id(a), id(b))"
   ]
  },
  {
   "cell_type": "code",
   "execution_count": 212,
   "id": "45b64b52",
   "metadata": {},
   "outputs": [],
   "source": [
    "# =을 이용해 복사한 요소는 동일한 주소를 가리키는 복사\n",
    "# 주소값만 복사해 온 것을 '얕은 복사'라고 부름\n",
    "a[0] = 10"
   ]
  },
  {
   "cell_type": "code",
   "execution_count": 213,
   "id": "710f0c06",
   "metadata": {},
   "outputs": [
    {
     "data": {
      "text/plain": [
       "[10, 2, 3, 4, 5]"
      ]
     },
     "execution_count": 213,
     "metadata": {},
     "output_type": "execute_result"
    }
   ],
   "source": [
    "a"
   ]
  },
  {
   "cell_type": "code",
   "execution_count": 214,
   "id": "b75acc15",
   "metadata": {},
   "outputs": [
    {
     "data": {
      "text/plain": [
       "[10, 2, 3, 4, 5]"
      ]
     },
     "execution_count": 214,
     "metadata": {},
     "output_type": "execute_result"
    }
   ],
   "source": [
    "b"
   ]
  },
  {
   "cell_type": "code",
   "execution_count": 215,
   "id": "eaac8b1d",
   "metadata": {},
   "outputs": [],
   "source": [
    "#2. copy() 메서드로 복사하기\n",
    "c = a.copy()"
   ]
  },
  {
   "cell_type": "code",
   "execution_count": 216,
   "id": "30c344ec",
   "metadata": {},
   "outputs": [
    {
     "data": {
      "text/plain": [
       "[10, 2, 3, 4, 5]"
      ]
     },
     "execution_count": 216,
     "metadata": {},
     "output_type": "execute_result"
    }
   ],
   "source": [
    "c"
   ]
  },
  {
   "cell_type": "code",
   "execution_count": 217,
   "id": "78cb45eb",
   "metadata": {},
   "outputs": [
    {
     "name": "stdout",
     "output_type": "stream",
     "text": [
      "1300037000576 1300037000576\n"
     ]
    }
   ],
   "source": [
    "# id를 이용해 a,b\n",
    "# a,c주소를 각각 pirnt()로 묶어 찍으시오\n",
    "print(id(a),id(b))"
   ]
  },
  {
   "cell_type": "code",
   "execution_count": 218,
   "id": "3d17e22a",
   "metadata": {},
   "outputs": [
    {
     "name": "stdout",
     "output_type": "stream",
     "text": [
      "1300037000576 1300037042368\n"
     ]
    }
   ],
   "source": [
    "print(id(a), id(c))"
   ]
  },
  {
   "cell_type": "code",
   "execution_count": 219,
   "id": "a2d06301",
   "metadata": {},
   "outputs": [
    {
     "name": "stdout",
     "output_type": "stream",
     "text": [
      "[10, 2, 20, 4, 5] [10, 2, 20, 4, 5] [10, 2, 3, 4, 5]\n"
     ]
    }
   ],
   "source": [
    "# a를 변경해도 c의 주소는 바뀌지 않음\n",
    "a[2] = 20\n",
    "print(a,b,c)"
   ]
  },
  {
   "cell_type": "code",
   "execution_count": 221,
   "id": "76f6d407",
   "metadata": {},
   "outputs": [
    {
     "name": "stdout",
     "output_type": "stream",
     "text": [
      "1300037042368 1300037014784\n"
     ]
    }
   ],
   "source": [
    "# 3. list()로 복사하기\n",
    "# list(자료)를 넣으면 그 자료를 새로 할당해 리스트화함\n",
    "# 데이터 자체를 복사하여 새로운 주소에 복사한 것을 '깊은 복사'라고 부름\n",
    "d = list(c)\n",
    "print(id(c), id(d))"
   ]
  },
  {
   "cell_type": "code",
   "execution_count": 222,
   "id": "d9c89cba",
   "metadata": {},
   "outputs": [
    {
     "name": "stdout",
     "output_type": "stream",
     "text": [
      "1300037014784 1300033770816\n"
     ]
    }
   ],
   "source": [
    "# 4. 슬라이싱으로 전체 범위를 지정해 대입\n",
    "e = d[:]\n",
    "print(id(d),id(e))"
   ]
  },
  {
   "cell_type": "code",
   "execution_count": 224,
   "id": "41d356a8",
   "metadata": {},
   "outputs": [
    {
     "name": "stdout",
     "output_type": "stream",
     "text": [
      "[10, 2, 3, 4, 5] [10, 2, 3, 4, 5]\n"
     ]
    }
   ],
   "source": [
    "print(d,e)"
   ]
  },
  {
   "cell_type": "markdown",
   "id": "eb0b21c8",
   "metadata": {},
   "source": [
    "### << 연습문제 >>\n",
    "1. a 리스트를 이용하여 다음과 같은 문자열을 출력하시오.\n",
    "    \n",
    "    a = ['Life', 'is', 'too', 'short', 'you', 'need', 'python']\n",
    "    \n",
    "    출력문 : you too"
   ]
  },
  {
   "cell_type": "code",
   "execution_count": 239,
   "id": "9219d1fd",
   "metadata": {},
   "outputs": [],
   "source": [
    "a = ['Life', 'is', 'too', 'short', 'you', 'need', 'python']"
   ]
  },
  {
   "cell_type": "code",
   "execution_count": 240,
   "id": "537828b6",
   "metadata": {},
   "outputs": [
    {
     "name": "stdout",
     "output_type": "stream",
     "text": [
      "you too\n"
     ]
    }
   ],
   "source": [
    "print(a[4],a[2])"
   ]
  },
  {
   "cell_type": "markdown",
   "id": "92d2172b",
   "metadata": {},
   "source": [
    "2. a 리스트의 길이를 구하시오"
   ]
  },
  {
   "cell_type": "code",
   "execution_count": 241,
   "id": "4c9e1813",
   "metadata": {},
   "outputs": [
    {
     "data": {
      "text/plain": [
       "7"
      ]
     },
     "execution_count": 241,
     "metadata": {},
     "output_type": "execute_result"
    }
   ],
   "source": [
    "len(a)"
   ]
  },
  {
   "cell_type": "markdown",
   "id": "078e6fe9",
   "metadata": {},
   "source": [
    "3. a 리스트의 첫번째 아이템에 길이를 추가하세요\n",
    "\n",
    "[결과] [7,'Life', 'is', 'too', 'short', 'you', 'need', 'python']"
   ]
  },
  {
   "cell_type": "code",
   "execution_count": 242,
   "id": "d43939e0",
   "metadata": {},
   "outputs": [
    {
     "data": {
      "text/plain": [
       "[7, 'Life', 'is', 'too', 'short', 'you', 'need', 'python']"
      ]
     },
     "execution_count": 242,
     "metadata": {},
     "output_type": "execute_result"
    }
   ],
   "source": [
    "# a.insert(0,len(7))\n",
    "a.insert(0,7)\n",
    "a"
   ]
  },
  {
   "cell_type": "markdown",
   "id": "722e6caf",
   "metadata": {},
   "source": [
    "4. 아래와 같이 크기 순서가 없는 리스트를 만들고 내림차순 정렬로 바꾸시오\n",
    "\n",
    "[1, 4, 9, 2, 6, 10]\n",
    "\n",
    "(결과) [10, 9, 6, 4, 2, 1] "
   ]
  },
  {
   "cell_type": "code",
   "execution_count": 245,
   "id": "cc31f66f",
   "metadata": {},
   "outputs": [],
   "source": [
    "b = [1, 4, 9, 2, 6, 10]"
   ]
  },
  {
   "cell_type": "code",
   "execution_count": 246,
   "id": "43923d3d",
   "metadata": {},
   "outputs": [
    {
     "data": {
      "text/plain": [
       "[10, 9, 6, 4, 2, 1]"
      ]
     },
     "execution_count": 246,
     "metadata": {},
     "output_type": "execute_result"
    }
   ],
   "source": [
    "# b.sort()\n",
    "# b.reverse()\n",
    "b.sort(reverse=True)\n",
    "b"
   ]
  },
  {
   "cell_type": "markdown",
   "id": "11e92926",
   "metadata": {},
   "source": [
    "## 자료형 - Tuple\n",
    "- 생성 문법 기호 : ( )\n",
    "- 아이템을 수정/삭제할 수 없기 때문에 실수로 데이터가 변경되거나 삭제되는 위험이 적다.\n",
    "- 객체를 저장하는데 더 적은 메모리를 사용한다.\n",
    "- dictionay 자료형의 key로 활용할 수 있다.\n",
    "- 함수의 인자는 tuple 자료형으로 전달된다."
   ]
  },
  {
   "cell_type": "markdown",
   "id": "133fbd78",
   "metadata": {},
   "source": [
    "# 1. 생성하기"
   ]
  },
  {
   "cell_type": "code",
   "execution_count": 247,
   "id": "297124bc",
   "metadata": {},
   "outputs": [
    {
     "data": {
      "text/plain": [
       "list"
      ]
     },
     "execution_count": 247,
     "metadata": {},
     "output_type": "execute_result"
    }
   ],
   "source": [
    "# 하나의 아이템을 가진 리스트\n",
    "a = [1]\n",
    "type(a)"
   ]
  },
  {
   "cell_type": "code",
   "execution_count": 253,
   "id": "90136a5d",
   "metadata": {},
   "outputs": [
    {
     "data": {
      "text/plain": [
       "tuple"
      ]
     },
     "execution_count": 253,
     "metadata": {},
     "output_type": "execute_result"
    }
   ],
   "source": [
    "# 문법기호 : 소괄호는 작성해도 되고 생략해도 됨, 대신 무조건 쉼표(,)는 1개 이상 들어감\n",
    "tu = 1,\n",
    "type(tu)"
   ]
  },
  {
   "cell_type": "code",
   "execution_count": 254,
   "id": "50fb9458",
   "metadata": {},
   "outputs": [
    {
     "name": "stdout",
     "output_type": "stream",
     "text": [
      "<class 'list'> <class 'tuple'>\n",
      "[1] (1,)\n"
     ]
    }
   ],
   "source": [
    "# tuple(리스트) 로 처리하면 리스트는 튜플로 교환할 수 있음\n",
    "b = tuple(a)\n",
    "print(type(a),type(b))\n",
    "print(a,b)"
   ]
  },
  {
   "cell_type": "code",
   "execution_count": 255,
   "id": "1cf63721",
   "metadata": {},
   "outputs": [
    {
     "name": "stdout",
     "output_type": "stream",
     "text": [
      "(56, 76, 29, 100)\n",
      "<class 'tuple'>\n"
     ]
    }
   ],
   "source": [
    "# 변수 하나에 여러 값을 ,로 나열해 대입해도 튜플로 간주함\n",
    "x = 56, 76, 29, 100\n",
    "print(x)\n",
    "print(type(x))"
   ]
  },
  {
   "cell_type": "code",
   "execution_count": 256,
   "id": "4e58dfdf",
   "metadata": {},
   "outputs": [
    {
     "name": "stdout",
     "output_type": "stream",
     "text": [
      "1\n",
      "2\n",
      "3\n"
     ]
    }
   ],
   "source": [
    "# 튜플 내부의 자료 개수만큼 변수를 대입해주면 하나씩 나눠서 값을 받음\n",
    "x1, x2, x3 = 1, 2, 3\n",
    "print(x1)\n",
    "print(x2)\n",
    "print(x3)"
   ]
  },
  {
   "cell_type": "markdown",
   "id": "7dd3c1ca",
   "metadata": {},
   "source": [
    "# 2. 인덱싱"
   ]
  },
  {
   "cell_type": "code",
   "execution_count": 257,
   "id": "ec529b11",
   "metadata": {},
   "outputs": [
    {
     "data": {
      "text/plain": [
       "56"
      ]
     },
     "execution_count": 257,
     "metadata": {},
     "output_type": "execute_result"
    }
   ],
   "source": [
    "x[0]"
   ]
  },
  {
   "cell_type": "markdown",
   "id": "68bcac98",
   "metadata": {},
   "source": [
    "# 3. 슬라이싱\n",
    "- 참고할 점. 각 속성의 리스트를 슬라이싱하면 그 속성값으로 출력됨 "
   ]
  },
  {
   "cell_type": "code",
   "execution_count": 258,
   "id": "97d210b7",
   "metadata": {},
   "outputs": [
    {
     "data": {
      "text/plain": [
       "(56, 76, 29)"
      ]
     },
     "execution_count": 258,
     "metadata": {},
     "output_type": "execute_result"
    }
   ],
   "source": [
    "x[:3]"
   ]
  },
  {
   "cell_type": "markdown",
   "id": "4306ce86",
   "metadata": {},
   "source": [
    "# 4. 튜플연산자\n",
    "\n",
    "* 산술연산자 : +,-"
   ]
  },
  {
   "cell_type": "code",
   "execution_count": 259,
   "id": "a7fd1d68",
   "metadata": {},
   "outputs": [
    {
     "data": {
      "text/plain": [
       "(56, 76, 29, 100, 56, 76, 29, 100)"
      ]
     },
     "execution_count": 259,
     "metadata": {},
     "output_type": "execute_result"
    }
   ],
   "source": [
    "# 여러 개의 튜플의 아이템을 합쳐 새로운 튜플 만들기 : +\n",
    "x + x"
   ]
  },
  {
   "cell_type": "code",
   "execution_count": 260,
   "id": "2293ccb6",
   "metadata": {},
   "outputs": [
    {
     "data": {
      "text/plain": [
       "(56, 76, 29, 100)"
      ]
     },
     "execution_count": 260,
     "metadata": {},
     "output_type": "execute_result"
    }
   ],
   "source": [
    "# 기존의 튜플 자료에는 영향이 없으므로 해당 로직을 실행하는데 문제가 없음\n",
    "x"
   ]
  },
  {
   "cell_type": "code",
   "execution_count": 261,
   "id": "a5d1e032",
   "metadata": {},
   "outputs": [
    {
     "data": {
      "text/plain": [
       "(56, 76, 29, 100, 56, 76, 29, 100, 56, 76, 29, 100)"
      ]
     },
     "execution_count": 261,
     "metadata": {},
     "output_type": "execute_result"
    }
   ],
   "source": [
    "# 한 개의 튜플을 반복, 확장하여 새로운 튜플 만들기 : *\n",
    "x * 3"
   ]
  },
  {
   "cell_type": "code",
   "execution_count": 262,
   "id": "249a700a",
   "metadata": {},
   "outputs": [
    {
     "data": {
      "text/plain": [
       "(56, 76, 29, 100)"
      ]
     },
     "execution_count": 262,
     "metadata": {},
     "output_type": "execute_result"
    }
   ],
   "source": [
    "# 마찬가지로 자료에는 영향이 없음\n",
    "x"
   ]
  },
  {
   "cell_type": "markdown",
   "id": "73b5fedf",
   "metadata": {},
   "source": [
    "# 5. 수정/삭제할 수 없는 튜플"
   ]
  },
  {
   "cell_type": "code",
   "execution_count": 264,
   "id": "eb4057ec",
   "metadata": {},
   "outputs": [
    {
     "ename": "TypeError",
     "evalue": "'tuple' object does not support item assignment",
     "output_type": "error",
     "traceback": [
      "\u001b[1;31m---------------------------------------------------------------------------\u001b[0m",
      "\u001b[1;31mTypeError\u001b[0m                                 Traceback (most recent call last)",
      "Input \u001b[1;32mIn [264]\u001b[0m, in \u001b[0;36m<cell line: 2>\u001b[1;34m()\u001b[0m\n\u001b[0;32m      1\u001b[0m \u001b[38;5;66;03m# 수정하기 -> 인덱싱으로 하나의 아이템에 접근해서 수정\u001b[39;00m\n\u001b[1;32m----> 2\u001b[0m x[\u001b[38;5;241m0\u001b[39m] \u001b[38;5;241m=\u001b[39m \u001b[38;5;241m0\u001b[39m\n",
      "\u001b[1;31mTypeError\u001b[0m: 'tuple' object does not support item assignment"
     ]
    }
   ],
   "source": [
    "# 수정하기 -> 인덱싱으로 하나의 아이템에 접근해서 수정\n",
    "x[0] = 0"
   ]
  },
  {
   "cell_type": "code",
   "execution_count": 265,
   "id": "bfbde3b2",
   "metadata": {},
   "outputs": [
    {
     "ename": "TypeError",
     "evalue": "'tuple' object doesn't support item deletion",
     "output_type": "error",
     "traceback": [
      "\u001b[1;31m---------------------------------------------------------------------------\u001b[0m",
      "\u001b[1;31mTypeError\u001b[0m                                 Traceback (most recent call last)",
      "Input \u001b[1;32mIn [265]\u001b[0m, in \u001b[0;36m<cell line: 2>\u001b[1;34m()\u001b[0m\n\u001b[0;32m      1\u001b[0m \u001b[38;5;66;03m# 삭제하기 - del 키워드 + 인덱싱\u001b[39;00m\n\u001b[1;32m----> 2\u001b[0m \u001b[38;5;28;01mdel\u001b[39;00m x[\u001b[38;5;241m0\u001b[39m]\n",
      "\u001b[1;31mTypeError\u001b[0m: 'tuple' object doesn't support item deletion"
     ]
    }
   ],
   "source": [
    "# 삭제하기 - del 키워드 + 인덱싱\n",
    "del x[0]"
   ]
  },
  {
   "cell_type": "code",
   "execution_count": null,
   "id": "9d2dee47",
   "metadata": {},
   "outputs": [],
   "source": []
  },
  {
   "cell_type": "code",
   "execution_count": null,
   "id": "2588892d",
   "metadata": {},
   "outputs": [],
   "source": []
  },
  {
   "cell_type": "code",
   "execution_count": null,
   "id": "aa7eaa17",
   "metadata": {},
   "outputs": [],
   "source": []
  },
  {
   "cell_type": "code",
   "execution_count": null,
   "id": "10e1fd8d",
   "metadata": {},
   "outputs": [],
   "source": []
  },
  {
   "cell_type": "code",
   "execution_count": null,
   "id": "d6b57bfc",
   "metadata": {},
   "outputs": [],
   "source": []
  },
  {
   "cell_type": "code",
   "execution_count": null,
   "id": "5aff8155",
   "metadata": {},
   "outputs": [],
   "source": []
  },
  {
   "cell_type": "code",
   "execution_count": null,
   "id": "1c4d3efc",
   "metadata": {},
   "outputs": [],
   "source": []
  },
  {
   "cell_type": "code",
   "execution_count": null,
   "id": "5312e450",
   "metadata": {},
   "outputs": [],
   "source": []
  },
  {
   "cell_type": "code",
   "execution_count": null,
   "id": "7f17ea68",
   "metadata": {},
   "outputs": [],
   "source": []
  },
  {
   "cell_type": "code",
   "execution_count": null,
   "id": "3bb72361",
   "metadata": {},
   "outputs": [],
   "source": []
  },
  {
   "cell_type": "code",
   "execution_count": null,
   "id": "279ad539",
   "metadata": {},
   "outputs": [],
   "source": []
  },
  {
   "cell_type": "code",
   "execution_count": null,
   "id": "16d2481d",
   "metadata": {},
   "outputs": [],
   "source": []
  },
  {
   "cell_type": "code",
   "execution_count": null,
   "id": "2b031d7e",
   "metadata": {},
   "outputs": [],
   "source": []
  },
  {
   "cell_type": "code",
   "execution_count": null,
   "id": "0732549e",
   "metadata": {},
   "outputs": [],
   "source": []
  }
 ],
 "metadata": {
  "kernelspec": {
   "display_name": "Python 3 (ipykernel)",
   "language": "python",
   "name": "python3"
  },
  "language_info": {
   "codemirror_mode": {
    "name": "ipython",
    "version": 3
   },
   "file_extension": ".py",
   "mimetype": "text/x-python",
   "name": "python",
   "nbconvert_exporter": "python",
   "pygments_lexer": "ipython3",
   "version": "3.9.12"
  }
 },
 "nbformat": 4,
 "nbformat_minor": 5
}
