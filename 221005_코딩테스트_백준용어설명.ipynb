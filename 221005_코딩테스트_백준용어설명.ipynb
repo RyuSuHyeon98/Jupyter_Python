{
 "cells": [
  {
   "cell_type": "markdown",
   "id": "fdef66b5",
   "metadata": {},
   "source": [
    "# 백준 용어 및 대응 파이썬 코드\n",
    "\n",
    "## 입력\n",
    "\n",
    "- 입력은 사용자의 입력을 의미함\n",
    "- 코드가 실행된 다음 사용자가 직접 입력할 수 있도록 할 수 있게 코딩해야하며\n",
    "- 파이썬에서는 input()을 기본적으로 사용함\n",
    "- 성능향상이 필요한 경우 sys, stdin, readline()을 사용함\n",
    "- 브론즈 하위~중위 수준에서는 input()만으로도 풀리니 우선 input()만 쓰는 것을 권장\n",
    "- 입력에 x이상 y이하의 범위를 주는 경우도 있지만 무시해도 됨"
   ]
  },
  {
   "cell_type": "code",
   "execution_count": 3,
   "id": "e049f268",
   "metadata": {},
   "outputs": [
    {
     "name": "stdout",
     "output_type": "stream",
     "text": [
      "입력해보세요..\n"
     ]
    },
    {
     "data": {
      "text/plain": [
       "'.'"
      ]
     },
     "execution_count": 3,
     "metadata": {},
     "output_type": "execute_result"
    }
   ],
   "source": [
    "# input('안내문구')를 입력하면\n",
    "# 사용자에게 입력할 수 있는 양식을 제공하며\n",
    "# 사용자가 입력한 자료를 문자형식으로 전달함\n",
    "input('입력해보세요.')"
   ]
  },
  {
   "cell_type": "code",
   "execution_count": 4,
   "id": "91bfb5e5",
   "metadata": {},
   "outputs": [
    {
     "name": "stdout",
     "output_type": "stream",
     "text": [
      "변수넣기첫째 줄에 A와 B가 주어진다. (0 < A, B < 10)\n",
      "첫째 줄에 A와 B가 주어진다. (0 < A, B < 10)\n"
     ]
    }
   ],
   "source": [
    "# input()의 좌변에 변수를 대입받으면, 사용자가 입력한 자료가\n",
    "# 해당 변수에 대입됨\n",
    "test = input('변수넣기')\n",
    "print(test)"
   ]
  },
  {
   "cell_type": "code",
   "execution_count": null,
   "id": "db5ef5b7",
   "metadata": {},
   "outputs": [],
   "source": [
    "# 두 정수 A와 B를 입력받은 다음, A+B를 출력하는 프로그램을 작성하시오\n",
    "# 첫째 줄에 A와 B가 주어진다. (0 < A, B < 10)\n",
    "# 첫째 줄에 A+B를 출력한다."
   ]
  },
  {
   "cell_type": "code",
   "execution_count": 9,
   "id": "dbc1b195",
   "metadata": {},
   "outputs": [
    {
     "name": "stdout",
     "output_type": "stream",
     "text": [
      "123\n",
      "456\n",
      "579\n"
     ]
    }
   ],
   "source": [
    "# input()에 들어오는 자료를 숫자로 변경하기 위해서는 \n",
    "# int()로input()을 감싸 int(input())형태로 만들어야 함\n",
    "A = int(input())\n",
    "B = int(input())\n",
    "print(A+B)"
   ]
  },
  {
   "cell_type": "markdown",
   "id": "fee8c078",
   "metadata": {},
   "source": [
    "### 출력\n",
    "\n",
    "- 출력은 콘솔창에 찍히는 (print()로 찍히는)메세지를 의미함\n",
    "- 출력 결과를 보고 적절한 형태로 입력에 의해 저장된 값을 가공하면 됨\n",
    "- 입력이 한줄로 받아진다면 출력이 올바른 형태여도 입력도 한줄로 받도록 처리해야함"
   ]
  },
  {
   "cell_type": "code",
   "execution_count": 16,
   "id": "e7605097",
   "metadata": {},
   "outputs": [
    {
     "name": "stdout",
     "output_type": "stream",
     "text": [
      "1 2\n",
      "3\n"
     ]
    }
   ],
   "source": [
    "# 두 개 이상의 변수에 입력할때는(띄어쓰기로 구분) 아래 코드를 사용\n",
    "A,B = map(int,input().split())\n",
    "print(A + B)"
   ]
  },
  {
   "cell_type": "code",
   "execution_count": null,
   "id": "8283927b",
   "metadata": {},
   "outputs": [],
   "source": []
  },
  {
   "cell_type": "code",
   "execution_count": null,
   "id": "823aa7af",
   "metadata": {},
   "outputs": [],
   "source": []
  },
  {
   "cell_type": "code",
   "execution_count": null,
   "id": "4080a651",
   "metadata": {},
   "outputs": [],
   "source": []
  },
  {
   "cell_type": "code",
   "execution_count": null,
   "id": "925e5fac",
   "metadata": {},
   "outputs": [],
   "source": []
  }
 ],
 "metadata": {
  "kernelspec": {
   "display_name": "Python 3 (ipykernel)",
   "language": "python",
   "name": "python3"
  },
  "language_info": {
   "codemirror_mode": {
    "name": "ipython",
    "version": 3
   },
   "file_extension": ".py",
   "mimetype": "text/x-python",
   "name": "python",
   "nbconvert_exporter": "python",
   "pygments_lexer": "ipython3",
   "version": "3.9.12"
  }
 },
 "nbformat": 4,
 "nbformat_minor": 5
}
