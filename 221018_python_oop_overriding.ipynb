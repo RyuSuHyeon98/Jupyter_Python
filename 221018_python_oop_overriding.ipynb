{
 "cells": [
  {
   "cell_type": "markdown",
   "id": "f769bf91",
   "metadata": {},
   "source": [
    "## 지난 시간 복습"
   ]
  },
  {
   "cell_type": "code",
   "execution_count": 3,
   "id": "d8901dbf",
   "metadata": {},
   "outputs": [],
   "source": [
    "class Person:\n",
    "    name = \"\"\n",
    "    age = 0\n",
    "    height = 0\n",
    "\n",
    "    def get_info(self):\n",
    "        print(\"이름 : %s, 나이 : %s, 키 : %s\" % \n",
    "              (self.name, self.age, self.height))"
   ]
  },
  {
   "cell_type": "code",
   "execution_count": 5,
   "id": "81150a05",
   "metadata": {},
   "outputs": [
    {
     "name": "stdout",
     "output_type": "stream",
     "text": [
      "이름 : 가나다, 나이 : 12, 키 : 140\n"
     ]
    }
   ],
   "source": [
    "p1 = Person()\n",
    "p1.name = \"가나다\"\n",
    "p1.age = 12\n",
    "p1.height = 140\n",
    "p1.get_info()"
   ]
  },
  {
   "cell_type": "code",
   "execution_count": 6,
   "id": "238f6c59",
   "metadata": {},
   "outputs": [],
   "source": [
    "class Salaryman(Person):\n",
    "    major = \"\"\n",
    "    salary = \"\"\n",
    "\n",
    "p3 = Salaryman()\n",
    "p3.name = \"Ryu_Su_Hyeon\"\n",
    "p3.age = 25\n",
    "p3.height = 165\n",
    "p3.major = \"Theology\"\n",
    "p3.salary = \"high-income earner\" # 생각해 본 적이 없어 \"고소득자\"라고만 표현"
   ]
  },
  {
   "cell_type": "markdown",
   "id": "f6abd42f",
   "metadata": {},
   "source": [
    "### 재정의(Overriding)\n",
    "\n",
    "overridinig은 parents가 물려준 method를 child 쪽에서 고쳐 쓰는 것(재정의)을 의미\n",
    "\n",
    "위와 같이 parents 쪽에서 이미 특정 method가 생성되었지만, child 쪽에서 추가된\n",
    "\n",
    "사항을 따로 반영하지 못한다던지 하는 issue가 발생했을 때\n",
    "\n",
    "child 쪽에서 inheritance한 method를 고쳐서 현재 instance 상황에 맞게 쓰는 것을\n",
    "\n",
    "overriding이라고 함\n",
    "\n",
    "방법은 child class 설계부분에 parents와 동일한 method를 작성하고\n",
    "\n",
    "cord 내용을 새롭게 작성하면 됩"
   ]
  },
  {
   "cell_type": "code",
   "execution_count": 180,
   "id": "6a57196f",
   "metadata": {},
   "outputs": [],
   "source": [
    "#비행기 class를 작성\n",
    "class Airplane:\n",
    "    velocity = 0\n",
    "    gas = 0\n",
    "    f_n = \"\" #항공편(flight_number)\n",
    "    \n",
    "    #생성자(__init__)\n",
    "    def __init__(self,velocity, gas, f_n):\n",
    "        self.velocity = velocity\n",
    "        self.gas = gas\n",
    "        self.f_n = f_n\n",
    "    \n",
    "    # 비행기의 비행기능\n",
    "    def fly(self):\n",
    "        self.velocity += 200\n",
    "        self.gas -= 100\n",
    "        if(self.gas <= 0): #연료가 0이 되었을 때 작동을 중지하도록 함\n",
    "            print(\"연료가 없습니다.\")\n",
    "            return #break 문처럼 def안에 if문을 즉시 종료시킴\n",
    "        if(self.velocity + 200 > 900): #최대속도를 900으로 맞추기\n",
    "            self.velocity = 900\n",
    "            \n",
    "            \n",
    "    # 비행기의 break기능\n",
    "    # 연료를 소비하지 않지만 속도가 200씩 차감\n",
    "    def break_vel(self): \n",
    "        if(self.velocity - 200 <= 0): #최저속도를 0으로 맞추기\n",
    "            self.velocity = 0\n",
    "        else:\n",
    "            self.velocity -= 200\n",
    "    \n",
    "    #비행기의 현재 상태\n",
    "    def get_info(self):\n",
    "        print(\"현재 속도 : %skm/h, 현재 연료량 : %sL, 편명 : %s\" %\n",
    "             (self.velocity, self.gas, self.f_n))"
   ]
  },
  {
   "cell_type": "code",
   "execution_count": 254,
   "id": "0fb2322a",
   "metadata": {},
   "outputs": [],
   "source": [
    "a1 = Airplane(0,5000,\"KE889\")"
   ]
  },
  {
   "cell_type": "code",
   "execution_count": 255,
   "id": "4d3dbfbd",
   "metadata": {},
   "outputs": [
    {
     "name": "stdout",
     "output_type": "stream",
     "text": [
      "현재 속도 : 0km/h, 현재 연료량 : 5000L, 편명 : KE889\n"
     ]
    }
   ],
   "source": [
    "a1.get_info()"
   ]
  },
  {
   "cell_type": "code",
   "execution_count": 156,
   "id": "4be89da2",
   "metadata": {},
   "outputs": [],
   "source": [
    "a1.fly()"
   ]
  },
  {
   "cell_type": "code",
   "execution_count": 157,
   "id": "9809b981",
   "metadata": {},
   "outputs": [
    {
     "name": "stdout",
     "output_type": "stream",
     "text": [
      "현재 속도 : 900km/h, 현재 연료량 : 4000L, 편명 : KE889\n"
     ]
    }
   ],
   "source": [
    "a1.get_info() # a1.fly() +10한 결과"
   ]
  },
  {
   "cell_type": "code",
   "execution_count": 256,
   "id": "bdc8c31a",
   "metadata": {},
   "outputs": [],
   "source": [
    "for i in range(9):\n",
    "    a1.fly()"
   ]
  },
  {
   "cell_type": "code",
   "execution_count": 257,
   "id": "00b8259c",
   "metadata": {},
   "outputs": [
    {
     "name": "stdout",
     "output_type": "stream",
     "text": [
      "현재 속도 : 900km/h, 현재 연료량 : 4100L, 편명 : KE889\n"
     ]
    }
   ],
   "source": [
    "a1.get_info()"
   ]
  },
  {
   "cell_type": "code",
   "execution_count": 258,
   "id": "299f7369",
   "metadata": {},
   "outputs": [],
   "source": [
    "for i in range(5):\n",
    "    a1.break_vel()"
   ]
  },
  {
   "cell_type": "code",
   "execution_count": 259,
   "id": "861a0469",
   "metadata": {},
   "outputs": [
    {
     "name": "stdout",
     "output_type": "stream",
     "text": [
      "현재 속도 : 0km/h, 현재 연료량 : 4100L, 편명 : KE889\n"
     ]
    }
   ],
   "source": [
    "a1.get_info()"
   ]
  },
  {
   "cell_type": "code",
   "execution_count": 181,
   "id": "20315b0a",
   "metadata": {},
   "outputs": [],
   "source": [
    "# 초음속비행기(SupersonicAirplane)을 선언\n",
    "class Ss_Airplane(Airplane): #Airplane 을 inheritance\n",
    "    # overriding을 통해 parents class에서 수정해야 할 method를 새롭게 정의\n",
    "    # 같은 이름, 같은 parameter 선언으로 정의\n",
    "    def fly(self):\n",
    "        self.velocity += 200\n",
    "        self.gas -= 100\n",
    "        if(self.gas <= 0): \n",
    "            print(\"연료가 없습니다.\")\n",
    "            return\n",
    "        if(self.velocity + 200 > 2000): \n",
    "            self.velocity = 2000"
   ]
  },
  {
   "cell_type": "code",
   "execution_count": 193,
   "id": "7452cb73",
   "metadata": {},
   "outputs": [],
   "source": [
    "a2 = Airplane(0,5000,\"KE888\")"
   ]
  },
  {
   "cell_type": "code",
   "execution_count": 245,
   "id": "8bbeaa05",
   "metadata": {},
   "outputs": [],
   "source": [
    "for i in range(9):\n",
    "    a2.fly()"
   ]
  },
  {
   "cell_type": "code",
   "execution_count": 246,
   "id": "402d4d22",
   "metadata": {},
   "outputs": [
    {
     "name": "stdout",
     "output_type": "stream",
     "text": [
      "현재 속도 : 900km/h, 현재 연료량 : 2600L, 편명 : KE888\n"
     ]
    }
   ],
   "source": [
    "a2.get_info()"
   ]
  },
  {
   "cell_type": "code",
   "execution_count": 249,
   "id": "72736637",
   "metadata": {},
   "outputs": [],
   "source": [
    "sa1 = Ss_Airplane(0,5000,\"KE999\")"
   ]
  },
  {
   "cell_type": "code",
   "execution_count": 250,
   "id": "3ee65c6d",
   "metadata": {},
   "outputs": [],
   "source": [
    "for i in range(12):\n",
    "    sa1.fly()"
   ]
  },
  {
   "cell_type": "code",
   "execution_count": 251,
   "id": "485442cf",
   "metadata": {},
   "outputs": [
    {
     "name": "stdout",
     "output_type": "stream",
     "text": [
      "현재 속도 : 2000km/h, 현재 연료량 : 3800L, 편명 : KE999\n"
     ]
    }
   ],
   "source": [
    "sa1.get_info()"
   ]
  },
  {
   "cell_type": "code",
   "execution_count": null,
   "id": "d0ebf4f4",
   "metadata": {},
   "outputs": [],
   "source": []
  }
 ],
 "metadata": {
  "kernelspec": {
   "display_name": "Python 3 (ipykernel)",
   "language": "python",
   "name": "python3"
  },
  "language_info": {
   "codemirror_mode": {
    "name": "ipython",
    "version": 3
   },
   "file_extension": ".py",
   "mimetype": "text/x-python",
   "name": "python",
   "nbconvert_exporter": "python",
   "pygments_lexer": "ipython3",
   "version": "3.9.12"
  }
 },
 "nbformat": 4,
 "nbformat_minor": 5
}
