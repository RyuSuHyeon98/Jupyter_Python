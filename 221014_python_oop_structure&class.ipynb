{
 "cells": [
  {
   "cell_type": "code",
   "execution_count": null,
   "id": "747eb2ef",
   "metadata": {},
   "outputs": [],
   "source": [
    "# api crawlering은 pandas를 끝낸 이후 react crawlering 또한 나중에"
   ]
  },
  {
   "cell_type": "markdown",
   "id": "74643967",
   "metadata": {},
   "source": [
    "# 구조체(structure)\n",
    "\n",
    "- class 이전에 구조체를 먼저 공부하는 이유는 class가 c언어의 구조체에서 확장된 개념이기 때문\n",
    "\n",
    "- 구조체랑 배열과는 달리 index가 아닌 '변수명'으로 특정 대상을 프로그래밍적으로 묘사하기 위해 사용\n",
    "\n",
    "\n",
    "# 추상화\n",
    "\n",
    "- 추상화는 대상을 간단하게 표현하는 것을 의미\n",
    "\n",
    "- 프로그램적으로 표현 요소를 줄여 필수적인 요소만 표현하는 것이 유리하기에 추상화를 함"
   ]
  },
  {
   "cell_type": "markdown",
   "id": "a453392a",
   "metadata": {},
   "source": [
    "### 변수로 나누는 분류\n",
    "\n",
    "- 동적 변수 언어 : 변수자료형을 정하지 않아 넣고 싶은 자료형을 넣을 수 있음 \n",
    "\n",
    "- 정적 변수 언어 : 변수자료형을 전해 선언하면 그 후로는 선언한 자료형으로만 저장"
   ]
  },
  {
   "cell_type": "code",
   "execution_count": 1,
   "id": "7c90a8fd",
   "metadata": {},
   "outputs": [],
   "source": [
    "# 클래스(구조체) 구현 문법\n",
    "# 설계도처럼 작용하기 때문에 실제 변수를 생성하기 전까지는\n",
    "# 아래 적힌 코드는 따로 기능하지 않음\n",
    "\n",
    "class Cat: # class 뒤에 오는 구조체는 무조건 파스칼케이스(parscall case)로 함 \n",
    "    name = \"\"\n",
    "    age = 0\n",
    "    cat_type = \"\"\n",
    "    owner = \"\""
   ]
  },
  {
   "cell_type": "code",
   "execution_count": 6,
   "id": "4c661e72",
   "metadata": {},
   "outputs": [],
   "source": [
    "# 실제로는 생성을 해야 기능\n",
    "# 클래스 생성을 저장받은 변수를 객체(object) 혹은 인스턴스(instance)라 호칭\n",
    "cat1 = Cat()\n",
    "cat2 = Cat()"
   ]
  },
  {
   "cell_type": "code",
   "execution_count": 7,
   "id": "5946a35f",
   "metadata": {},
   "outputs": [
    {
     "name": "stdout",
     "output_type": "stream",
     "text": [
      "<__main__.Cat object at 0x000001FEC70A2C40>\n",
      "<__main__.Cat object at 0x000001FEC7097700>\n"
     ]
    }
   ],
   "source": [
    "print(cat1)\n",
    "print(cat2)"
   ]
  },
  {
   "cell_type": "code",
   "execution_count": 21,
   "id": "d7d4776e",
   "metadata": {},
   "outputs": [
    {
     "name": "stdout",
     "output_type": "stream",
     "text": [
      "<class '__main__.Cat'>\n"
     ]
    }
   ],
   "source": [
    "print(Cat)"
   ]
  },
  {
   "cell_type": "code",
   "execution_count": null,
   "id": "e3a33e92",
   "metadata": {},
   "outputs": [],
   "source": []
  },
  {
   "cell_type": "code",
   "execution_count": 65,
   "id": "bc06a898",
   "metadata": {},
   "outputs": [],
   "source": [
    "cat1.name = \"Lulu\"\n",
    "cat1.age = 2\n",
    "cat1.cat_type = \"Scottish Fold\"\n",
    "cat1.owner = \"name\""
   ]
  },
  {
   "cell_type": "code",
   "execution_count": 67,
   "id": "06e04400",
   "metadata": {},
   "outputs": [],
   "source": [
    "cat2.name = \"Yuumi\"\n",
    "cat2.age = \"1\"\n",
    "cat2.cat_type = \"Russian Blue\"\n",
    "cat2.owner = \"Nora\""
   ]
  },
  {
   "cell_type": "code",
   "execution_count": 66,
   "id": "96056e3d",
   "metadata": {},
   "outputs": [
    {
     "name": "stdout",
     "output_type": "stream",
     "text": [
      "Lulu\n",
      "2\n",
      "Scottish Fold\n",
      "name\n"
     ]
    }
   ],
   "source": [
    "print(cat1.name)\n",
    "print(cat1.age)\n",
    "print(cat1.cat_type)\n",
    "print(cat1.owner)"
   ]
  },
  {
   "cell_type": "code",
   "execution_count": 68,
   "id": "77b840ba",
   "metadata": {},
   "outputs": [
    {
     "name": "stdout",
     "output_type": "stream",
     "text": [
      "Yuumi\n",
      "1\n",
      "Russian Blue\n",
      "Nora\n"
     ]
    }
   ],
   "source": [
    "print(cat2.name)\n",
    "print(cat2.age)\n",
    "print(cat2.cat_type)\n",
    "print(cat2.owner)"
   ]
  },
  {
   "cell_type": "markdown",
   "id": "4a78374b",
   "metadata": {},
   "source": [
    "# 임의의 구조체 생성"
   ]
  },
  {
   "cell_type": "code",
   "execution_count": 46,
   "id": "9737f031",
   "metadata": {},
   "outputs": [],
   "source": [
    "class Dog:\n",
    "    name = \"\"\n",
    "    age = 0\n",
    "    dog_type = \"\"\n",
    "    gender = \"\""
   ]
  },
  {
   "cell_type": "code",
   "execution_count": 47,
   "id": "f6a713f9",
   "metadata": {},
   "outputs": [],
   "source": [
    "dog1 = Dog()\n",
    "dog2 = Dog()"
   ]
  },
  {
   "cell_type": "code",
   "execution_count": 48,
   "id": "74a0aaf1",
   "metadata": {},
   "outputs": [],
   "source": [
    "dog1.name = \"hobi\"\n",
    "dog1.age = 3\n",
    "dog1.dog_type = \"maltese\"\n",
    "dog1.gender = \"male\""
   ]
  },
  {
   "cell_type": "code",
   "execution_count": 49,
   "id": "90d0c212",
   "metadata": {},
   "outputs": [],
   "source": [
    "dog2.name = \"dobi\"\n",
    "dog2.age = 2\n",
    "dog2.dog_type = \"shihtzu\"\n",
    "dog2.gender = \"female\""
   ]
  },
  {
   "cell_type": "code",
   "execution_count": 50,
   "id": "1ffb20f6",
   "metadata": {},
   "outputs": [
    {
     "name": "stdout",
     "output_type": "stream",
     "text": [
      "hobi\n",
      "3\n",
      "maltese\n",
      "male\n"
     ]
    }
   ],
   "source": [
    "print(dog1.name)\n",
    "print(dog1.age)\n",
    "print(dog1.dog_type)\n",
    "print(dog1.gender)"
   ]
  },
  {
   "cell_type": "code",
   "execution_count": 51,
   "id": "3fe8c2e2",
   "metadata": {},
   "outputs": [
    {
     "name": "stdout",
     "output_type": "stream",
     "text": [
      "dobi\n",
      "2\n",
      "shihtzu\n",
      "female\n"
     ]
    }
   ],
   "source": [
    "print(dog2.name)\n",
    "print(dog2.age)\n",
    "print(dog2.dog_type)\n",
    "print(dog2.gender)"
   ]
  },
  {
   "cell_type": "markdown",
   "id": "56c9ec59",
   "metadata": {},
   "source": [
    "# 구조체와 전용 함수\n",
    "\n",
    "위에서 cat의 대한 정보를 기입했을 때 각각 print()구문으로 조사하는 것은 불편한 작업\n",
    "\n",
    "이때 함수를 선언하면 편하게 조회할 수 있음"
   ]
  },
  {
   "cell_type": "code",
   "execution_count": 29,
   "id": "15360e3b",
   "metadata": {},
   "outputs": [],
   "source": [
    "cat3 = Cat()"
   ]
  },
  {
   "cell_type": "code",
   "execution_count": 30,
   "id": "c7774b8c",
   "metadata": {},
   "outputs": [],
   "source": [
    "cat3.name = \"babo\"\n",
    "cat3.age = \"5\"\n",
    "cat3.cat_type = \"Rusian blue\"\n",
    "cat3.owner = \"wow\""
   ]
  },
  {
   "cell_type": "code",
   "execution_count": 32,
   "id": "98ef7c2b",
   "metadata": {},
   "outputs": [
    {
     "name": "stdout",
     "output_type": "stream",
     "text": [
      "name : babo, age : 5, type : Rusian blue, owner : wow\n"
     ]
    }
   ],
   "source": [
    "print(\"name : %s, age : %s, type : %s, owner : %s\" % \n",
    "      (cat3.name, cat3.age, cat3.cat_type, cat3.owner))"
   ]
  },
  {
   "cell_type": "code",
   "execution_count": 34,
   "id": "4e841638",
   "metadata": {},
   "outputs": [],
   "source": [
    "# Cat list def\n",
    "# def _info():\n",
    "def show_cat_info(cat):\n",
    "    print(\"name : %s, age : %s, type : %s, owner : %s\" % \n",
    "      (cat.name, cat.age, cat.cat_type, cat.owner))"
   ]
  },
  {
   "cell_type": "code",
   "execution_count": 69,
   "id": "43c7cd7f",
   "metadata": {},
   "outputs": [
    {
     "name": "stdout",
     "output_type": "stream",
     "text": [
      "name : Lulu, age : 2, type : Scottish Fold, owner : name\n"
     ]
    }
   ],
   "source": [
    "show_cat_info(cat1)"
   ]
  },
  {
   "cell_type": "code",
   "execution_count": 70,
   "id": "9da02890",
   "metadata": {},
   "outputs": [
    {
     "name": "stdout",
     "output_type": "stream",
     "text": [
      "name : Yuumi, age : 1, type : Russian Blue, owner : Nora\n"
     ]
    }
   ],
   "source": [
    "show_cat_info(cat2)"
   ]
  },
  {
   "cell_type": "code",
   "execution_count": 37,
   "id": "d0fd8951",
   "metadata": {},
   "outputs": [
    {
     "name": "stdout",
     "output_type": "stream",
     "text": [
      "name : babo, age : 5, type : Rusian blue, owner : wow\n"
     ]
    }
   ],
   "source": [
    "show_cat_info(cat3)"
   ]
  },
  {
   "cell_type": "code",
   "execution_count": 38,
   "id": "c140477d",
   "metadata": {},
   "outputs": [],
   "source": [
    "# def show_cat_info(cat) <- 왜 cat 전용함수인가\n",
    "class Dog:\n",
    "    name = \"\"\n",
    "    age = 0\n",
    "    dog_type = \"\"\n",
    "    address = \"\""
   ]
  },
  {
   "cell_type": "code",
   "execution_count": 42,
   "id": "1e97de4d",
   "metadata": {},
   "outputs": [],
   "source": [
    "dog1 = Dog()\n",
    "dog1.name = \"구슬이\"\n",
    "dog1.age = 6\n",
    "dog1.dog_type = \"시고르자브\"\n",
    "dog1.address = \"별내별가람\""
   ]
  },
  {
   "cell_type": "code",
   "execution_count": 43,
   "id": "557a238c",
   "metadata": {},
   "outputs": [
    {
     "ename": "AttributeError",
     "evalue": "'Dog' object has no attribute 'cat_type'",
     "output_type": "error",
     "traceback": [
      "\u001b[1;31m---------------------------------------------------------------------------\u001b[0m",
      "\u001b[1;31mAttributeError\u001b[0m                            Traceback (most recent call last)",
      "Input \u001b[1;32mIn [43]\u001b[0m, in \u001b[0;36m<cell line: 2>\u001b[1;34m()\u001b[0m\n\u001b[0;32m      1\u001b[0m \u001b[38;5;66;03m# \u001b[39;00m\n\u001b[1;32m----> 2\u001b[0m \u001b[43mshow_cat_info\u001b[49m\u001b[43m(\u001b[49m\u001b[43mdog1\u001b[49m\u001b[43m)\u001b[49m\n",
      "Input \u001b[1;32mIn [34]\u001b[0m, in \u001b[0;36mshow_cat_info\u001b[1;34m(cat)\u001b[0m\n\u001b[0;32m      2\u001b[0m \u001b[38;5;28;01mdef\u001b[39;00m \u001b[38;5;21mshow_cat_info\u001b[39m(cat):\n\u001b[0;32m      3\u001b[0m     \u001b[38;5;28mprint\u001b[39m(\u001b[38;5;124m\"\u001b[39m\u001b[38;5;124mname : \u001b[39m\u001b[38;5;132;01m%s\u001b[39;00m\u001b[38;5;124m, age : \u001b[39m\u001b[38;5;132;01m%s\u001b[39;00m\u001b[38;5;124m, type : \u001b[39m\u001b[38;5;132;01m%s\u001b[39;00m\u001b[38;5;124m, owner : \u001b[39m\u001b[38;5;132;01m%s\u001b[39;00m\u001b[38;5;124m\"\u001b[39m \u001b[38;5;241m%\u001b[39m \n\u001b[1;32m----> 4\u001b[0m       (cat\u001b[38;5;241m.\u001b[39mname, cat\u001b[38;5;241m.\u001b[39mage, \u001b[43mcat\u001b[49m\u001b[38;5;241;43m.\u001b[39;49m\u001b[43mcat_type\u001b[49m, cat\u001b[38;5;241m.\u001b[39mowner))\n",
      "\u001b[1;31mAttributeError\u001b[0m: 'Dog' object has no attribute 'cat_type'"
     ]
    }
   ],
   "source": [
    "# dog의 dog_type과 address는 cat 함수 안에 없기 때문에 오류가 발생\n",
    "show_cat_info(dog1)"
   ]
  },
  {
   "cell_type": "markdown",
   "id": "5e00b64f",
   "metadata": {},
   "source": [
    "### 임의로 만든 class에 대해 \n",
    "\n",
    "해당 class를 이용해 생성한 instance의 정보를 콘솔에 찍을 수 있는\n",
    "\n",
    "전용 def를 생성하고 사용\n",
    "\n",
    "def code와 class 및 instance code를 캡쳐하거나 copy해서 제출"
   ]
  },
  {
   "cell_type": "code",
   "execution_count": 52,
   "id": "62a5d1ac",
   "metadata": {},
   "outputs": [],
   "source": [
    "def show_dog_info(dog):\n",
    "    print(\"name : %s, age : %s, type : %s, gender : %s\" % \n",
    "      (dog.name, dog.age, dog.dog_type, dog.gender))"
   ]
  },
  {
   "cell_type": "code",
   "execution_count": 53,
   "id": "924df371",
   "metadata": {},
   "outputs": [
    {
     "name": "stdout",
     "output_type": "stream",
     "text": [
      "name : hobi, age : 3, type : maltese, gender : male\n"
     ]
    }
   ],
   "source": [
    "show_dog_info(dog1)"
   ]
  },
  {
   "cell_type": "code",
   "execution_count": 54,
   "id": "d96a408b",
   "metadata": {},
   "outputs": [
    {
     "name": "stdout",
     "output_type": "stream",
     "text": [
      "name : dobi, age : 2, type : shihtzu, gender : female\n"
     ]
    }
   ],
   "source": [
    "show_dog_info(dog2)"
   ]
  },
  {
   "cell_type": "markdown",
   "id": "aae6dcd3",
   "metadata": {},
   "source": [
    "### 특정 구조체 전용 함수를 외부에 선언할 필요가 있는가?\n",
    "\n",
    "특정 structure에서만 사용할 def를 외부에 빼서 혼란을 야기할 필요가 없음 \n",
    "\n",
    "그래서 class에서는 instnace와 함께 def를 같이 선언\n",
    "\n",
    "이렇게 class 내부에 선언된 def를 가리켜 method라고 명명"
   ]
  },
  {
   "cell_type": "code",
   "execution_count": 15,
   "id": "e0c12e99",
   "metadata": {},
   "outputs": [],
   "source": [
    "class Computer:\n",
    "    spu = \"\"\n",
    "    ram = 0\n",
    "    ssd = 0\n",
    "    \n",
    "    # method는 대부분 eslf를 파라미터로 선언해야 함 \n",
    "    # instance 지칭시에도 self. instance_name을 사용\n",
    "    def get_info(self):\n",
    "        print(\"cpu : %s, ram : %sGb, ssd : %sGb\" % (self.cpu, self.ram, self.ssd))\n",
    "    def get_self_add(self):\n",
    "        print(self) "
   ]
  },
  {
   "cell_type": "code",
   "execution_count": 17,
   "id": "83634675",
   "metadata": {},
   "outputs": [],
   "source": [
    "# computer Object를 생성하고 cpu, ram, ssd에 임의의 값을 지정한 다음\n",
    "# method 호출로 콘솔에 정보를 찍으시오\n",
    "c1 = Computer()\n",
    "c1.cpu = \"AMD라이젠7세대\"\n",
    "c1.ram = 32\n",
    "c1.ssd = 500"
   ]
  },
  {
   "cell_type": "code",
   "execution_count": 18,
   "id": "d4490618",
   "metadata": {},
   "outputs": [
    {
     "name": "stdout",
     "output_type": "stream",
     "text": [
      "cpu : AMD라이젠7세대, ram : 32Gb, ssd : 500Gb\n"
     ]
    }
   ],
   "source": [
    "c1.get_info()"
   ]
  },
  {
   "cell_type": "code",
   "execution_count": 20,
   "id": "20c5a6e0",
   "metadata": {},
   "outputs": [
    {
     "name": "stdout",
     "output_type": "stream",
     "text": [
      "<__main__.Computer object at 0x0000011455BC4BE0>\n",
      "<__main__.Computer object at 0x0000011455BC4BE0>\n"
     ]
    }
   ],
   "source": [
    "c1.get_self_add()\n",
    "print(c1)"
   ]
  },
  {
   "cell_type": "markdown",
   "id": "de215815",
   "metadata": {},
   "source": [
    "### 직접 class 작성\n",
    "\n",
    "- 조회 method 생성\n",
    "- 메모리 구조를 그려 slack에 캡쳐하여 제출"
   ]
  },
  {
   "cell_type": "code",
   "execution_count": 6,
   "id": "a77519c9",
   "metadata": {},
   "outputs": [],
   "source": [
    "class Music:\n",
    "    year = 0\n",
    "    gnere = \"\"\n",
    "    singer = \"\"\n",
    "    \n",
    "    def Music_info(self):\n",
    "        print(\"year = %s, genre = %s, singer = %s\" % (self.year, self.genre, self.singer))"
   ]
  },
  {
   "cell_type": "code",
   "execution_count": 7,
   "id": "b6778564",
   "metadata": {},
   "outputs": [],
   "source": [
    "Shut_Down = Music()\n",
    "Shut_Down.year = 2022\n",
    "Shut_Down.genre = \"K-pop\"\n",
    "Shut_Down.singer = \"BLACKPINK\""
   ]
  },
  {
   "cell_type": "code",
   "execution_count": 8,
   "id": "271fb8af",
   "metadata": {},
   "outputs": [],
   "source": [
    "Love_Dive = Music()\n",
    "Love_Dive.year = 2022\n",
    "Love_Dive.genre = \"K-pop\"\n",
    "Love_Dive.singer = \"IVE\""
   ]
  },
  {
   "cell_type": "code",
   "execution_count": 9,
   "id": "5700717a",
   "metadata": {},
   "outputs": [],
   "source": [
    "Smells_Like_Me = Music()\n",
    "Smells_Like_Me.year = 2022\n",
    "Smells_Like_Me.genre = \"R&B/Soul\"\n",
    "Smells_Like_Me.singer = \"Charile Puth\""
   ]
  },
  {
   "cell_type": "code",
   "execution_count": 11,
   "id": "eb033f8b",
   "metadata": {},
   "outputs": [
    {
     "name": "stdout",
     "output_type": "stream",
     "text": [
      "year = 2022, genre = K-pop, singer = BLACKPINK\n"
     ]
    }
   ],
   "source": [
    "Shut_Down.Music_info()"
   ]
  },
  {
   "cell_type": "code",
   "execution_count": 12,
   "id": "5f91a565",
   "metadata": {},
   "outputs": [
    {
     "name": "stdout",
     "output_type": "stream",
     "text": [
      "year = 2022, genre = K-pop, singer = IVE\n"
     ]
    }
   ],
   "source": [
    "Love_Dive.Music_info()"
   ]
  },
  {
   "cell_type": "code",
   "execution_count": 10,
   "id": "03fcc096",
   "metadata": {},
   "outputs": [
    {
     "name": "stdout",
     "output_type": "stream",
     "text": [
      "year = 2022, genre = R&B/Soul, singer = Charile Puth\n"
     ]
    }
   ],
   "source": [
    "Smells_Like_Me.Music_info()"
   ]
  },
  {
   "cell_type": "markdown",
   "id": "0fba74a8",
   "metadata": {},
   "source": [
    "## 20221017 "
   ]
  },
  {
   "cell_type": "markdown",
   "id": "8c4fe910",
   "metadata": {},
   "source": [
    "### self  keyword\n",
    "\n",
    "self는 class로 생성한 instance의 address를 나타내는 keyword임\n",
    "\n",
    "\n",
    "이렇게 자신의 address를 나타내야 하는 이유는, instance는 양식 같지만 내용물은 독립적으로 저장되기 때문\n",
    "\n",
    "쉽게 instance 스스로를 지칭할 때에 자신을 부르는 명칭의 차이라 보면 이해하기 편함\n",
    "ex) 타인에게 자신을 소개할 때에 이름으로  000가, 000는 이라 부르는 것 보다 \n",
    "'나는', '저는', 등으로 부르는 것이 편하고 격식있게 보이는 것과 같음"
   ]
  },
  {
   "cell_type": "code",
   "execution_count": 42,
   "id": "683dcd0d",
   "metadata": {},
   "outputs": [],
   "source": [
    "# 내용물을 좀 더 편하게 초기화시킬 수 있도록 class를 다시 정의함\n",
    "class Teacher:\n",
    "    name = \"\"\n",
    "    subject = \"\"\n",
    "    age = 0\n",
    "    \n",
    "    # 위 3개의 변수에 값을 한 줄로 넣어주는 매서드(함수)\n",
    "    def save_info(self, name,subject,age): #맴버 method\n",
    "        self.name = name\n",
    "        self.subject = subject\n",
    "        self.age = age"
   ]
  },
  {
   "cell_type": "code",
   "execution_count": 33,
   "id": "4a8119eb",
   "metadata": {},
   "outputs": [],
   "source": [
    "# 강사 instance를 생성하시오\n",
    "# name, subject, age를 임의로 지정\n",
    "# 메모리구조를 그리시오"
   ]
  },
  {
   "cell_type": "code",
   "execution_count": 46,
   "id": "171bf51c",
   "metadata": {},
   "outputs": [
    {
     "name": "stdout",
     "output_type": "stream",
     "text": [
      "SJR math 58\n"
     ]
    }
   ],
   "source": [
    "t1 = Teacher()\n",
    "#t1.name = \"SJR\"\n",
    "#t1.subject = \"math\"\n",
    "#t1.age = \"58\"\n",
    "\n",
    "t1.save_info(\"SJR\", \"math\", 58)\n",
    "\n",
    "print(t1.name, t1.subject, t1.age)"
   ]
  },
  {
   "cell_type": "code",
   "execution_count": 47,
   "id": "8d63c238",
   "metadata": {},
   "outputs": [
    {
     "data": {
      "text/plain": [
       "1186860907648"
      ]
     },
     "execution_count": 47,
     "metadata": {},
     "output_type": "execute_result"
    }
   ],
   "source": [
    "id(t1.save_info)"
   ]
  },
  {
   "cell_type": "code",
   "execution_count": 49,
   "id": "99e9c4ae",
   "metadata": {},
   "outputs": [
    {
     "data": {
      "text/plain": [
       "1186860996784"
      ]
     },
     "execution_count": 49,
     "metadata": {},
     "output_type": "execute_result"
    }
   ],
   "source": [
    "id(Teacher.save_info)"
   ]
  },
  {
   "cell_type": "markdown",
   "id": "476575ad",
   "metadata": {},
   "source": [
    "### 생성자 함수\n",
    "\n",
    "class 내부에 `__init__`라는 명칭으로 선언한 함수는 생성자 함수가 됨 \n",
    "\n",
    "사용자가 class instance를 생성할 때 반드시 입력해야 하는 요소를 강제로 입력해야한 하는 상황을 만들어 줄 수 있음"
   ]
  },
  {
   "cell_type": "code",
   "execution_count": 102,
   "id": "ad54ff20",
   "metadata": {},
   "outputs": [],
   "source": [
    "class Cat:\n",
    "    name = \"\"\n",
    "    weight = 0\n",
    "    color = \"\"\n",
    "    gender = \"\"\n",
    "    \n",
    "    # 아래 함수는 생성자 함수로, 생성시 자동으로 1번만 호출되는 함수\n",
    "    \n",
    "    def __init__(self, name, weight, color, gender):\n",
    "        self.name = name\n",
    "        self.weight = weight\n",
    "        self.color = color\n",
    "        self.gender = gender"
   ]
  },
  {
   "cell_type": "code",
   "execution_count": 103,
   "id": "57cc5fa8",
   "metadata": {},
   "outputs": [],
   "source": [
    "cat1 = Cat(\"Blue\", 3, \"gray\", \"female\")"
   ]
  },
  {
   "cell_type": "code",
   "execution_count": 104,
   "id": "5f4a0d0c",
   "metadata": {},
   "outputs": [
    {
     "name": "stdout",
     "output_type": "stream",
     "text": [
      "Blue 3 gray female\n"
     ]
    }
   ],
   "source": [
    "print(cat1.name, cat1.weight, cat1.color, cat1.gender)"
   ]
  },
  {
   "cell_type": "code",
   "execution_count": 148,
   "id": "eb254df2",
   "metadata": {},
   "outputs": [],
   "source": [
    "# 1. cat1에 대해서 상세정보를 조회할 수 있는 함수 get_into()와\n",
    "# print(\"야옹야옹\")을 실행해주는 함수 meow()를 정의하시고 호출하시오\n",
    "\n",
    "class Cat:\n",
    "    name = \"\" #이름\n",
    "    weight = 0 #체중\n",
    "    color = \"\" #색깔\n",
    "    cat_type = \"\" #종\n",
    "    db = 0 #데시벨\n",
    "    \n",
    "    #method는 특정 대상의 행동이며, 결과는 상태(instance)값에 따라 달라짐\n",
    "    def __init__(self, name, weight, color, cat_type, db):\n",
    "        self.name = name\n",
    "        self.weight = weight\n",
    "        self.color = color\n",
    "        self.cat_type = cat_type\n",
    "        self.db = db\n",
    "        \n",
    "    def get_info(self):\n",
    "        print(\"이름 : %s, 체중 : %skg, 색깔: %s, 종 : %s, 울음소리 : %sdb\" %\n",
    "             (self.name, self.weight, self.color, self.cat_type, self.db))\n",
    "    \n",
    "    def meow(self):\n",
    "        print(\"야옹야옹\" * (self.db // 10))"
   ]
  },
  {
   "cell_type": "code",
   "execution_count": 151,
   "id": "e4336b80",
   "metadata": {},
   "outputs": [
    {
     "name": "stdout",
     "output_type": "stream",
     "text": [
      "이름 : Blue, 체중 : 3kg, 색깔: cream, 종 : Siamese, 울음소리 : 20db\n",
      "야옹야옹야옹야옹\n"
     ]
    }
   ],
   "source": [
    "cat1 = Cat(\"Blue\", 3, \"cream\", \"Siamese\", 20)\n",
    "# print(cat1.name, cat1.weight, cat1.color, cat1.cat_type, cat1.db)\n",
    "cat1.get_info()\n",
    "cat1.meow()"
   ]
  },
  {
   "cell_type": "code",
   "execution_count": 153,
   "id": "a121c160",
   "metadata": {},
   "outputs": [
    {
     "name": "stdout",
     "output_type": "stream",
     "text": [
      "이름 : 메인, 체중 : 3kg, 색깔: 크림색, 종 : 메인쿤, 울음소리 : 100db\n",
      "야옹야옹야옹야옹야옹야옹야옹야옹야옹야옹야옹야옹야옹야옹야옹야옹야옹야옹야옹야옹\n"
     ]
    }
   ],
   "source": [
    "cat2 = Cat(\"메인\",3,\"크림색\",\"메인쿤\",100)\n",
    "cat2.get_info()\n",
    "cat2.meow()"
   ]
  },
  {
   "cell_type": "code",
   "execution_count": 126,
   "id": "8ab7e849",
   "metadata": {},
   "outputs": [],
   "source": [
    "class SmartPhone:\n",
    "    model = \"\"\n",
    "    price = 0\n",
    "    color = \"\"\n",
    "    memory = 0\n",
    "    \n",
    "    def __init__(self, model, price, color, memory):\n",
    "        self.model = model\n",
    "        self.price = price\n",
    "        self.color = color\n",
    "        self.memory = memory\n",
    "        \n",
    "    def phone_info(self):\n",
    "        print(\"이름 : %s, 가격 : %s$, 색깔 : %s, 용량 : %sGB\" %\n",
    "             (self.model, self.price, self.color, self.memory))\n",
    "        \n",
    "    def Hi_Bixby(self):\n",
    "        print(\"굿모닝~\")\n",
    "        \n",
    "    def Hi_Siri(self):\n",
    "        print(\"네 안녕하세요\")"
   ]
  },
  {
   "cell_type": "code",
   "execution_count": 128,
   "id": "cbbe0d4d",
   "metadata": {},
   "outputs": [
    {
     "name": "stdout",
     "output_type": "stream",
     "text": [
      "이름 : iPhone, 가격 : 999$, 색깔 : Deep Purple, 용량 : 258GB\n",
      "네 안녕하세요\n"
     ]
    }
   ],
   "source": [
    "phone1 = SmartPhone(\"iPhone\", 999, \"Deep Purple\", 258)\n",
    "phone1.phone_info()\n",
    "phone1.Hi_Siri()"
   ]
  },
  {
   "cell_type": "code",
   "execution_count": null,
   "id": "bc9a62b9",
   "metadata": {},
   "outputs": [],
   "source": []
  }
 ],
 "metadata": {
  "kernelspec": {
   "display_name": "Python 3 (ipykernel)",
   "language": "python",
   "name": "python3"
  },
  "language_info": {
   "codemirror_mode": {
    "name": "ipython",
    "version": 3
   },
   "file_extension": ".py",
   "mimetype": "text/x-python",
   "name": "python",
   "nbconvert_exporter": "python",
   "pygments_lexer": "ipython3",
   "version": "3.9.12"
  }
 },
 "nbformat": 4,
 "nbformat_minor": 5
}
